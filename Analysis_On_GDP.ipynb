{
  "cells": [
    {
      "cell_type": "markdown",
      "source": [
        "**Importing Libraries**"
      ],
      "metadata": {
        "id": "-4wGJ81mswi_"
      }
    },
    {
      "cell_type": "code",
      "execution_count": null,
      "metadata": {
        "id": "KeCaeq35xSbQ"
      },
      "outputs": [],
      "source": [
        "import pandas as pd\n",
        "import statsmodels.api as sm"
      ]
    },
    {
      "cell_type": "code",
      "source": [
        "from google.colab import drive\n",
        "drive.mount('/content/drive')"
      ],
      "metadata": {
        "colab": {
          "base_uri": "https://localhost:8080/"
        },
        "id": "rXoTd-gi02Xm",
        "outputId": "1669ed68-75b6-4d67-d2b2-ff410c1c20b9"
      },
      "execution_count": null,
      "outputs": [
        {
          "output_type": "stream",
          "name": "stdout",
          "text": [
            "Mounted at /content/drive\n"
          ]
        }
      ]
    },
    {
      "cell_type": "markdown",
      "source": [
        "**Adding the Dataset**"
      ],
      "metadata": {
        "id": "9ksiMtafs3qg"
      }
    },
    {
      "cell_type": "code",
      "execution_count": null,
      "metadata": {
        "id": "ZsomZ0-yxq5J"
      },
      "outputs": [],
      "source": [
        "file = \"/content/drive/MyDrive/countrybrandingdatafeb162024.xlsx\"\n",
        "df_gdp = pd.read_excel(file, sheet_name=\"DV GDP_PPP\", index_col=0)\n",
        "df_iv = pd.read_excel(file, sheet_name=\"IVs factors\")"
      ]
    },
    {
      "cell_type": "code",
      "execution_count": null,
      "metadata": {
        "colab": {
          "base_uri": "https://localhost:8080/",
          "height": 455
        },
        "id": "bsTQsel6yPdl",
        "outputId": "a0bdb899-4592-4d96-f321-ee3f8bfe0961"
      },
      "outputs": [
        {
          "output_type": "execute_result",
          "data": {
            "text/plain": [
              "                       2016          2017          2018          2019  \\\n",
              "country                                                                 \n",
              "Algeria        11685.451418  11809.483033  12007.774713  12120.406374   \n",
              "Argentina      20307.870052  23597.117753  23294.098675  23007.836592   \n",
              "Australia      47249.434815  48400.245788  50192.957328  51909.015102   \n",
              "Austria        52684.017113  54172.986789  56937.944283  59704.223378   \n",
              "Azerbaijan     14371.022741  14121.406936  14551.200114  15054.544607   \n",
              "...                     ...           ...           ...           ...   \n",
              "United States  57866.744934  59907.754261  62823.309438  65120.394663   \n",
              "Uruguay        22618.691776  23384.740189  23950.393329  24551.746168   \n",
              "Uzbekistan      6796.904892   6840.709860   7289.329501   7717.744117   \n",
              "Viet Nam        8277.684129   9050.688534   9867.667881  10686.804055   \n",
              "Zimbabwe        2724.452746   2331.780833   2457.309859   2296.845429   \n",
              "\n",
              "                       2020          2021          2022  \n",
              "country                                                  \n",
              "Algeria        11452.226624  12170.193777  13209.596769  \n",
              "Argentina      20787.857871  23754.361390  26504.590562  \n",
              "Australia      53066.490989  55947.052228  62625.357642  \n",
              "Austria        57258.690227  59962.827052  67935.847974  \n",
              "Azerbaijan     14495.656972  15927.210148  17764.445589  \n",
              "...                     ...           ...           ...  \n",
              "United States  63528.634303  70219.472454  76398.591742  \n",
              "Uruguay        23309.786523  25663.410607  28841.985700  \n",
              "Uzbekistan      7822.661958   8607.527450   9532.511865  \n",
              "Viet Nam       11036.000528  11727.795733  13456.551425  \n",
              "Zimbabwe        2101.804597   2333.973632   2530.645987  \n",
              "\n",
              "[87 rows x 7 columns]"
            ],
            "text/html": [
              "\n",
              "  <div id=\"df-1f77cb9d-b69c-4305-9d95-8c9fcdde399c\" class=\"colab-df-container\">\n",
              "    <div>\n",
              "<style scoped>\n",
              "    .dataframe tbody tr th:only-of-type {\n",
              "        vertical-align: middle;\n",
              "    }\n",
              "\n",
              "    .dataframe tbody tr th {\n",
              "        vertical-align: top;\n",
              "    }\n",
              "\n",
              "    .dataframe thead th {\n",
              "        text-align: right;\n",
              "    }\n",
              "</style>\n",
              "<table border=\"1\" class=\"dataframe\">\n",
              "  <thead>\n",
              "    <tr style=\"text-align: right;\">\n",
              "      <th></th>\n",
              "      <th>2016</th>\n",
              "      <th>2017</th>\n",
              "      <th>2018</th>\n",
              "      <th>2019</th>\n",
              "      <th>2020</th>\n",
              "      <th>2021</th>\n",
              "      <th>2022</th>\n",
              "    </tr>\n",
              "    <tr>\n",
              "      <th>country</th>\n",
              "      <th></th>\n",
              "      <th></th>\n",
              "      <th></th>\n",
              "      <th></th>\n",
              "      <th></th>\n",
              "      <th></th>\n",
              "      <th></th>\n",
              "    </tr>\n",
              "  </thead>\n",
              "  <tbody>\n",
              "    <tr>\n",
              "      <th>Algeria</th>\n",
              "      <td>11685.451418</td>\n",
              "      <td>11809.483033</td>\n",
              "      <td>12007.774713</td>\n",
              "      <td>12120.406374</td>\n",
              "      <td>11452.226624</td>\n",
              "      <td>12170.193777</td>\n",
              "      <td>13209.596769</td>\n",
              "    </tr>\n",
              "    <tr>\n",
              "      <th>Argentina</th>\n",
              "      <td>20307.870052</td>\n",
              "      <td>23597.117753</td>\n",
              "      <td>23294.098675</td>\n",
              "      <td>23007.836592</td>\n",
              "      <td>20787.857871</td>\n",
              "      <td>23754.361390</td>\n",
              "      <td>26504.590562</td>\n",
              "    </tr>\n",
              "    <tr>\n",
              "      <th>Australia</th>\n",
              "      <td>47249.434815</td>\n",
              "      <td>48400.245788</td>\n",
              "      <td>50192.957328</td>\n",
              "      <td>51909.015102</td>\n",
              "      <td>53066.490989</td>\n",
              "      <td>55947.052228</td>\n",
              "      <td>62625.357642</td>\n",
              "    </tr>\n",
              "    <tr>\n",
              "      <th>Austria</th>\n",
              "      <td>52684.017113</td>\n",
              "      <td>54172.986789</td>\n",
              "      <td>56937.944283</td>\n",
              "      <td>59704.223378</td>\n",
              "      <td>57258.690227</td>\n",
              "      <td>59962.827052</td>\n",
              "      <td>67935.847974</td>\n",
              "    </tr>\n",
              "    <tr>\n",
              "      <th>Azerbaijan</th>\n",
              "      <td>14371.022741</td>\n",
              "      <td>14121.406936</td>\n",
              "      <td>14551.200114</td>\n",
              "      <td>15054.544607</td>\n",
              "      <td>14495.656972</td>\n",
              "      <td>15927.210148</td>\n",
              "      <td>17764.445589</td>\n",
              "    </tr>\n",
              "    <tr>\n",
              "      <th>...</th>\n",
              "      <td>...</td>\n",
              "      <td>...</td>\n",
              "      <td>...</td>\n",
              "      <td>...</td>\n",
              "      <td>...</td>\n",
              "      <td>...</td>\n",
              "      <td>...</td>\n",
              "    </tr>\n",
              "    <tr>\n",
              "      <th>United States</th>\n",
              "      <td>57866.744934</td>\n",
              "      <td>59907.754261</td>\n",
              "      <td>62823.309438</td>\n",
              "      <td>65120.394663</td>\n",
              "      <td>63528.634303</td>\n",
              "      <td>70219.472454</td>\n",
              "      <td>76398.591742</td>\n",
              "    </tr>\n",
              "    <tr>\n",
              "      <th>Uruguay</th>\n",
              "      <td>22618.691776</td>\n",
              "      <td>23384.740189</td>\n",
              "      <td>23950.393329</td>\n",
              "      <td>24551.746168</td>\n",
              "      <td>23309.786523</td>\n",
              "      <td>25663.410607</td>\n",
              "      <td>28841.985700</td>\n",
              "    </tr>\n",
              "    <tr>\n",
              "      <th>Uzbekistan</th>\n",
              "      <td>6796.904892</td>\n",
              "      <td>6840.709860</td>\n",
              "      <td>7289.329501</td>\n",
              "      <td>7717.744117</td>\n",
              "      <td>7822.661958</td>\n",
              "      <td>8607.527450</td>\n",
              "      <td>9532.511865</td>\n",
              "    </tr>\n",
              "    <tr>\n",
              "      <th>Viet Nam</th>\n",
              "      <td>8277.684129</td>\n",
              "      <td>9050.688534</td>\n",
              "      <td>9867.667881</td>\n",
              "      <td>10686.804055</td>\n",
              "      <td>11036.000528</td>\n",
              "      <td>11727.795733</td>\n",
              "      <td>13456.551425</td>\n",
              "    </tr>\n",
              "    <tr>\n",
              "      <th>Zimbabwe</th>\n",
              "      <td>2724.452746</td>\n",
              "      <td>2331.780833</td>\n",
              "      <td>2457.309859</td>\n",
              "      <td>2296.845429</td>\n",
              "      <td>2101.804597</td>\n",
              "      <td>2333.973632</td>\n",
              "      <td>2530.645987</td>\n",
              "    </tr>\n",
              "  </tbody>\n",
              "</table>\n",
              "<p>87 rows × 7 columns</p>\n",
              "</div>\n",
              "    <div class=\"colab-df-buttons\">\n",
              "\n",
              "  <div class=\"colab-df-container\">\n",
              "    <button class=\"colab-df-convert\" onclick=\"convertToInteractive('df-1f77cb9d-b69c-4305-9d95-8c9fcdde399c')\"\n",
              "            title=\"Convert this dataframe to an interactive table.\"\n",
              "            style=\"display:none;\">\n",
              "\n",
              "  <svg xmlns=\"http://www.w3.org/2000/svg\" height=\"24px\" viewBox=\"0 -960 960 960\">\n",
              "    <path d=\"M120-120v-720h720v720H120Zm60-500h600v-160H180v160Zm220 220h160v-160H400v160Zm0 220h160v-160H400v160ZM180-400h160v-160H180v160Zm440 0h160v-160H620v160ZM180-180h160v-160H180v160Zm440 0h160v-160H620v160Z\"/>\n",
              "  </svg>\n",
              "    </button>\n",
              "\n",
              "  <style>\n",
              "    .colab-df-container {\n",
              "      display:flex;\n",
              "      gap: 12px;\n",
              "    }\n",
              "\n",
              "    .colab-df-convert {\n",
              "      background-color: #E8F0FE;\n",
              "      border: none;\n",
              "      border-radius: 50%;\n",
              "      cursor: pointer;\n",
              "      display: none;\n",
              "      fill: #1967D2;\n",
              "      height: 32px;\n",
              "      padding: 0 0 0 0;\n",
              "      width: 32px;\n",
              "    }\n",
              "\n",
              "    .colab-df-convert:hover {\n",
              "      background-color: #E2EBFA;\n",
              "      box-shadow: 0px 1px 2px rgba(60, 64, 67, 0.3), 0px 1px 3px 1px rgba(60, 64, 67, 0.15);\n",
              "      fill: #174EA6;\n",
              "    }\n",
              "\n",
              "    .colab-df-buttons div {\n",
              "      margin-bottom: 4px;\n",
              "    }\n",
              "\n",
              "    [theme=dark] .colab-df-convert {\n",
              "      background-color: #3B4455;\n",
              "      fill: #D2E3FC;\n",
              "    }\n",
              "\n",
              "    [theme=dark] .colab-df-convert:hover {\n",
              "      background-color: #434B5C;\n",
              "      box-shadow: 0px 1px 3px 1px rgba(0, 0, 0, 0.15);\n",
              "      filter: drop-shadow(0px 1px 2px rgba(0, 0, 0, 0.3));\n",
              "      fill: #FFFFFF;\n",
              "    }\n",
              "  </style>\n",
              "\n",
              "    <script>\n",
              "      const buttonEl =\n",
              "        document.querySelector('#df-1f77cb9d-b69c-4305-9d95-8c9fcdde399c button.colab-df-convert');\n",
              "      buttonEl.style.display =\n",
              "        google.colab.kernel.accessAllowed ? 'block' : 'none';\n",
              "\n",
              "      async function convertToInteractive(key) {\n",
              "        const element = document.querySelector('#df-1f77cb9d-b69c-4305-9d95-8c9fcdde399c');\n",
              "        const dataTable =\n",
              "          await google.colab.kernel.invokeFunction('convertToInteractive',\n",
              "                                                    [key], {});\n",
              "        if (!dataTable) return;\n",
              "\n",
              "        const docLinkHtml = 'Like what you see? Visit the ' +\n",
              "          '<a target=\"_blank\" href=https://colab.research.google.com/notebooks/data_table.ipynb>data table notebook</a>'\n",
              "          + ' to learn more about interactive tables.';\n",
              "        element.innerHTML = '';\n",
              "        dataTable['output_type'] = 'display_data';\n",
              "        await google.colab.output.renderOutput(dataTable, element);\n",
              "        const docLink = document.createElement('div');\n",
              "        docLink.innerHTML = docLinkHtml;\n",
              "        element.appendChild(docLink);\n",
              "      }\n",
              "    </script>\n",
              "  </div>\n",
              "\n",
              "\n",
              "<div id=\"df-3e92f8ca-fae1-41eb-bf52-d95ab79eb557\">\n",
              "  <button class=\"colab-df-quickchart\" onclick=\"quickchart('df-3e92f8ca-fae1-41eb-bf52-d95ab79eb557')\"\n",
              "            title=\"Suggest charts\"\n",
              "            style=\"display:none;\">\n",
              "\n",
              "<svg xmlns=\"http://www.w3.org/2000/svg\" height=\"24px\"viewBox=\"0 0 24 24\"\n",
              "     width=\"24px\">\n",
              "    <g>\n",
              "        <path d=\"M19 3H5c-1.1 0-2 .9-2 2v14c0 1.1.9 2 2 2h14c1.1 0 2-.9 2-2V5c0-1.1-.9-2-2-2zM9 17H7v-7h2v7zm4 0h-2V7h2v10zm4 0h-2v-4h2v4z\"/>\n",
              "    </g>\n",
              "</svg>\n",
              "  </button>\n",
              "\n",
              "<style>\n",
              "  .colab-df-quickchart {\n",
              "      --bg-color: #E8F0FE;\n",
              "      --fill-color: #1967D2;\n",
              "      --hover-bg-color: #E2EBFA;\n",
              "      --hover-fill-color: #174EA6;\n",
              "      --disabled-fill-color: #AAA;\n",
              "      --disabled-bg-color: #DDD;\n",
              "  }\n",
              "\n",
              "  [theme=dark] .colab-df-quickchart {\n",
              "      --bg-color: #3B4455;\n",
              "      --fill-color: #D2E3FC;\n",
              "      --hover-bg-color: #434B5C;\n",
              "      --hover-fill-color: #FFFFFF;\n",
              "      --disabled-bg-color: #3B4455;\n",
              "      --disabled-fill-color: #666;\n",
              "  }\n",
              "\n",
              "  .colab-df-quickchart {\n",
              "    background-color: var(--bg-color);\n",
              "    border: none;\n",
              "    border-radius: 50%;\n",
              "    cursor: pointer;\n",
              "    display: none;\n",
              "    fill: var(--fill-color);\n",
              "    height: 32px;\n",
              "    padding: 0;\n",
              "    width: 32px;\n",
              "  }\n",
              "\n",
              "  .colab-df-quickchart:hover {\n",
              "    background-color: var(--hover-bg-color);\n",
              "    box-shadow: 0 1px 2px rgba(60, 64, 67, 0.3), 0 1px 3px 1px rgba(60, 64, 67, 0.15);\n",
              "    fill: var(--button-hover-fill-color);\n",
              "  }\n",
              "\n",
              "  .colab-df-quickchart-complete:disabled,\n",
              "  .colab-df-quickchart-complete:disabled:hover {\n",
              "    background-color: var(--disabled-bg-color);\n",
              "    fill: var(--disabled-fill-color);\n",
              "    box-shadow: none;\n",
              "  }\n",
              "\n",
              "  .colab-df-spinner {\n",
              "    border: 2px solid var(--fill-color);\n",
              "    border-color: transparent;\n",
              "    border-bottom-color: var(--fill-color);\n",
              "    animation:\n",
              "      spin 1s steps(1) infinite;\n",
              "  }\n",
              "\n",
              "  @keyframes spin {\n",
              "    0% {\n",
              "      border-color: transparent;\n",
              "      border-bottom-color: var(--fill-color);\n",
              "      border-left-color: var(--fill-color);\n",
              "    }\n",
              "    20% {\n",
              "      border-color: transparent;\n",
              "      border-left-color: var(--fill-color);\n",
              "      border-top-color: var(--fill-color);\n",
              "    }\n",
              "    30% {\n",
              "      border-color: transparent;\n",
              "      border-left-color: var(--fill-color);\n",
              "      border-top-color: var(--fill-color);\n",
              "      border-right-color: var(--fill-color);\n",
              "    }\n",
              "    40% {\n",
              "      border-color: transparent;\n",
              "      border-right-color: var(--fill-color);\n",
              "      border-top-color: var(--fill-color);\n",
              "    }\n",
              "    60% {\n",
              "      border-color: transparent;\n",
              "      border-right-color: var(--fill-color);\n",
              "    }\n",
              "    80% {\n",
              "      border-color: transparent;\n",
              "      border-right-color: var(--fill-color);\n",
              "      border-bottom-color: var(--fill-color);\n",
              "    }\n",
              "    90% {\n",
              "      border-color: transparent;\n",
              "      border-bottom-color: var(--fill-color);\n",
              "    }\n",
              "  }\n",
              "</style>\n",
              "\n",
              "  <script>\n",
              "    async function quickchart(key) {\n",
              "      const quickchartButtonEl =\n",
              "        document.querySelector('#' + key + ' button');\n",
              "      quickchartButtonEl.disabled = true;  // To prevent multiple clicks.\n",
              "      quickchartButtonEl.classList.add('colab-df-spinner');\n",
              "      try {\n",
              "        const charts = await google.colab.kernel.invokeFunction(\n",
              "            'suggestCharts', [key], {});\n",
              "      } catch (error) {\n",
              "        console.error('Error during call to suggestCharts:', error);\n",
              "      }\n",
              "      quickchartButtonEl.classList.remove('colab-df-spinner');\n",
              "      quickchartButtonEl.classList.add('colab-df-quickchart-complete');\n",
              "    }\n",
              "    (() => {\n",
              "      let quickchartButtonEl =\n",
              "        document.querySelector('#df-3e92f8ca-fae1-41eb-bf52-d95ab79eb557 button');\n",
              "      quickchartButtonEl.style.display =\n",
              "        google.colab.kernel.accessAllowed ? 'block' : 'none';\n",
              "    })();\n",
              "  </script>\n",
              "</div>\n",
              "    </div>\n",
              "  </div>\n"
            ],
            "application/vnd.google.colaboratory.intrinsic+json": {
              "type": "dataframe",
              "variable_name": "df_gdp",
              "summary": "{\n  \"name\": \"df_gdp\",\n  \"rows\": 87,\n  \"fields\": [\n    {\n      \"column\": 2016,\n      \"properties\": {\n        \"dtype\": \"number\",\n        \"std\": 21554.1564118628,\n        \"min\": 2724.452746420374,\n        \"max\": 113365.17608226545,\n        \"num_unique_values\": 87,\n        \"samples\": [\n          16231.254492939954,\n          11685.451417918184,\n          31312.752299687843\n        ],\n        \"semantic_type\": \"\",\n        \"description\": \"\"\n      }\n    },\n    {\n      \"column\": 2017,\n      \"properties\": {\n        \"dtype\": \"number\",\n        \"std\": 22596.860181151646,\n        \"min\": 2331.7808328308556,\n        \"max\": 114985.8422359888,\n        \"num_unique_values\": 87,\n        \"samples\": [\n          17008.03842425626,\n          11809.483033384611,\n          33821.93290847004\n        ],\n        \"semantic_type\": \"\",\n        \"description\": \"\"\n      }\n    },\n    {\n      \"column\": 2018,\n      \"properties\": {\n        \"dtype\": \"number\",\n        \"std\": 23433.27156852704,\n        \"min\": 2457.3098590522955,\n        \"max\": 116498.51208091943,\n        \"num_unique_values\": 87,\n        \"samples\": [\n          18093.819783442734,\n          12007.774712831371,\n          36410.1220937377\n        ],\n        \"semantic_type\": \"\",\n        \"description\": \"\"\n      }\n    },\n    {\n      \"column\": 2019,\n      \"properties\": {\n        \"dtype\": \"number\",\n        \"std\": 24150.921057965974,\n        \"min\": 2296.845429303092,\n        \"max\": 119541.7584439373,\n        \"num_unique_values\": 87,\n        \"samples\": [\n          18760.412403010276,\n          12120.406373891152,\n          39007.1659628423\n        ],\n        \"semantic_type\": \"\",\n        \"description\": \"\"\n      }\n    },\n    {\n      \"column\": 2020,\n      \"properties\": {\n        \"dtype\": \"number\",\n        \"std\": 23987.646602057357,\n        \"min\": 2101.8045967945254,\n        \"max\": 120010.20830827263,\n        \"num_unique_values\": 87,\n        \"samples\": [\n          17810.250752843287,\n          11452.22662376598,\n          39441.84908443602\n        ],\n        \"semantic_type\": \"\",\n        \"description\": \"\"\n      }\n    },\n    {\n      \"column\": 2021,\n      \"properties\": {\n        \"dtype\": \"number\",\n        \"std\": 26610.46970148831,\n        \"min\": 2333.9736317748584,\n        \"max\": 131511.02015503327,\n        \"num_unique_values\": 87,\n        \"samples\": [\n          18855.023272676943,\n          12170.193776558912,\n          43476.85422594286\n        ],\n        \"semantic_type\": \"\",\n        \"description\": \"\"\n      }\n    },\n    {\n      \"column\": 2022,\n      \"properties\": {\n        \"dtype\": \"number\",\n        \"std\": 30233.731744580637,\n        \"min\": 2530.6459867174453,\n        \"max\": 142213.85168524634,\n        \"num_unique_values\": 86,\n        \"samples\": [\n          20671.684920165564,\n          13209.59676859633,\n          15904.848362637038\n        ],\n        \"semantic_type\": \"\",\n        \"description\": \"\"\n      }\n    }\n  ]\n}"
            }
          },
          "metadata": {},
          "execution_count": 4
        }
      ],
      "source": [
        "df_gdp"
      ]
    },
    {
      "source": [
        "# @title 2017\n",
        "\n",
        "from matplotlib import pyplot as plt\n",
        "df_gdp[2017].plot(kind='hist', bins=20, title=2017)\n",
        "plt.gca().spines[['top', 'right',]].set_visible(False)"
      ],
      "cell_type": "code",
      "execution_count": null,
      "outputs": [
        {
          "output_type": "display_data",
          "data": {
            "text/plain": [
              "<Figure size 640x480 with 1 Axes>"
            ],
            "image/png": "[encoded data removed]"
          },
          "metadata": {}
        }
      ],
      "metadata": {
        "colab": {
          "base_uri": "https://localhost:8080/",
          "height": 452
        },
        "id": "ToAx5-vZWsNK",
        "outputId": "db5807a7-c43a-4476-90fa-d58e3d37b89f"
      }
    },
    {
      "cell_type": "code",
      "execution_count": null,
      "metadata": {
        "colab": {
          "base_uri": "https://localhost:8080/",
          "height": 475
        },
        "id": "iwVIP_FDyUg2",
        "outputId": "7eff5111-a76b-4562-9f65-957687de4ec9"
      },
      "outputs": [
        {
          "output_type": "execute_result",
          "data": {
            "text/plain": [
              "     Year           Brand  ENTREPRENEURSHIP  QUALITY OF LIFE  SOCIAL PURPOSE  \\\n",
              "0    2016         Algeria          0.886768         1.261772        0.203708   \n",
              "1    2016       Argentina          8.079598        12.026906       14.489881   \n",
              "2    2016       Australia         70.436610        90.764070       90.823771   \n",
              "3    2016         Austria         59.247783        73.448695       77.106312   \n",
              "4    2016      Azerbaijan          1.671710         3.159704        1.539496   \n",
              "..    ...             ...               ...              ...             ...   \n",
              "531  2022  United Kingdom         86.403834        79.628540       71.896213   \n",
              "532  2022   United States         99.731665        53.158975       46.652274   \n",
              "533  2022         Uruguay          4.627600         8.667226       11.255599   \n",
              "534  2022      Uzbekistan          1.587867         0.495599        2.033508   \n",
              "535  2022          Zambia          0.000000         2.859631        3.261324   \n",
              "\n",
              "     CULTURAL INFLUENCE  OPEN FOR BUSINESS  ADVENTURE       POWER   HERITAGE  \\\n",
              "0              0.000000          34.180470   2.995269    6.476640   2.264717   \n",
              "1             24.504258          30.600420  60.182326    3.458293  42.130897   \n",
              "2             53.479153          68.656392  70.613007   24.834436  32.117963   \n",
              "3             37.663487          66.337010  35.716511    8.974374  49.510705   \n",
              "4              1.715254          37.746434   4.412014    4.836940   3.070438   \n",
              "..                  ...                ...        ...         ...        ...   \n",
              "531           79.536933          57.484105  37.370709   79.486629  61.468108   \n",
              "532           88.762082          50.844166  42.357155  100.000000  51.392052   \n",
              "533            5.586681          58.730005  22.914893    1.102120  10.347474   \n",
              "534            0.655587          41.598282   4.545857    5.683174   1.538895   \n",
              "535            2.711025          49.039196   6.811760    2.831749   1.788897   \n",
              "\n",
              "        MOVERS    OVERALL  \n",
              "0    11.990009   0.000000  \n",
              "1    13.720344  18.376393  \n",
              "2    51.123450  94.910648  \n",
              "3    11.188092  71.207580  \n",
              "4    35.930836   5.499866  \n",
              "..         ...        ...  \n",
              "531  12.414818  92.401812  \n",
              "532  32.391377  97.120787  \n",
              "533   3.043958   9.849606  \n",
              "534  12.631457   0.486885  \n",
              "535  19.966714   3.952310  \n",
              "\n",
              "[536 rows x 12 columns]"
            ],
            "text/html": [
              "\n",
              "  <div id=\"df-080ffae4-b5f1-4f26-a1a9-57ddf64df3b8\" class=\"colab-df-container\">\n",
              "    <div>\n",
              "<style scoped>\n",
              "    .dataframe tbody tr th:only-of-type {\n",
              "        vertical-align: middle;\n",
              "    }\n",
              "\n",
              "    .dataframe tbody tr th {\n",
              "        vertical-align: top;\n",
              "    }\n",
              "\n",
              "    .dataframe thead th {\n",
              "        text-align: right;\n",
              "    }\n",
              "</style>\n",
              "<table border=\"1\" class=\"dataframe\">\n",
              "  <thead>\n",
              "    <tr style=\"text-align: right;\">\n",
              "      <th></th>\n",
              "      <th>Year</th>\n",
              "      <th>Brand</th>\n",
              "      <th>ENTREPRENEURSHIP</th>\n",
              "      <th>QUALITY OF LIFE</th>\n",
              "      <th>SOCIAL PURPOSE</th>\n",
              "      <th>CULTURAL INFLUENCE</th>\n",
              "      <th>OPEN FOR BUSINESS</th>\n",
              "      <th>ADVENTURE</th>\n",
              "      <th>POWER</th>\n",
              "      <th>HERITAGE</th>\n",
              "      <th>MOVERS</th>\n",
              "      <th>OVERALL</th>\n",
              "    </tr>\n",
              "  </thead>\n",
              "  <tbody>\n",
              "    <tr>\n",
              "      <th>0</th>\n",
              "      <td>2016</td>\n",
              "      <td>Algeria</td>\n",
              "      <td>0.886768</td>\n",
              "      <td>1.261772</td>\n",
              "      <td>0.203708</td>\n",
              "      <td>0.000000</td>\n",
              "      <td>34.180470</td>\n",
              "      <td>2.995269</td>\n",
              "      <td>6.476640</td>\n",
              "      <td>2.264717</td>\n",
              "      <td>11.990009</td>\n",
              "      <td>0.000000</td>\n",
              "    </tr>\n",
              "    <tr>\n",
              "      <th>1</th>\n",
              "      <td>2016</td>\n",
              "      <td>Argentina</td>\n",
              "      <td>8.079598</td>\n",
              "      <td>12.026906</td>\n",
              "      <td>14.489881</td>\n",
              "      <td>24.504258</td>\n",
              "      <td>30.600420</td>\n",
              "      <td>60.182326</td>\n",
              "      <td>3.458293</td>\n",
              "      <td>42.130897</td>\n",
              "      <td>13.720344</td>\n",
              "      <td>18.376393</td>\n",
              "    </tr>\n",
              "    <tr>\n",
              "      <th>2</th>\n",
              "      <td>2016</td>\n",
              "      <td>Australia</td>\n",
              "      <td>70.436610</td>\n",
              "      <td>90.764070</td>\n",
              "      <td>90.823771</td>\n",
              "      <td>53.479153</td>\n",
              "      <td>68.656392</td>\n",
              "      <td>70.613007</td>\n",
              "      <td>24.834436</td>\n",
              "      <td>32.117963</td>\n",
              "      <td>51.123450</td>\n",
              "      <td>94.910648</td>\n",
              "    </tr>\n",
              "    <tr>\n",
              "      <th>3</th>\n",
              "      <td>2016</td>\n",
              "      <td>Austria</td>\n",
              "      <td>59.247783</td>\n",
              "      <td>73.448695</td>\n",
              "      <td>77.106312</td>\n",
              "      <td>37.663487</td>\n",
              "      <td>66.337010</td>\n",
              "      <td>35.716511</td>\n",
              "      <td>8.974374</td>\n",
              "      <td>49.510705</td>\n",
              "      <td>11.188092</td>\n",
              "      <td>71.207580</td>\n",
              "    </tr>\n",
              "    <tr>\n",
              "      <th>4</th>\n",
              "      <td>2016</td>\n",
              "      <td>Azerbaijan</td>\n",
              "      <td>1.671710</td>\n",
              "      <td>3.159704</td>\n",
              "      <td>1.539496</td>\n",
              "      <td>1.715254</td>\n",
              "      <td>37.746434</td>\n",
              "      <td>4.412014</td>\n",
              "      <td>4.836940</td>\n",
              "      <td>3.070438</td>\n",
              "      <td>35.930836</td>\n",
              "      <td>5.499866</td>\n",
              "    </tr>\n",
              "    <tr>\n",
              "      <th>...</th>\n",
              "      <td>...</td>\n",
              "      <td>...</td>\n",
              "      <td>...</td>\n",
              "      <td>...</td>\n",
              "      <td>...</td>\n",
              "      <td>...</td>\n",
              "      <td>...</td>\n",
              "      <td>...</td>\n",
              "      <td>...</td>\n",
              "      <td>...</td>\n",
              "      <td>...</td>\n",
              "      <td>...</td>\n",
              "    </tr>\n",
              "    <tr>\n",
              "      <th>531</th>\n",
              "      <td>2022</td>\n",
              "      <td>United Kingdom</td>\n",
              "      <td>86.403834</td>\n",
              "      <td>79.628540</td>\n",
              "      <td>71.896213</td>\n",
              "      <td>79.536933</td>\n",
              "      <td>57.484105</td>\n",
              "      <td>37.370709</td>\n",
              "      <td>79.486629</td>\n",
              "      <td>61.468108</td>\n",
              "      <td>12.414818</td>\n",
              "      <td>92.401812</td>\n",
              "    </tr>\n",
              "    <tr>\n",
              "      <th>532</th>\n",
              "      <td>2022</td>\n",
              "      <td>United States</td>\n",
              "      <td>99.731665</td>\n",
              "      <td>53.158975</td>\n",
              "      <td>46.652274</td>\n",
              "      <td>88.762082</td>\n",
              "      <td>50.844166</td>\n",
              "      <td>42.357155</td>\n",
              "      <td>100.000000</td>\n",
              "      <td>51.392052</td>\n",
              "      <td>32.391377</td>\n",
              "      <td>97.120787</td>\n",
              "    </tr>\n",
              "    <tr>\n",
              "      <th>533</th>\n",
              "      <td>2022</td>\n",
              "      <td>Uruguay</td>\n",
              "      <td>4.627600</td>\n",
              "      <td>8.667226</td>\n",
              "      <td>11.255599</td>\n",
              "      <td>5.586681</td>\n",
              "      <td>58.730005</td>\n",
              "      <td>22.914893</td>\n",
              "      <td>1.102120</td>\n",
              "      <td>10.347474</td>\n",
              "      <td>3.043958</td>\n",
              "      <td>9.849606</td>\n",
              "    </tr>\n",
              "    <tr>\n",
              "      <th>534</th>\n",
              "      <td>2022</td>\n",
              "      <td>Uzbekistan</td>\n",
              "      <td>1.587867</td>\n",
              "      <td>0.495599</td>\n",
              "      <td>2.033508</td>\n",
              "      <td>0.655587</td>\n",
              "      <td>41.598282</td>\n",
              "      <td>4.545857</td>\n",
              "      <td>5.683174</td>\n",
              "      <td>1.538895</td>\n",
              "      <td>12.631457</td>\n",
              "      <td>0.486885</td>\n",
              "    </tr>\n",
              "    <tr>\n",
              "      <th>535</th>\n",
              "      <td>2022</td>\n",
              "      <td>Zambia</td>\n",
              "      <td>0.000000</td>\n",
              "      <td>2.859631</td>\n",
              "      <td>3.261324</td>\n",
              "      <td>2.711025</td>\n",
              "      <td>49.039196</td>\n",
              "      <td>6.811760</td>\n",
              "      <td>2.831749</td>\n",
              "      <td>1.788897</td>\n",
              "      <td>19.966714</td>\n",
              "      <td>3.952310</td>\n",
              "    </tr>\n",
              "  </tbody>\n",
              "</table>\n",
              "<p>536 rows × 12 columns</p>\n",
              "</div>\n",
              "    <div class=\"colab-df-buttons\">\n",
              "\n",
              "  <div class=\"colab-df-container\">\n",
              "    <button class=\"colab-df-convert\" onclick=\"convertToInteractive('df-080ffae4-b5f1-4f26-a1a9-57ddf64df3b8')\"\n",
              "            title=\"Convert this dataframe to an interactive table.\"\n",
              "            style=\"display:none;\">\n",
              "\n",
              "  <svg xmlns=\"http://www.w3.org/2000/svg\" height=\"24px\" viewBox=\"0 -960 960 960\">\n",
              "    <path d=\"M120-120v-720h720v720H120Zm60-500h600v-160H180v160Zm220 220h160v-160H400v160Zm0 220h160v-160H400v160ZM180-400h160v-160H180v160Zm440 0h160v-160H620v160ZM180-180h160v-160H180v160Zm440 0h160v-160H620v160Z\"/>\n",
              "  </svg>\n",
              "    </button>\n",
              "\n",
              "  <style>\n",
              "    .colab-df-container {\n",
              "      display:flex;\n",
              "      gap: 12px;\n",
              "    }\n",
              "\n",
              "    .colab-df-convert {\n",
              "      background-color: #E8F0FE;\n",
              "      border: none;\n",
              "      border-radius: 50%;\n",
              "      cursor: pointer;\n",
              "      display: none;\n",
              "      fill: #1967D2;\n",
              "      height: 32px;\n",
              "      padding: 0 0 0 0;\n",
              "      width: 32px;\n",
              "    }\n",
              "\n",
              "    .colab-df-convert:hover {\n",
              "      background-color: #E2EBFA;\n",
              "      box-shadow: 0px 1px 2px rgba(60, 64, 67, 0.3), 0px 1px 3px 1px rgba(60, 64, 67, 0.15);\n",
              "      fill: #174EA6;\n",
              "    }\n",
              "\n",
              "    .colab-df-buttons div {\n",
              "      margin-bottom: 4px;\n",
              "    }\n",
              "\n",
              "    [theme=dark] .colab-df-convert {\n",
              "      background-color: #3B4455;\n",
              "      fill: #D2E3FC;\n",
              "    }\n",
              "\n",
              "    [theme=dark] .colab-df-convert:hover {\n",
              "      background-color: #434B5C;\n",
              "      box-shadow: 0px 1px 3px 1px rgba(0, 0, 0, 0.15);\n",
              "      filter: drop-shadow(0px 1px 2px rgba(0, 0, 0, 0.3));\n",
              "      fill: #FFFFFF;\n",
              "    }\n",
              "  </style>\n",
              "\n",
              "    <script>\n",
              "      const buttonEl =\n",
              "        document.querySelector('#df-080ffae4-b5f1-4f26-a1a9-57ddf64df3b8 button.colab-df-convert');\n",
              "      buttonEl.style.display =\n",
              "        google.colab.kernel.accessAllowed ? 'block' : 'none';\n",
              "\n",
              "      async function convertToInteractive(key) {\n",
              "        const element = document.querySelector('#df-080ffae4-b5f1-4f26-a1a9-57ddf64df3b8');\n",
              "        const dataTable =\n",
              "          await google.colab.kernel.invokeFunction('convertToInteractive',\n",
              "                                                    [key], {});\n",
              "        if (!dataTable) return;\n",
              "\n",
              "        const docLinkHtml = 'Like what you see? Visit the ' +\n",
              "          '<a target=\"_blank\" href=https://colab.research.google.com/notebooks/data_table.ipynb>data table notebook</a>'\n",
              "          + ' to learn more about interactive tables.';\n",
              "        element.innerHTML = '';\n",
              "        dataTable['output_type'] = 'display_data';\n",
              "        await google.colab.output.renderOutput(dataTable, element);\n",
              "        const docLink = document.createElement('div');\n",
              "        docLink.innerHTML = docLinkHtml;\n",
              "        element.appendChild(docLink);\n",
              "      }\n",
              "    </script>\n",
              "  </div>\n",
              "\n",
              "\n",
              "<div id=\"df-980a3938-19a3-4d38-8482-56eb47065be5\">\n",
              "  <button class=\"colab-df-quickchart\" onclick=\"quickchart('df-980a3938-19a3-4d38-8482-56eb47065be5')\"\n",
              "            title=\"Suggest charts\"\n",
              "            style=\"display:none;\">\n",
              "\n",
              "<svg xmlns=\"http://www.w3.org/2000/svg\" height=\"24px\"viewBox=\"0 0 24 24\"\n",
              "     width=\"24px\">\n",
              "    <g>\n",
              "        <path d=\"M19 3H5c-1.1 0-2 .9-2 2v14c0 1.1.9 2 2 2h14c1.1 0 2-.9 2-2V5c0-1.1-.9-2-2-2zM9 17H7v-7h2v7zm4 0h-2V7h2v10zm4 0h-2v-4h2v4z\"/>\n",
              "    </g>\n",
              "</svg>\n",
              "  </button>\n",
              "\n",
              "<style>\n",
              "  .colab-df-quickchart {\n",
              "      --bg-color: #E8F0FE;\n",
              "      --fill-color: #1967D2;\n",
              "      --hover-bg-color: #E2EBFA;\n",
              "      --hover-fill-color: #174EA6;\n",
              "      --disabled-fill-color: #AAA;\n",
              "      --disabled-bg-color: #DDD;\n",
              "  }\n",
              "\n",
              "  [theme=dark] .colab-df-quickchart {\n",
              "      --bg-color: #3B4455;\n",
              "      --fill-color: #D2E3FC;\n",
              "      --hover-bg-color: #434B5C;\n",
              "      --hover-fill-color: #FFFFFF;\n",
              "      --disabled-bg-color: #3B4455;\n",
              "      --disabled-fill-color: #666;\n",
              "  }\n",
              "\n",
              "  .colab-df-quickchart {\n",
              "    background-color: var(--bg-color);\n",
              "    border: none;\n",
              "    border-radius: 50%;\n",
              "    cursor: pointer;\n",
              "    display: none;\n",
              "    fill: var(--fill-color);\n",
              "    height: 32px;\n",
              "    padding: 0;\n",
              "    width: 32px;\n",
              "  }\n",
              "\n",
              "  .colab-df-quickchart:hover {\n",
              "    background-color: var(--hover-bg-color);\n",
              "    box-shadow: 0 1px 2px rgba(60, 64, 67, 0.3), 0 1px 3px 1px rgba(60, 64, 67, 0.15);\n",
              "    fill: var(--button-hover-fill-color);\n",
              "  }\n",
              "\n",
              "  .colab-df-quickchart-complete:disabled,\n",
              "  .colab-df-quickchart-complete:disabled:hover {\n",
              "    background-color: var(--disabled-bg-color);\n",
              "    fill: var(--disabled-fill-color);\n",
              "    box-shadow: none;\n",
              "  }\n",
              "\n",
              "  .colab-df-spinner {\n",
              "    border: 2px solid var(--fill-color);\n",
              "    border-color: transparent;\n",
              "    border-bottom-color: var(--fill-color);\n",
              "    animation:\n",
              "      spin 1s steps(1) infinite;\n",
              "  }\n",
              "\n",
              "  @keyframes spin {\n",
              "    0% {\n",
              "      border-color: transparent;\n",
              "      border-bottom-color: var(--fill-color);\n",
              "      border-left-color: var(--fill-color);\n",
              "    }\n",
              "    20% {\n",
              "      border-color: transparent;\n",
              "      border-left-color: var(--fill-color);\n",
              "      border-top-color: var(--fill-color);\n",
              "    }\n",
              "    30% {\n",
              "      border-color: transparent;\n",
              "      border-left-color: var(--fill-color);\n",
              "      border-top-color: var(--fill-color);\n",
              "      border-right-color: var(--fill-color);\n",
              "    }\n",
              "    40% {\n",
              "      border-color: transparent;\n",
              "      border-right-color: var(--fill-color);\n",
              "      border-top-color: var(--fill-color);\n",
              "    }\n",
              "    60% {\n",
              "      border-color: transparent;\n",
              "      border-right-color: var(--fill-color);\n",
              "    }\n",
              "    80% {\n",
              "      border-color: transparent;\n",
              "      border-right-color: var(--fill-color);\n",
              "      border-bottom-color: var(--fill-color);\n",
              "    }\n",
              "    90% {\n",
              "      border-color: transparent;\n",
              "      border-bottom-color: var(--fill-color);\n",
              "    }\n",
              "  }\n",
              "</style>\n",
              "\n",
              "  <script>\n",
              "    async function quickchart(key) {\n",
              "      const quickchartButtonEl =\n",
              "        document.querySelector('#' + key + ' button');\n",
              "      quickchartButtonEl.disabled = true;  // To prevent multiple clicks.\n",
              "      quickchartButtonEl.classList.add('colab-df-spinner');\n",
              "      try {\n",
              "        const charts = await google.colab.kernel.invokeFunction(\n",
              "            'suggestCharts', [key], {});\n",
              "      } catch (error) {\n",
              "        console.error('Error during call to suggestCharts:', error);\n",
              "      }\n",
              "      quickchartButtonEl.classList.remove('colab-df-spinner');\n",
              "      quickchartButtonEl.classList.add('colab-df-quickchart-complete');\n",
              "    }\n",
              "    (() => {\n",
              "      let quickchartButtonEl =\n",
              "        document.querySelector('#df-980a3938-19a3-4d38-8482-56eb47065be5 button');\n",
              "      quickchartButtonEl.style.display =\n",
              "        google.colab.kernel.accessAllowed ? 'block' : 'none';\n",
              "    })();\n",
              "  </script>\n",
              "</div>\n",
              "    </div>\n",
              "  </div>\n"
            ],
            "application/vnd.google.colaboratory.intrinsic+json": {
              "type": "dataframe",
              "variable_name": "df_iv",
              "summary": "{\n  \"name\": \"df_iv\",\n  \"rows\": 536,\n  \"fields\": [\n    {\n      \"column\": \"Year\",\n      \"properties\": {\n        \"dtype\": \"number\",\n        \"std\": 1,\n        \"min\": 2016,\n        \"max\": 2022,\n        \"num_unique_values\": 7,\n        \"samples\": [\n          2016,\n          2017,\n          2021\n        ],\n        \"semantic_type\": \"\",\n        \"description\": \"\"\n      }\n    },\n    {\n      \"column\": \"Brand\",\n      \"properties\": {\n        \"dtype\": \"category\",\n        \"num_unique_values\": 93,\n        \"samples\": [\n          \"Peru\",\n          \"India\",\n          \"Ukraine\"\n        ],\n        \"semantic_type\": \"\",\n        \"description\": \"\"\n      }\n    },\n    {\n      \"column\": \"ENTREPRENEURSHIP\",\n      \"properties\": {\n        \"dtype\": \"number\",\n        \"std\": 30.765060420590412,\n        \"min\": 0.0,\n        \"max\": 100.0,\n        \"num_unique_values\": 524,\n        \"samples\": [\n          1.1218932777348412,\n          9.05094883797398,\n          13.527643529034709\n        ],\n        \"semantic_type\": \"\",\n        \"description\": \"\"\n      }\n    },\n    {\n      \"column\": \"QUALITY OF LIFE\",\n      \"properties\": {\n        \"dtype\": \"number\",\n        \"std\": 29.41038291258955,\n        \"min\": 0.0,\n        \"max\": 100.0,\n        \"num_unique_values\": 525,\n        \"samples\": [\n          6.585152331816397,\n          28.01233378789351,\n          9.483748741232112\n        ],\n        \"semantic_type\": \"\",\n        \"description\": \"\"\n      }\n    },\n    {\n      \"column\": \"SOCIAL PURPOSE\",\n      \"properties\": {\n        \"dtype\": \"number\",\n        \"std\": 31.724282156185836,\n        \"min\": 0.0,\n        \"max\": 100.0,\n        \"num_unique_values\": 526,\n        \"samples\": [\n          4.949838541284591,\n          67.93658181329278,\n          11.638339685880567\n        ],\n        \"semantic_type\": \"\",\n        \"description\": \"\"\n      }\n    },\n    {\n      \"column\": \"CULTURAL INFLUENCE\",\n      \"properties\": {\n        \"dtype\": \"number\",\n        \"std\": 24.61596574580097,\n        \"min\": 0.0,\n        \"max\": 100.0,\n        \"num_unique_values\": 525,\n        \"samples\": [\n          15.556460488838933,\n          44.453370807998034,\n          58.097595310800685\n        ],\n        \"semantic_type\": \"\",\n        \"description\": \"\"\n      }\n    },\n    {\n      \"column\": \"OPEN FOR BUSINESS\",\n      \"properties\": {\n        \"dtype\": \"number\",\n        \"std\": 19.07032814442127,\n        \"min\": 0.0,\n        \"max\": 100.0,\n        \"num_unique_values\": 524,\n        \"samples\": [\n          57.98431119531182,\n          62.25215661267974,\n          41.11552438644421\n        ],\n        \"semantic_type\": \"\",\n        \"description\": \"\"\n      }\n    },\n    {\n      \"column\": \"ADVENTURE\",\n      \"properties\": {\n        \"dtype\": \"number\",\n        \"std\": 24.12002141834281,\n        \"min\": 0.0,\n        \"max\": 100.0,\n        \"num_unique_values\": 525,\n        \"samples\": [\n          25.53193265535327,\n          88.54610436897381,\n          100.0\n        ],\n        \"semantic_type\": \"\",\n        \"description\": \"\"\n      }\n    },\n    {\n      \"column\": \"POWER\",\n      \"properties\": {\n        \"dtype\": \"number\",\n        \"std\": 24.817112816688727,\n        \"min\": 0.0,\n        \"max\": 100.0,\n        \"num_unique_values\": 524,\n        \"samples\": [\n          2.3487336463662065,\n          15.05916503778122,\n          12.789337171527762\n        ],\n        \"semantic_type\": \"\",\n        \"description\": \"\"\n      }\n    },\n    {\n      \"column\": \"HERITAGE\",\n      \"properties\": {\n        \"dtype\": \"number\",\n        \"std\": 26.08545993712572,\n        \"min\": 0.0,\n        \"max\": 100.0,\n        \"num_unique_values\": 524,\n        \"samples\": [\n          11.970703913135397,\n          42.35532806858002,\n          48.4408396691552\n        ],\n        \"semantic_type\": \"\",\n        \"description\": \"\"\n      }\n    },\n    {\n      \"column\": \"MOVERS\",\n      \"properties\": {\n        \"dtype\": \"number\",\n        \"std\": 23.593935382778955,\n        \"min\": 0.0,\n        \"max\": 100.0,\n        \"num_unique_values\": 525,\n        \"samples\": [\n          30.496651126623018,\n          52.25566919558294,\n          81.31224235245936\n        ],\n        \"semantic_type\": \"\",\n        \"description\": \"\"\n      }\n    },\n    {\n      \"column\": \"OVERALL\",\n      \"properties\": {\n        \"dtype\": \"number\",\n        \"std\": 32.11924118296603,\n        \"min\": 0.0,\n        \"max\": 100.0,\n        \"num_unique_values\": 524,\n        \"samples\": [\n          16.667411921944435,\n          24.49288926806657,\n          41.807613857779515\n        ],\n        \"semantic_type\": \"\",\n        \"description\": \"\"\n      }\n    }\n  ]\n}"
            }
          },
          "metadata": {},
          "execution_count": 4
        }
      ],
      "source": [
        "df_iv"
      ]
    },
    {
      "cell_type": "code",
      "execution_count": null,
      "metadata": {
        "id": "Amiq8Di51eH4"
      },
      "outputs": [],
      "source": [
        "#Yearly GDP _PPP with country factor scores\n",
        "for year in df_gdp.columns:\n",
        "  for country in df_gdp.index:\n",
        "    df_iv.loc[(df_iv['Brand'] == country) & (df_iv['Year'] == year), 'gdp'] = df_gdp.loc[ country, year]"
      ]
    },
    {
      "cell_type": "code",
      "source": [
        "df_iv"
      ],
      "metadata": {
        "colab": {
          "base_uri": "https://localhost:8080/",
          "height": 495
        },
        "id": "JEs_nJNvXB3X",
        "outputId": "7a8efba7-dadc-4e29-c891-5bd1a27ba0b8"
      },
      "execution_count": null,
      "outputs": [
        {
          "output_type": "execute_result",
          "data": {
            "text/plain": [
              "     Year           Brand  ENTREPRENEURSHIP  QUALITY OF LIFE  SOCIAL PURPOSE  \\\n",
              "0    2016         Algeria          0.886768         1.261772        0.203708   \n",
              "1    2016       Argentina          8.079598        12.026906       14.489881   \n",
              "2    2016       Australia         70.436610        90.764070       90.823771   \n",
              "3    2016         Austria         59.247783        73.448695       77.106312   \n",
              "4    2016      Azerbaijan          1.671710         3.159704        1.539496   \n",
              "..    ...             ...               ...              ...             ...   \n",
              "531  2022  United Kingdom         86.403834        79.628540       71.896213   \n",
              "532  2022   United States         99.731665        53.158975       46.652274   \n",
              "533  2022         Uruguay          4.627600         8.667226       11.255599   \n",
              "534  2022      Uzbekistan          1.587867         0.495599        2.033508   \n",
              "535  2022          Zambia          0.000000         2.859631        3.261324   \n",
              "\n",
              "     CULTURAL INFLUENCE  OPEN FOR BUSINESS  ADVENTURE       POWER   HERITAGE  \\\n",
              "0              0.000000          34.180470   2.995269    6.476640   2.264717   \n",
              "1             24.504258          30.600420  60.182326    3.458293  42.130897   \n",
              "2             53.479153          68.656392  70.613007   24.834436  32.117963   \n",
              "3             37.663487          66.337010  35.716511    8.974374  49.510705   \n",
              "4              1.715254          37.746434   4.412014    4.836940   3.070438   \n",
              "..                  ...                ...        ...         ...        ...   \n",
              "531           79.536933          57.484105  37.370709   79.486629  61.468108   \n",
              "532           88.762082          50.844166  42.357155  100.000000  51.392052   \n",
              "533            5.586681          58.730005  22.914893    1.102120  10.347474   \n",
              "534            0.655587          41.598282   4.545857    5.683174   1.538895   \n",
              "535            2.711025          49.039196   6.811760    2.831749   1.788897   \n",
              "\n",
              "        MOVERS    OVERALL           gdp  \n",
              "0    11.990009   0.000000  11685.451418  \n",
              "1    13.720344  18.376393  20307.870052  \n",
              "2    51.123450  94.910648  47249.434815  \n",
              "3    11.188092  71.207580  52684.017113  \n",
              "4    35.930836   5.499866  14371.022741  \n",
              "..         ...        ...           ...  \n",
              "531  12.414818  92.401812  54602.544380  \n",
              "532  32.391377  97.120787  76398.591742  \n",
              "533   3.043958   9.849606  28841.985700  \n",
              "534  12.631457   0.486885   9532.511865  \n",
              "535  19.966714   3.952310           NaN  \n",
              "\n",
              "[536 rows x 13 columns]"
            ],
            "text/html": [
              "\n",
              "  <div id=\"df-d8770807-79c0-4500-95bd-4c4e31eb8122\" class=\"colab-df-container\">\n",
              "    <div>\n",
              "<style scoped>\n",
              "    .dataframe tbody tr th:only-of-type {\n",
              "        vertical-align: middle;\n",
              "    }\n",
              "\n",
              "    .dataframe tbody tr th {\n",
              "        vertical-align: top;\n",
              "    }\n",
              "\n",
              "    .dataframe thead th {\n",
              "        text-align: right;\n",
              "    }\n",
              "</style>\n",
              "<table border=\"1\" class=\"dataframe\">\n",
              "  <thead>\n",
              "    <tr style=\"text-align: right;\">\n",
              "      <th></th>\n",
              "      <th>Year</th>\n",
              "      <th>Brand</th>\n",
              "      <th>ENTREPRENEURSHIP</th>\n",
              "      <th>QUALITY OF LIFE</th>\n",
              "      <th>SOCIAL PURPOSE</th>\n",
              "      <th>CULTURAL INFLUENCE</th>\n",
              "      <th>OPEN FOR BUSINESS</th>\n",
              "      <th>ADVENTURE</th>\n",
              "      <th>POWER</th>\n",
              "      <th>HERITAGE</th>\n",
              "      <th>MOVERS</th>\n",
              "      <th>OVERALL</th>\n",
              "      <th>gdp</th>\n",
              "    </tr>\n",
              "  </thead>\n",
              "  <tbody>\n",
              "    <tr>\n",
              "      <th>0</th>\n",
              "      <td>2016</td>\n",
              "      <td>Algeria</td>\n",
              "      <td>0.886768</td>\n",
              "      <td>1.261772</td>\n",
              "      <td>0.203708</td>\n",
              "      <td>0.000000</td>\n",
              "      <td>34.180470</td>\n",
              "      <td>2.995269</td>\n",
              "      <td>6.476640</td>\n",
              "      <td>2.264717</td>\n",
              "      <td>11.990009</td>\n",
              "      <td>0.000000</td>\n",
              "      <td>11685.451418</td>\n",
              "    </tr>\n",
              "    <tr>\n",
              "      <th>1</th>\n",
              "      <td>2016</td>\n",
              "      <td>Argentina</td>\n",
              "      <td>8.079598</td>\n",
              "      <td>12.026906</td>\n",
              "      <td>14.489881</td>\n",
              "      <td>24.504258</td>\n",
              "      <td>30.600420</td>\n",
              "      <td>60.182326</td>\n",
              "      <td>3.458293</td>\n",
              "      <td>42.130897</td>\n",
              "      <td>13.720344</td>\n",
              "      <td>18.376393</td>\n",
              "      <td>20307.870052</td>\n",
              "    </tr>\n",
              "    <tr>\n",
              "      <th>2</th>\n",
              "      <td>2016</td>\n",
              "      <td>Australia</td>\n",
              "      <td>70.436610</td>\n",
              "      <td>90.764070</td>\n",
              "      <td>90.823771</td>\n",
              "      <td>53.479153</td>\n",
              "      <td>68.656392</td>\n",
              "      <td>70.613007</td>\n",
              "      <td>24.834436</td>\n",
              "      <td>32.117963</td>\n",
              "      <td>51.123450</td>\n",
              "      <td>94.910648</td>\n",
              "      <td>47249.434815</td>\n",
              "    </tr>\n",
              "    <tr>\n",
              "      <th>3</th>\n",
              "      <td>2016</td>\n",
              "      <td>Austria</td>\n",
              "      <td>59.247783</td>\n",
              "      <td>73.448695</td>\n",
              "      <td>77.106312</td>\n",
              "      <td>37.663487</td>\n",
              "      <td>66.337010</td>\n",
              "      <td>35.716511</td>\n",
              "      <td>8.974374</td>\n",
              "      <td>49.510705</td>\n",
              "      <td>11.188092</td>\n",
              "      <td>71.207580</td>\n",
              "      <td>52684.017113</td>\n",
              "    </tr>\n",
              "    <tr>\n",
              "      <th>4</th>\n",
              "      <td>2016</td>\n",
              "      <td>Azerbaijan</td>\n",
              "      <td>1.671710</td>\n",
              "      <td>3.159704</td>\n",
              "      <td>1.539496</td>\n",
              "      <td>1.715254</td>\n",
              "      <td>37.746434</td>\n",
              "      <td>4.412014</td>\n",
              "      <td>4.836940</td>\n",
              "      <td>3.070438</td>\n",
              "      <td>35.930836</td>\n",
              "      <td>5.499866</td>\n",
              "      <td>14371.022741</td>\n",
              "    </tr>\n",
              "    <tr>\n",
              "      <th>...</th>\n",
              "      <td>...</td>\n",
              "      <td>...</td>\n",
              "      <td>...</td>\n",
              "      <td>...</td>\n",
              "      <td>...</td>\n",
              "      <td>...</td>\n",
              "      <td>...</td>\n",
              "      <td>...</td>\n",
              "      <td>...</td>\n",
              "      <td>...</td>\n",
              "      <td>...</td>\n",
              "      <td>...</td>\n",
              "      <td>...</td>\n",
              "    </tr>\n",
              "    <tr>\n",
              "      <th>531</th>\n",
              "      <td>2022</td>\n",
              "      <td>United Kingdom</td>\n",
              "      <td>86.403834</td>\n",
              "      <td>79.628540</td>\n",
              "      <td>71.896213</td>\n",
              "      <td>79.536933</td>\n",
              "      <td>57.484105</td>\n",
              "      <td>37.370709</td>\n",
              "      <td>79.486629</td>\n",
              "      <td>61.468108</td>\n",
              "      <td>12.414818</td>\n",
              "      <td>92.401812</td>\n",
              "      <td>54602.544380</td>\n",
              "    </tr>\n",
              "    <tr>\n",
              "      <th>532</th>\n",
              "      <td>2022</td>\n",
              "      <td>United States</td>\n",
              "      <td>99.731665</td>\n",
              "      <td>53.158975</td>\n",
              "      <td>46.652274</td>\n",
              "      <td>88.762082</td>\n",
              "      <td>50.844166</td>\n",
              "      <td>42.357155</td>\n",
              "      <td>100.000000</td>\n",
              "      <td>51.392052</td>\n",
              "      <td>32.391377</td>\n",
              "      <td>97.120787</td>\n",
              "      <td>76398.591742</td>\n",
              "    </tr>\n",
              "    <tr>\n",
              "      <th>533</th>\n",
              "      <td>2022</td>\n",
              "      <td>Uruguay</td>\n",
              "      <td>4.627600</td>\n",
              "      <td>8.667226</td>\n",
              "      <td>11.255599</td>\n",
              "      <td>5.586681</td>\n",
              "      <td>58.730005</td>\n",
              "      <td>22.914893</td>\n",
              "      <td>1.102120</td>\n",
              "      <td>10.347474</td>\n",
              "      <td>3.043958</td>\n",
              "      <td>9.849606</td>\n",
              "      <td>28841.985700</td>\n",
              "    </tr>\n",
              "    <tr>\n",
              "      <th>534</th>\n",
              "      <td>2022</td>\n",
              "      <td>Uzbekistan</td>\n",
              "      <td>1.587867</td>\n",
              "      <td>0.495599</td>\n",
              "      <td>2.033508</td>\n",
              "      <td>0.655587</td>\n",
              "      <td>41.598282</td>\n",
              "      <td>4.545857</td>\n",
              "      <td>5.683174</td>\n",
              "      <td>1.538895</td>\n",
              "      <td>12.631457</td>\n",
              "      <td>0.486885</td>\n",
              "      <td>9532.511865</td>\n",
              "    </tr>\n",
              "    <tr>\n",
              "      <th>535</th>\n",
              "      <td>2022</td>\n",
              "      <td>Zambia</td>\n",
              "      <td>0.000000</td>\n",
              "      <td>2.859631</td>\n",
              "      <td>3.261324</td>\n",
              "      <td>2.711025</td>\n",
              "      <td>49.039196</td>\n",
              "      <td>6.811760</td>\n",
              "      <td>2.831749</td>\n",
              "      <td>1.788897</td>\n",
              "      <td>19.966714</td>\n",
              "      <td>3.952310</td>\n",
              "      <td>NaN</td>\n",
              "    </tr>\n",
              "  </tbody>\n",
              "</table>\n",
              "<p>536 rows × 13 columns</p>\n",
              "</div>\n",
              "    <div class=\"colab-df-buttons\">\n",
              "\n",
              "  <div class=\"colab-df-container\">\n",
              "    <button class=\"colab-df-convert\" onclick=\"convertToInteractive('df-d8770807-79c0-4500-95bd-4c4e31eb8122')\"\n",
              "            title=\"Convert this dataframe to an interactive table.\"\n",
              "            style=\"display:none;\">\n",
              "\n",
              "  <svg xmlns=\"http://www.w3.org/2000/svg\" height=\"24px\" viewBox=\"0 -960 960 960\">\n",
              "    <path d=\"M120-120v-720h720v720H120Zm60-500h600v-160H180v160Zm220 220h160v-160H400v160Zm0 220h160v-160H400v160ZM180-400h160v-160H180v160Zm440 0h160v-160H620v160ZM180-180h160v-160H180v160Zm440 0h160v-160H620v160Z\"/>\n",
              "  </svg>\n",
              "    </button>\n",
              "\n",
              "  <style>\n",
              "    .colab-df-container {\n",
              "      display:flex;\n",
              "      gap: 12px;\n",
              "    }\n",
              "\n",
              "    .colab-df-convert {\n",
              "      background-color: #E8F0FE;\n",
              "      border: none;\n",
              "      border-radius: 50%;\n",
              "      cursor: pointer;\n",
              "      display: none;\n",
              "      fill: #1967D2;\n",
              "      height: 32px;\n",
              "      padding: 0 0 0 0;\n",
              "      width: 32px;\n",
              "    }\n",
              "\n",
              "    .colab-df-convert:hover {\n",
              "      background-color: #E2EBFA;\n",
              "      box-shadow: 0px 1px 2px rgba(60, 64, 67, 0.3), 0px 1px 3px 1px rgba(60, 64, 67, 0.15);\n",
              "      fill: #174EA6;\n",
              "    }\n",
              "\n",
              "    .colab-df-buttons div {\n",
              "      margin-bottom: 4px;\n",
              "    }\n",
              "\n",
              "    [theme=dark] .colab-df-convert {\n",
              "      background-color: #3B4455;\n",
              "      fill: #D2E3FC;\n",
              "    }\n",
              "\n",
              "    [theme=dark] .colab-df-convert:hover {\n",
              "      background-color: #434B5C;\n",
              "      box-shadow: 0px 1px 3px 1px rgba(0, 0, 0, 0.15);\n",
              "      filter: drop-shadow(0px 1px 2px rgba(0, 0, 0, 0.3));\n",
              "      fill: #FFFFFF;\n",
              "    }\n",
              "  </style>\n",
              "\n",
              "    <script>\n",
              "      const buttonEl =\n",
              "        document.querySelector('#df-d8770807-79c0-4500-95bd-4c4e31eb8122 button.colab-df-convert');\n",
              "      buttonEl.style.display =\n",
              "        google.colab.kernel.accessAllowed ? 'block' : 'none';\n",
              "\n",
              "      async function convertToInteractive(key) {\n",
              "        const element = document.querySelector('#df-d8770807-79c0-4500-95bd-4c4e31eb8122');\n",
              "        const dataTable =\n",
              "          await google.colab.kernel.invokeFunction('convertToInteractive',\n",
              "                                                    [key], {});\n",
              "        if (!dataTable) return;\n",
              "\n",
              "        const docLinkHtml = 'Like what you see? Visit the ' +\n",
              "          '<a target=\"_blank\" href=https://colab.research.google.com/notebooks/data_table.ipynb>data table notebook</a>'\n",
              "          + ' to learn more about interactive tables.';\n",
              "        element.innerHTML = '';\n",
              "        dataTable['output_type'] = 'display_data';\n",
              "        await google.colab.output.renderOutput(dataTable, element);\n",
              "        const docLink = document.createElement('div');\n",
              "        docLink.innerHTML = docLinkHtml;\n",
              "        element.appendChild(docLink);\n",
              "      }\n",
              "    </script>\n",
              "  </div>\n",
              "\n",
              "\n",
              "<div id=\"df-28d2c846-c78f-4e1a-a5dd-40522a0ab85c\">\n",
              "  <button class=\"colab-df-quickchart\" onclick=\"quickchart('df-28d2c846-c78f-4e1a-a5dd-40522a0ab85c')\"\n",
              "            title=\"Suggest charts\"\n",
              "            style=\"display:none;\">\n",
              "\n",
              "<svg xmlns=\"http://www.w3.org/2000/svg\" height=\"24px\"viewBox=\"0 0 24 24\"\n",
              "     width=\"24px\">\n",
              "    <g>\n",
              "        <path d=\"M19 3H5c-1.1 0-2 .9-2 2v14c0 1.1.9 2 2 2h14c1.1 0 2-.9 2-2V5c0-1.1-.9-2-2-2zM9 17H7v-7h2v7zm4 0h-2V7h2v10zm4 0h-2v-4h2v4z\"/>\n",
              "    </g>\n",
              "</svg>\n",
              "  </button>\n",
              "\n",
              "<style>\n",
              "  .colab-df-quickchart {\n",
              "      --bg-color: #E8F0FE;\n",
              "      --fill-color: #1967D2;\n",
              "      --hover-bg-color: #E2EBFA;\n",
              "      --hover-fill-color: #174EA6;\n",
              "      --disabled-fill-color: #AAA;\n",
              "      --disabled-bg-color: #DDD;\n",
              "  }\n",
              "\n",
              "  [theme=dark] .colab-df-quickchart {\n",
              "      --bg-color: #3B4455;\n",
              "      --fill-color: #D2E3FC;\n",
              "      --hover-bg-color: #434B5C;\n",
              "      --hover-fill-color: #FFFFFF;\n",
              "      --disabled-bg-color: #3B4455;\n",
              "      --disabled-fill-color: #666;\n",
              "  }\n",
              "\n",
              "  .colab-df-quickchart {\n",
              "    background-color: var(--bg-color);\n",
              "    border: none;\n",
              "    border-radius: 50%;\n",
              "    cursor: pointer;\n",
              "    display: none;\n",
              "    fill: var(--fill-color);\n",
              "    height: 32px;\n",
              "    padding: 0;\n",
              "    width: 32px;\n",
              "  }\n",
              "\n",
              "  .colab-df-quickchart:hover {\n",
              "    background-color: var(--hover-bg-color);\n",
              "    box-shadow: 0 1px 2px rgba(60, 64, 67, 0.3), 0 1px 3px 1px rgba(60, 64, 67, 0.15);\n",
              "    fill: var(--button-hover-fill-color);\n",
              "  }\n",
              "\n",
              "  .colab-df-quickchart-complete:disabled,\n",
              "  .colab-df-quickchart-complete:disabled:hover {\n",
              "    background-color: var(--disabled-bg-color);\n",
              "    fill: var(--disabled-fill-color);\n",
              "    box-shadow: none;\n",
              "  }\n",
              "\n",
              "  .colab-df-spinner {\n",
              "    border: 2px solid var(--fill-color);\n",
              "    border-color: transparent;\n",
              "    border-bottom-color: var(--fill-color);\n",
              "    animation:\n",
              "      spin 1s steps(1) infinite;\n",
              "  }\n",
              "\n",
              "  @keyframes spin {\n",
              "    0% {\n",
              "      border-color: transparent;\n",
              "      border-bottom-color: var(--fill-color);\n",
              "      border-left-color: var(--fill-color);\n",
              "    }\n",
              "    20% {\n",
              "      border-color: transparent;\n",
              "      border-left-color: var(--fill-color);\n",
              "      border-top-color: var(--fill-color);\n",
              "    }\n",
              "    30% {\n",
              "      border-color: transparent;\n",
              "      border-left-color: var(--fill-color);\n",
              "      border-top-color: var(--fill-color);\n",
              "      border-right-color: var(--fill-color);\n",
              "    }\n",
              "    40% {\n",
              "      border-color: transparent;\n",
              "      border-right-color: var(--fill-color);\n",
              "      border-top-color: var(--fill-color);\n",
              "    }\n",
              "    60% {\n",
              "      border-color: transparent;\n",
              "      border-right-color: var(--fill-color);\n",
              "    }\n",
              "    80% {\n",
              "      border-color: transparent;\n",
              "      border-right-color: var(--fill-color);\n",
              "      border-bottom-color: var(--fill-color);\n",
              "    }\n",
              "    90% {\n",
              "      border-color: transparent;\n",
              "      border-bottom-color: var(--fill-color);\n",
              "    }\n",
              "  }\n",
              "</style>\n",
              "\n",
              "  <script>\n",
              "    async function quickchart(key) {\n",
              "      const quickchartButtonEl =\n",
              "        document.querySelector('#' + key + ' button');\n",
              "      quickchartButtonEl.disabled = true;  // To prevent multiple clicks.\n",
              "      quickchartButtonEl.classList.add('colab-df-spinner');\n",
              "      try {\n",
              "        const charts = await google.colab.kernel.invokeFunction(\n",
              "            'suggestCharts', [key], {});\n",
              "      } catch (error) {\n",
              "        console.error('Error during call to suggestCharts:', error);\n",
              "      }\n",
              "      quickchartButtonEl.classList.remove('colab-df-spinner');\n",
              "      quickchartButtonEl.classList.add('colab-df-quickchart-complete');\n",
              "    }\n",
              "    (() => {\n",
              "      let quickchartButtonEl =\n",
              "        document.querySelector('#df-28d2c846-c78f-4e1a-a5dd-40522a0ab85c button');\n",
              "      quickchartButtonEl.style.display =\n",
              "        google.colab.kernel.accessAllowed ? 'block' : 'none';\n",
              "    })();\n",
              "  </script>\n",
              "</div>\n",
              "    </div>\n",
              "  </div>\n"
            ],
            "application/vnd.google.colaboratory.intrinsic+json": {
              "type": "dataframe",
              "variable_name": "df_iv",
              "summary": "{\n  \"name\": \"df_iv\",\n  \"rows\": 536,\n  \"fields\": [\n    {\n      \"column\": \"Year\",\n      \"properties\": {\n        \"dtype\": \"number\",\n        \"std\": 1,\n        \"min\": 2016,\n        \"max\": 2022,\n        \"num_unique_values\": 7,\n        \"samples\": [\n          2016,\n          2017,\n          2021\n        ],\n        \"semantic_type\": \"\",\n        \"description\": \"\"\n      }\n    },\n    {\n      \"column\": \"Brand\",\n      \"properties\": {\n        \"dtype\": \"category\",\n        \"num_unique_values\": 93,\n        \"samples\": [\n          \"Peru\",\n          \"India\",\n          \"Ukraine\"\n        ],\n        \"semantic_type\": \"\",\n        \"description\": \"\"\n      }\n    },\n    {\n      \"column\": \"ENTREPRENEURSHIP\",\n      \"properties\": {\n        \"dtype\": \"number\",\n        \"std\": 30.765060420590412,\n        \"min\": 0.0,\n        \"max\": 100.0,\n        \"num_unique_values\": 524,\n        \"samples\": [\n          1.1218932777348412,\n          9.05094883797398,\n          13.527643529034709\n        ],\n        \"semantic_type\": \"\",\n        \"description\": \"\"\n      }\n    },\n    {\n      \"column\": \"QUALITY OF LIFE\",\n      \"properties\": {\n        \"dtype\": \"number\",\n        \"std\": 29.41038291258955,\n        \"min\": 0.0,\n        \"max\": 100.0,\n        \"num_unique_values\": 525,\n        \"samples\": [\n          6.585152331816397,\n          28.01233378789351,\n          9.483748741232112\n        ],\n        \"semantic_type\": \"\",\n        \"description\": \"\"\n      }\n    },\n    {\n      \"column\": \"SOCIAL PURPOSE\",\n      \"properties\": {\n        \"dtype\": \"number\",\n        \"std\": 31.724282156185836,\n        \"min\": 0.0,\n        \"max\": 100.0,\n        \"num_unique_values\": 526,\n        \"samples\": [\n          4.949838541284591,\n          67.93658181329278,\n          11.638339685880567\n        ],\n        \"semantic_type\": \"\",\n        \"description\": \"\"\n      }\n    },\n    {\n      \"column\": \"CULTURAL INFLUENCE\",\n      \"properties\": {\n        \"dtype\": \"number\",\n        \"std\": 24.61596574580097,\n        \"min\": 0.0,\n        \"max\": 100.0,\n        \"num_unique_values\": 525,\n        \"samples\": [\n          15.556460488838933,\n          44.453370807998034,\n          58.097595310800685\n        ],\n        \"semantic_type\": \"\",\n        \"description\": \"\"\n      }\n    },\n    {\n      \"column\": \"OPEN FOR BUSINESS\",\n      \"properties\": {\n        \"dtype\": \"number\",\n        \"std\": 19.07032814442127,\n        \"min\": 0.0,\n        \"max\": 100.0,\n        \"num_unique_values\": 524,\n        \"samples\": [\n          57.98431119531182,\n          62.25215661267974,\n          41.11552438644421\n        ],\n        \"semantic_type\": \"\",\n        \"description\": \"\"\n      }\n    },\n    {\n      \"column\": \"ADVENTURE\",\n      \"properties\": {\n        \"dtype\": \"number\",\n        \"std\": 24.12002141834281,\n        \"min\": 0.0,\n        \"max\": 100.0,\n        \"num_unique_values\": 525,\n        \"samples\": [\n          25.53193265535327,\n          88.54610436897381,\n          100.0\n        ],\n        \"semantic_type\": \"\",\n        \"description\": \"\"\n      }\n    },\n    {\n      \"column\": \"POWER\",\n      \"properties\": {\n        \"dtype\": \"number\",\n        \"std\": 24.817112816688727,\n        \"min\": 0.0,\n        \"max\": 100.0,\n        \"num_unique_values\": 524,\n        \"samples\": [\n          2.3487336463662065,\n          15.05916503778122,\n          12.789337171527762\n        ],\n        \"semantic_type\": \"\",\n        \"description\": \"\"\n      }\n    },\n    {\n      \"column\": \"HERITAGE\",\n      \"properties\": {\n        \"dtype\": \"number\",\n        \"std\": 26.08545993712572,\n        \"min\": 0.0,\n        \"max\": 100.0,\n        \"num_unique_values\": 524,\n        \"samples\": [\n          11.970703913135397,\n          42.35532806858002,\n          48.4408396691552\n        ],\n        \"semantic_type\": \"\",\n        \"description\": \"\"\n      }\n    },\n    {\n      \"column\": \"MOVERS\",\n      \"properties\": {\n        \"dtype\": \"number\",\n        \"std\": 23.593935382778955,\n        \"min\": 0.0,\n        \"max\": 100.0,\n        \"num_unique_values\": 525,\n        \"samples\": [\n          30.496651126623018,\n          52.25566919558294,\n          81.31224235245936\n        ],\n        \"semantic_type\": \"\",\n        \"description\": \"\"\n      }\n    },\n    {\n      \"column\": \"OVERALL\",\n      \"properties\": {\n        \"dtype\": \"number\",\n        \"std\": 32.11924118296603,\n        \"min\": 0.0,\n        \"max\": 100.0,\n        \"num_unique_values\": 524,\n        \"samples\": [\n          16.667411921944435,\n          24.49288926806657,\n          41.807613857779515\n        ],\n        \"semantic_type\": \"\",\n        \"description\": \"\"\n      }\n    },\n    {\n      \"column\": \"gdp\",\n      \"properties\": {\n        \"dtype\": \"number\",\n        \"std\": 24725.297947910756,\n        \"min\": 4312.908917249892,\n        \"max\": 142213.85168524634,\n        \"num_unique_values\": 507,\n        \"samples\": [\n          57826.62849766747,\n          49288.693112035144,\n          13456.551425401101\n        ],\n        \"semantic_type\": \"\",\n        \"description\": \"\"\n      }\n    }\n  ]\n}"
            }
          },
          "metadata": {},
          "execution_count": 6
        }
      ]
    },
    {
      "cell_type": "code",
      "source": [
        "#Check if any missing values\n",
        "df_iv.isna().sum()"
      ],
      "metadata": {
        "colab": {
          "base_uri": "https://localhost:8080/"
        },
        "id": "AwLbRD_4Tm1V",
        "outputId": "71c50528-66e9-4ec8-a363-c76b5020812c"
      },
      "execution_count": null,
      "outputs": [
        {
          "output_type": "execute_result",
          "data": {
            "text/plain": [
              "Year                   0\n",
              "Brand                  0\n",
              "ENTREPRENEURSHIP       0\n",
              "QUALITY OF LIFE        0\n",
              "SOCIAL PURPOSE         0\n",
              "CULTURAL INFLUENCE     0\n",
              "OPEN FOR BUSINESS      0\n",
              "ADVENTURE              0\n",
              "POWER                  0\n",
              "HERITAGE               0\n",
              "MOVERS                 0\n",
              "OVERALL                0\n",
              "gdp                   29\n",
              "dtype: int64"
            ]
          },
          "metadata": {},
          "execution_count": 7
        }
      ]
    },
    {
      "cell_type": "code",
      "execution_count": null,
      "metadata": {
        "id": "hUZJ54Dc3gbm"
      },
      "outputs": [],
      "source": [
        "#Filled the missing values with Mean method\n",
        "df_iv['gdp'].fillna(df_iv['gdp'].mean(), inplace=True)"
      ]
    },
    {
      "cell_type": "code",
      "source": [
        "df_iv.isna().sum()"
      ],
      "metadata": {
        "colab": {
          "base_uri": "https://localhost:8080/"
        },
        "id": "PFQnaTg7LHJT",
        "outputId": "e25ee713-e397-4b82-b82d-9ad780ce3854"
      },
      "execution_count": null,
      "outputs": [
        {
          "output_type": "execute_result",
          "data": {
            "text/plain": [
              "Year                  0\n",
              "Brand                 0\n",
              "ENTREPRENEURSHIP      0\n",
              "QUALITY OF LIFE       0\n",
              "SOCIAL PURPOSE        0\n",
              "CULTURAL INFLUENCE    0\n",
              "OPEN FOR BUSINESS     0\n",
              "ADVENTURE             0\n",
              "POWER                 0\n",
              "HERITAGE              0\n",
              "MOVERS                0\n",
              "OVERALL               0\n",
              "gdp                   0\n",
              "dtype: int64"
            ]
          },
          "metadata": {},
          "execution_count": 9
        }
      ]
    },
    {
      "cell_type": "code",
      "execution_count": null,
      "metadata": {
        "colab": {
          "base_uri": "https://localhost:8080/"
        },
        "id": "mq1FFQJsfsh7",
        "outputId": "72561905-6b58-46ec-93d9-6dcfdc2c1393"
      },
      "outputs": [
        {
          "output_type": "execute_result",
          "data": {
            "text/plain": [
              "Index(['Year', 'Brand', 'ENTREPRENEURSHIP', 'QUALITY OF LIFE',\n",
              "       'SOCIAL PURPOSE', 'CULTURAL INFLUENCE', 'OPEN FOR BUSINESS',\n",
              "       'ADVENTURE', 'POWER', 'HERITAGE', 'MOVERS', 'OVERALL', 'gdp'],\n",
              "      dtype='object')"
            ]
          },
          "metadata": {},
          "execution_count": 10
        }
      ],
      "source": [
        "df_iv.columns"
      ]
    },
    {
      "cell_type": "code",
      "source": [
        "main_cols= ['ENTREPRENEURSHIP', 'QUALITY OF LIFE',\n",
        "       'SOCIAL PURPOSE', 'CULTURAL INFLUENCE', 'OPEN FOR BUSINESS',\n",
        "       'ADVENTURE', 'POWER', 'HERITAGE', 'MOVERS']"
      ],
      "metadata": {
        "id": "EQpHdyKYTvzg"
      },
      "execution_count": null,
      "outputs": []
    },
    {
      "cell_type": "code",
      "execution_count": null,
      "metadata": {
        "id": "gaZ9yhvlfv26"
      },
      "outputs": [],
      "source": [
        "X= df_iv[main_cols]"
      ]
    },
    {
      "cell_type": "code",
      "execution_count": null,
      "metadata": {
        "id": "UKsqzWDnfxZ2"
      },
      "outputs": [],
      "source": [
        "y = df_iv['gdp']"
      ]
    },
    {
      "cell_type": "code",
      "execution_count": null,
      "metadata": {
        "colab": {
          "base_uri": "https://localhost:8080/"
        },
        "id": "xka6Cb45goM0",
        "outputId": "07bb5e00-a68e-4237-a571-58ca8450404f"
      },
      "outputs": [
        {
          "output_type": "execute_result",
          "data": {
            "text/plain": [
              "((536, 9), (536,))"
            ]
          },
          "metadata": {},
          "execution_count": 14
        }
      ],
      "source": [
        "X.shape, y.shape"
      ]
    },
    {
      "cell_type": "code",
      "execution_count": null,
      "metadata": {
        "id": "pUTg0Seufz0C"
      },
      "outputs": [],
      "source": [
        "model = sm.OLS(y, sm.add_constant(X)).fit()"
      ]
    },
    {
      "cell_type": "code",
      "execution_count": null,
      "metadata": {
        "colab": {
          "base_uri": "https://localhost:8080/",
          "height": 611
        },
        "id": "4Tmy-LgdgDsg",
        "outputId": "2614ac16-f0b6-4956-91b8-90893c0b4672"
      },
      "outputs": [
        {
          "output_type": "execute_result",
          "data": {
            "text/plain": [
              "<class 'statsmodels.iolib.summary.Summary'>\n",
              "\"\"\"\n",
              "                            OLS Regression Results                            \n",
              "==============================================================================\n",
              "Dep. Variable:                    gdp   R-squared:                       0.547\n",
              "Model:                            OLS   Adj. R-squared:                  0.539\n",
              "Method:                 Least Squares   F-statistic:                     70.51\n",
              "Date:                Thu, 22 Feb 2024   Prob (F-statistic):           1.29e-84\n",
              "Time:                        21:18:32   Log-Likelihood:                -5955.0\n",
              "No. Observations:                 536   AIC:                         1.193e+04\n",
              "Df Residuals:                     526   BIC:                         1.197e+04\n",
              "Df Model:                           9                                         \n",
              "Covariance Type:            nonrobust                                         \n",
              "======================================================================================\n",
              "                         coef    std err          t      P>|t|      [0.025      0.975]\n",
              "--------------------------------------------------------------------------------------\n",
              "const               3.134e+04   3098.885     10.113      0.000    2.53e+04    3.74e+04\n",
              "ENTREPRENEURSHIP     604.3372    119.020      5.078      0.000     370.525     838.150\n",
              "QUALITY OF LIFE       71.6191    143.694      0.498      0.618    -210.666     353.904\n",
              "SOCIAL PURPOSE       -98.6512    105.322     -0.937      0.349    -305.554     108.251\n",
              "CULTURAL INFLUENCE   456.0567     93.654      4.870      0.000     272.075     640.039\n",
              "OPEN FOR BUSINESS    -34.5909     65.054     -0.532      0.595    -162.388      93.206\n",
              "ADVENTURE           -167.1294     64.052     -2.609      0.009    -292.959     -41.300\n",
              "POWER               -413.1079     67.764     -6.096      0.000    -546.230    -279.986\n",
              "HERITAGE            -288.3826     49.194     -5.862      0.000    -385.024    -191.741\n",
              "MOVERS               -17.9133     43.065     -0.416      0.678    -102.515      66.688\n",
              "==============================================================================\n",
              "Omnibus:                      173.512   Durbin-Watson:                   1.769\n",
              "Prob(Omnibus):                  0.000   Jarque-Bera (JB):              594.618\n",
              "Skew:                           1.492   Prob(JB):                    7.59e-130\n",
              "Kurtosis:                       7.209   Cond. No.                         480.\n",
              "==============================================================================\n",
              "\n",
              "Notes:\n",
              "[1] Standard Errors assume that the covariance matrix of the errors is correctly specified.\n",
              "\"\"\""
            ],
            "text/html": [
              "<table class=\"simpletable\">\n",
              "<caption>OLS Regression Results</caption>\n",
              "<tr>\n",
              "  <th>Dep. Variable:</th>           <td>gdp</td>       <th>  R-squared:         </th> <td>   0.547</td> \n",
              "</tr>\n",
              "<tr>\n",
              "  <th>Model:</th>                   <td>OLS</td>       <th>  Adj. R-squared:    </th> <td>   0.539</td> \n",
              "</tr>\n",
              "<tr>\n",
              "  <th>Method:</th>             <td>Least Squares</td>  <th>  F-statistic:       </th> <td>   70.51</td> \n",
              "</tr>\n",
              "<tr>\n",
              "  <th>Date:</th>             <td>Thu, 22 Feb 2024</td> <th>  Prob (F-statistic):</th> <td>1.29e-84</td> \n",
              "</tr>\n",
              "<tr>\n",
              "  <th>Time:</th>                 <td>21:18:32</td>     <th>  Log-Likelihood:    </th> <td> -5955.0</td> \n",
              "</tr>\n",
              "<tr>\n",
              "  <th>No. Observations:</th>      <td>   536</td>      <th>  AIC:               </th> <td>1.193e+04</td>\n",
              "</tr>\n",
              "<tr>\n",
              "  <th>Df Residuals:</th>          <td>   526</td>      <th>  BIC:               </th> <td>1.197e+04</td>\n",
              "</tr>\n",
              "<tr>\n",
              "  <th>Df Model:</th>              <td>     9</td>      <th>                     </th>     <td> </td>    \n",
              "</tr>\n",
              "<tr>\n",
              "  <th>Covariance Type:</th>      <td>nonrobust</td>    <th>                     </th>     <td> </td>    \n",
              "</tr>\n",
              "</table>\n",
              "<table class=\"simpletable\">\n",
              "<tr>\n",
              "           <td></td>             <th>coef</th>     <th>std err</th>      <th>t</th>      <th>P>|t|</th>  <th>[0.025</th>    <th>0.975]</th>  \n",
              "</tr>\n",
              "<tr>\n",
              "  <th>const</th>              <td> 3.134e+04</td> <td> 3098.885</td> <td>   10.113</td> <td> 0.000</td> <td> 2.53e+04</td> <td> 3.74e+04</td>\n",
              "</tr>\n",
              "<tr>\n",
              "  <th>ENTREPRENEURSHIP</th>   <td>  604.3372</td> <td>  119.020</td> <td>    5.078</td> <td> 0.000</td> <td>  370.525</td> <td>  838.150</td>\n",
              "</tr>\n",
              "<tr>\n",
              "  <th>QUALITY OF LIFE</th>    <td>   71.6191</td> <td>  143.694</td> <td>    0.498</td> <td> 0.618</td> <td> -210.666</td> <td>  353.904</td>\n",
              "</tr>\n",
              "<tr>\n",
              "  <th>SOCIAL PURPOSE</th>     <td>  -98.6512</td> <td>  105.322</td> <td>   -0.937</td> <td> 0.349</td> <td> -305.554</td> <td>  108.251</td>\n",
              "</tr>\n",
              "<tr>\n",
              "  <th>CULTURAL INFLUENCE</th> <td>  456.0567</td> <td>   93.654</td> <td>    4.870</td> <td> 0.000</td> <td>  272.075</td> <td>  640.039</td>\n",
              "</tr>\n",
              "<tr>\n",
              "  <th>OPEN FOR BUSINESS</th>  <td>  -34.5909</td> <td>   65.054</td> <td>   -0.532</td> <td> 0.595</td> <td> -162.388</td> <td>   93.206</td>\n",
              "</tr>\n",
              "<tr>\n",
              "  <th>ADVENTURE</th>          <td> -167.1294</td> <td>   64.052</td> <td>   -2.609</td> <td> 0.009</td> <td> -292.959</td> <td>  -41.300</td>\n",
              "</tr>\n",
              "<tr>\n",
              "  <th>POWER</th>              <td> -413.1079</td> <td>   67.764</td> <td>   -6.096</td> <td> 0.000</td> <td> -546.230</td> <td> -279.986</td>\n",
              "</tr>\n",
              "<tr>\n",
              "  <th>HERITAGE</th>           <td> -288.3826</td> <td>   49.194</td> <td>   -5.862</td> <td> 0.000</td> <td> -385.024</td> <td> -191.741</td>\n",
              "</tr>\n",
              "<tr>\n",
              "  <th>MOVERS</th>             <td>  -17.9133</td> <td>   43.065</td> <td>   -0.416</td> <td> 0.678</td> <td> -102.515</td> <td>   66.688</td>\n",
              "</tr>\n",
              "</table>\n",
              "<table class=\"simpletable\">\n",
              "<tr>\n",
              "  <th>Omnibus:</th>       <td>173.512</td> <th>  Durbin-Watson:     </th> <td>   1.769</td> \n",
              "</tr>\n",
              "<tr>\n",
              "  <th>Prob(Omnibus):</th> <td> 0.000</td>  <th>  Jarque-Bera (JB):  </th> <td> 594.618</td> \n",
              "</tr>\n",
              "<tr>\n",
              "  <th>Skew:</th>          <td> 1.492</td>  <th>  Prob(JB):          </th> <td>7.59e-130</td>\n",
              "</tr>\n",
              "<tr>\n",
              "  <th>Kurtosis:</th>      <td> 7.209</td>  <th>  Cond. No.          </th> <td>    480.</td> \n",
              "</tr>\n",
              "</table><br/><br/>Notes:<br/>[1] Standard Errors assume that the covariance matrix of the errors is correctly specified."
            ],
            "text/latex": "\\begin{center}\n\\begin{tabular}{lclc}\n\\toprule\n\\textbf{Dep. Variable:}     &       gdp        & \\textbf{  R-squared:         } &     0.547   \\\\\n\\textbf{Model:}             &       OLS        & \\textbf{  Adj. R-squared:    } &     0.539   \\\\\n\\textbf{Method:}            &  Least Squares   & \\textbf{  F-statistic:       } &     70.51   \\\\\n\\textbf{Date:}              & Thu, 22 Feb 2024 & \\textbf{  Prob (F-statistic):} &  1.29e-84   \\\\\n\\textbf{Time:}              &     21:18:32     & \\textbf{  Log-Likelihood:    } &   -5955.0   \\\\\n\\textbf{No. Observations:}  &         536      & \\textbf{  AIC:               } & 1.193e+04   \\\\\n\\textbf{Df Residuals:}      &         526      & \\textbf{  BIC:               } & 1.197e+04   \\\\\n\\textbf{Df Model:}          &           9      & \\textbf{                     } &             \\\\\n\\textbf{Covariance Type:}   &    nonrobust     & \\textbf{                     } &             \\\\\n\\bottomrule\n\\end{tabular}\n\\begin{tabular}{lcccccc}\n                            & \\textbf{coef} & \\textbf{std err} & \\textbf{t} & \\textbf{P$> |$t$|$} & \\textbf{[0.025} & \\textbf{0.975]}  \\\\\n\\midrule\n\\textbf{const}              &    3.134e+04  &     3098.885     &    10.113  &         0.000        &     2.53e+04    &     3.74e+04     \\\\\n\\textbf{ENTREPRENEURSHIP}   &     604.3372  &      119.020     &     5.078  &         0.000        &      370.525    &      838.150     \\\\\n\\textbf{QUALITY OF LIFE}    &      71.6191  &      143.694     &     0.498  &         0.618        &     -210.666    &      353.904     \\\\\n\\textbf{SOCIAL PURPOSE}     &     -98.6512  &      105.322     &    -0.937  &         0.349        &     -305.554    &      108.251     \\\\\n\\textbf{CULTURAL INFLUENCE} &     456.0567  &       93.654     &     4.870  &         0.000        &      272.075    &      640.039     \\\\\n\\textbf{OPEN FOR BUSINESS}  &     -34.5909  &       65.054     &    -0.532  &         0.595        &     -162.388    &       93.206     \\\\\n\\textbf{ADVENTURE}          &    -167.1294  &       64.052     &    -2.609  &         0.009        &     -292.959    &      -41.300     \\\\\n\\textbf{POWER}              &    -413.1079  &       67.764     &    -6.096  &         0.000        &     -546.230    &     -279.986     \\\\\n\\textbf{HERITAGE}           &    -288.3826  &       49.194     &    -5.862  &         0.000        &     -385.024    &     -191.741     \\\\\n\\textbf{MOVERS}             &     -17.9133  &       43.065     &    -0.416  &         0.678        &     -102.515    &       66.688     \\\\\n\\bottomrule\n\\end{tabular}\n\\begin{tabular}{lclc}\n\\textbf{Omnibus:}       & 173.512 & \\textbf{  Durbin-Watson:     } &     1.769  \\\\\n\\textbf{Prob(Omnibus):} &   0.000 & \\textbf{  Jarque-Bera (JB):  } &   594.618  \\\\\n\\textbf{Skew:}          &   1.492 & \\textbf{  Prob(JB):          } & 7.59e-130  \\\\\n\\textbf{Kurtosis:}      &   7.209 & \\textbf{  Cond. No.          } &      480.  \\\\\n\\bottomrule\n\\end{tabular}\n%\\caption{OLS Regression Results}\n\\end{center}\n\nNotes: \\newline\n [1] Standard Errors assume that the covariance matrix of the errors is correctly specified."
          },
          "metadata": {},
          "execution_count": 16
        }
      ],
      "source": [
        "#Performed OLS to find out which factor is most important\n",
        "model.summary()"
      ]
    },
    {
      "cell_type": "code",
      "source": [
        "absolute_coefficients = model.params.abs()\n",
        "# Print or inspect the absolute coefficients\n",
        "display(absolute_coefficients)"
      ],
      "metadata": {
        "colab": {
          "base_uri": "https://localhost:8080/",
          "height": 208
        },
        "id": "775AH9kEdGVK",
        "outputId": "41ebf3ac-ec33-413a-bd41-4aa085b38d8f"
      },
      "execution_count": null,
      "outputs": [
        {
          "output_type": "display_data",
          "data": {
            "text/plain": [
              "const                 31340.331993\n",
              "ENTREPRENEURSHIP        604.337245\n",
              "QUALITY OF LIFE          71.619118\n",
              "SOCIAL PURPOSE           98.651243\n",
              "CULTURAL INFLUENCE      456.056650\n",
              "OPEN FOR BUSINESS        34.590948\n",
              "ADVENTURE               167.129439\n",
              "POWER                   413.107881\n",
              "HERITAGE                288.382558\n",
              "MOVERS                   17.913310\n",
              "dtype: float64"
            ]
          },
          "metadata": {}
        }
      ]
    },
    {
      "cell_type": "code",
      "source": [
        "ranked_coefficients = absolute_coefficients.sort_values(ascending=False)\n",
        "\n",
        "# Print or inspect the ranked coefficients\n",
        "display(ranked_coefficients)"
      ],
      "metadata": {
        "colab": {
          "base_uri": "https://localhost:8080/",
          "height": 208
        },
        "id": "SNY1SZbFeSgu",
        "outputId": "b192d433-66e7-4e4d-83cf-df4419e212dd"
      },
      "execution_count": null,
      "outputs": [
        {
          "output_type": "display_data",
          "data": {
            "text/plain": [
              "const                 31340.331993\n",
              "ENTREPRENEURSHIP        604.337245\n",
              "CULTURAL INFLUENCE      456.056650\n",
              "POWER                   413.107881\n",
              "HERITAGE                288.382558\n",
              "ADVENTURE               167.129439\n",
              "SOCIAL PURPOSE           98.651243\n",
              "QUALITY OF LIFE          71.619118\n",
              "OPEN FOR BUSINESS        34.590948\n",
              "MOVERS                   17.913310\n",
              "dtype: float64"
            ]
          },
          "metadata": {}
        }
      ]
    },
    {
      "cell_type": "code",
      "source": [
        "#Checked Correlation\n",
        "correlation_matrix = df_iv.corr()\n",
        "correlation_with_gdp = correlation_matrix['gdp'].sort_values(ascending=False)\n"
      ],
      "metadata": {
        "colab": {
          "base_uri": "https://localhost:8080/"
        },
        "id": "OXD4WUssZUXQ",
        "outputId": "68e700d1-45a6-478f-b0e3-0f81b090371d"
      },
      "execution_count": null,
      "outputs": [
        {
          "output_type": "stream",
          "name": "stderr",
          "text": [
            "<ipython-input-17-eb214b1876d7>:1: FutureWarning: The default value of numeric_only in DataFrame.corr is deprecated. In a future version, it will default to False. Select only valid columns or specify the value of numeric_only to silence this warning.\n",
            "  correlation_matrix = df_iv.corr()\n"
          ]
        }
      ]
    },
    {
      "cell_type": "code",
      "source": [
        "correlation_matrix"
      ],
      "metadata": {
        "colab": {
          "base_uri": "https://localhost:8080/",
          "height": 480
        },
        "id": "d6EuFkGgZ10P",
        "outputId": "77b4a26d-cc69-4ab7-a32c-49919247426a"
      },
      "execution_count": null,
      "outputs": [
        {
          "output_type": "execute_result",
          "data": {
            "text/plain": [
              "                        Year  ENTREPRENEURSHIP  QUALITY OF LIFE  \\\n",
              "Year                1.000000         -0.008412         0.012192   \n",
              "ENTREPRENEURSHIP   -0.008412          1.000000         0.896720   \n",
              "QUALITY OF LIFE     0.012192          0.896720         1.000000   \n",
              "SOCIAL PURPOSE     -0.015888          0.824618         0.959682   \n",
              "CULTURAL INFLUENCE  0.024197          0.798036         0.689377   \n",
              "OPEN FOR BUSINESS   0.073848          0.489977         0.683897   \n",
              "ADVENTURE           0.062200          0.242627         0.373313   \n",
              "POWER               0.006900          0.675775         0.365145   \n",
              "HERITAGE            0.006993          0.370229         0.299681   \n",
              "MOVERS             -0.136057          0.253085         0.061757   \n",
              "OVERALL             0.016135          0.957761         0.925398   \n",
              "gdp                 0.106856          0.654500         0.646026   \n",
              "\n",
              "                    SOCIAL PURPOSE  CULTURAL INFLUENCE  OPEN FOR BUSINESS  \\\n",
              "Year                     -0.015888            0.024197           0.073848   \n",
              "ENTREPRENEURSHIP          0.824618            0.798036           0.489977   \n",
              "QUALITY OF LIFE           0.959682            0.689377           0.683897   \n",
              "SOCIAL PURPOSE            1.000000            0.644961           0.650546   \n",
              "CULTURAL INFLUENCE        0.644961            1.000000           0.349311   \n",
              "OPEN FOR BUSINESS         0.650546            0.349311           1.000000   \n",
              "ADVENTURE                 0.381542            0.613157           0.403650   \n",
              "POWER                     0.274945            0.594157          -0.124435   \n",
              "HERITAGE                  0.255050            0.719859           0.096132   \n",
              "MOVERS                   -0.104868            0.353570          -0.045538   \n",
              "OVERALL                   0.859078            0.877138           0.574811   \n",
              "gdp                       0.615644            0.463245           0.445852   \n",
              "\n",
              "                    ADVENTURE     POWER  HERITAGE    MOVERS   OVERALL  \\\n",
              "Year                 0.062200  0.006900  0.006993 -0.136057  0.016135   \n",
              "ENTREPRENEURSHIP     0.242627  0.675775  0.370229  0.253085  0.957761   \n",
              "QUALITY OF LIFE      0.373313  0.365145  0.299681  0.061757  0.925398   \n",
              "SOCIAL PURPOSE       0.381542  0.274945  0.255050 -0.104868  0.859078   \n",
              "CULTURAL INFLUENCE   0.613157  0.594157  0.719859  0.353570  0.877138   \n",
              "OPEN FOR BUSINESS    0.403650 -0.124435  0.096132 -0.045538  0.574811   \n",
              "ADVENTURE            1.000000 -0.073172  0.673339  0.177106  0.464318   \n",
              "POWER               -0.073172  1.000000  0.355363  0.409847  0.585523   \n",
              "HERITAGE             0.673339  0.355363  1.000000  0.365438  0.507675   \n",
              "MOVERS               0.177106  0.409847  0.365438  1.000000  0.320680   \n",
              "OVERALL              0.464318  0.585523  0.507675  0.320680  1.000000   \n",
              "gdp                  0.095624  0.267056  0.029103  0.044732  0.618174   \n",
              "\n",
              "                         gdp  \n",
              "Year                0.106856  \n",
              "ENTREPRENEURSHIP    0.654500  \n",
              "QUALITY OF LIFE     0.646026  \n",
              "SOCIAL PURPOSE      0.615644  \n",
              "CULTURAL INFLUENCE  0.463245  \n",
              "OPEN FOR BUSINESS   0.445852  \n",
              "ADVENTURE           0.095624  \n",
              "POWER               0.267056  \n",
              "HERITAGE            0.029103  \n",
              "MOVERS              0.044732  \n",
              "OVERALL             0.618174  \n",
              "gdp                 1.000000  "
            ],
            "text/html": [
              "\n",
              "  <div id=\"df-da8d76c0-d540-4e88-a237-16242c8ccfc0\" class=\"colab-df-container\">\n",
              "    <div>\n",
              "<style scoped>\n",
              "    .dataframe tbody tr th:only-of-type {\n",
              "        vertical-align: middle;\n",
              "    }\n",
              "\n",
              "    .dataframe tbody tr th {\n",
              "        vertical-align: top;\n",
              "    }\n",
              "\n",
              "    .dataframe thead th {\n",
              "        text-align: right;\n",
              "    }\n",
              "</style>\n",
              "<table border=\"1\" class=\"dataframe\">\n",
              "  <thead>\n",
              "    <tr style=\"text-align: right;\">\n",
              "      <th></th>\n",
              "      <th>Year</th>\n",
              "      <th>ENTREPRENEURSHIP</th>\n",
              "      <th>QUALITY OF LIFE</th>\n",
              "      <th>SOCIAL PURPOSE</th>\n",
              "      <th>CULTURAL INFLUENCE</th>\n",
              "      <th>OPEN FOR BUSINESS</th>\n",
              "      <th>ADVENTURE</th>\n",
              "      <th>POWER</th>\n",
              "      <th>HERITAGE</th>\n",
              "      <th>MOVERS</th>\n",
              "      <th>OVERALL</th>\n",
              "      <th>gdp</th>\n",
              "    </tr>\n",
              "  </thead>\n",
              "  <tbody>\n",
              "    <tr>\n",
              "      <th>Year</th>\n",
              "      <td>1.000000</td>\n",
              "      <td>-0.008412</td>\n",
              "      <td>0.012192</td>\n",
              "      <td>-0.015888</td>\n",
              "      <td>0.024197</td>\n",
              "      <td>0.073848</td>\n",
              "      <td>0.062200</td>\n",
              "      <td>0.006900</td>\n",
              "      <td>0.006993</td>\n",
              "      <td>-0.136057</td>\n",
              "      <td>0.016135</td>\n",
              "      <td>0.106856</td>\n",
              "    </tr>\n",
              "    <tr>\n",
              "      <th>ENTREPRENEURSHIP</th>\n",
              "      <td>-0.008412</td>\n",
              "      <td>1.000000</td>\n",
              "      <td>0.896720</td>\n",
              "      <td>0.824618</td>\n",
              "      <td>0.798036</td>\n",
              "      <td>0.489977</td>\n",
              "      <td>0.242627</td>\n",
              "      <td>0.675775</td>\n",
              "      <td>0.370229</td>\n",
              "      <td>0.253085</td>\n",
              "      <td>0.957761</td>\n",
              "      <td>0.654500</td>\n",
              "    </tr>\n",
              "    <tr>\n",
              "      <th>QUALITY OF LIFE</th>\n",
              "      <td>0.012192</td>\n",
              "      <td>0.896720</td>\n",
              "      <td>1.000000</td>\n",
              "      <td>0.959682</td>\n",
              "      <td>0.689377</td>\n",
              "      <td>0.683897</td>\n",
              "      <td>0.373313</td>\n",
              "      <td>0.365145</td>\n",
              "      <td>0.299681</td>\n",
              "      <td>0.061757</td>\n",
              "      <td>0.925398</td>\n",
              "      <td>0.646026</td>\n",
              "    </tr>\n",
              "    <tr>\n",
              "      <th>SOCIAL PURPOSE</th>\n",
              "      <td>-0.015888</td>\n",
              "      <td>0.824618</td>\n",
              "      <td>0.959682</td>\n",
              "      <td>1.000000</td>\n",
              "      <td>0.644961</td>\n",
              "      <td>0.650546</td>\n",
              "      <td>0.381542</td>\n",
              "      <td>0.274945</td>\n",
              "      <td>0.255050</td>\n",
              "      <td>-0.104868</td>\n",
              "      <td>0.859078</td>\n",
              "      <td>0.615644</td>\n",
              "    </tr>\n",
              "    <tr>\n",
              "      <th>CULTURAL INFLUENCE</th>\n",
              "      <td>0.024197</td>\n",
              "      <td>0.798036</td>\n",
              "      <td>0.689377</td>\n",
              "      <td>0.644961</td>\n",
              "      <td>1.000000</td>\n",
              "      <td>0.349311</td>\n",
              "      <td>0.613157</td>\n",
              "      <td>0.594157</td>\n",
              "      <td>0.719859</td>\n",
              "      <td>0.353570</td>\n",
              "      <td>0.877138</td>\n",
              "      <td>0.463245</td>\n",
              "    </tr>\n",
              "    <tr>\n",
              "      <th>OPEN FOR BUSINESS</th>\n",
              "      <td>0.073848</td>\n",
              "      <td>0.489977</td>\n",
              "      <td>0.683897</td>\n",
              "      <td>0.650546</td>\n",
              "      <td>0.349311</td>\n",
              "      <td>1.000000</td>\n",
              "      <td>0.403650</td>\n",
              "      <td>-0.124435</td>\n",
              "      <td>0.096132</td>\n",
              "      <td>-0.045538</td>\n",
              "      <td>0.574811</td>\n",
              "      <td>0.445852</td>\n",
              "    </tr>\n",
              "    <tr>\n",
              "      <th>ADVENTURE</th>\n",
              "      <td>0.062200</td>\n",
              "      <td>0.242627</td>\n",
              "      <td>0.373313</td>\n",
              "      <td>0.381542</td>\n",
              "      <td>0.613157</td>\n",
              "      <td>0.403650</td>\n",
              "      <td>1.000000</td>\n",
              "      <td>-0.073172</td>\n",
              "      <td>0.673339</td>\n",
              "      <td>0.177106</td>\n",
              "      <td>0.464318</td>\n",
              "      <td>0.095624</td>\n",
              "    </tr>\n",
              "    <tr>\n",
              "      <th>POWER</th>\n",
              "      <td>0.006900</td>\n",
              "      <td>0.675775</td>\n",
              "      <td>0.365145</td>\n",
              "      <td>0.274945</td>\n",
              "      <td>0.594157</td>\n",
              "      <td>-0.124435</td>\n",
              "      <td>-0.073172</td>\n",
              "      <td>1.000000</td>\n",
              "      <td>0.355363</td>\n",
              "      <td>0.409847</td>\n",
              "      <td>0.585523</td>\n",
              "      <td>0.267056</td>\n",
              "    </tr>\n",
              "    <tr>\n",
              "      <th>HERITAGE</th>\n",
              "      <td>0.006993</td>\n",
              "      <td>0.370229</td>\n",
              "      <td>0.299681</td>\n",
              "      <td>0.255050</td>\n",
              "      <td>0.719859</td>\n",
              "      <td>0.096132</td>\n",
              "      <td>0.673339</td>\n",
              "      <td>0.355363</td>\n",
              "      <td>1.000000</td>\n",
              "      <td>0.365438</td>\n",
              "      <td>0.507675</td>\n",
              "      <td>0.029103</td>\n",
              "    </tr>\n",
              "    <tr>\n",
              "      <th>MOVERS</th>\n",
              "      <td>-0.136057</td>\n",
              "      <td>0.253085</td>\n",
              "      <td>0.061757</td>\n",
              "      <td>-0.104868</td>\n",
              "      <td>0.353570</td>\n",
              "      <td>-0.045538</td>\n",
              "      <td>0.177106</td>\n",
              "      <td>0.409847</td>\n",
              "      <td>0.365438</td>\n",
              "      <td>1.000000</td>\n",
              "      <td>0.320680</td>\n",
              "      <td>0.044732</td>\n",
              "    </tr>\n",
              "    <tr>\n",
              "      <th>OVERALL</th>\n",
              "      <td>0.016135</td>\n",
              "      <td>0.957761</td>\n",
              "      <td>0.925398</td>\n",
              "      <td>0.859078</td>\n",
              "      <td>0.877138</td>\n",
              "      <td>0.574811</td>\n",
              "      <td>0.464318</td>\n",
              "      <td>0.585523</td>\n",
              "      <td>0.507675</td>\n",
              "      <td>0.320680</td>\n",
              "      <td>1.000000</td>\n",
              "      <td>0.618174</td>\n",
              "    </tr>\n",
              "    <tr>\n",
              "      <th>gdp</th>\n",
              "      <td>0.106856</td>\n",
              "      <td>0.654500</td>\n",
              "      <td>0.646026</td>\n",
              "      <td>0.615644</td>\n",
              "      <td>0.463245</td>\n",
              "      <td>0.445852</td>\n",
              "      <td>0.095624</td>\n",
              "      <td>0.267056</td>\n",
              "      <td>0.029103</td>\n",
              "      <td>0.044732</td>\n",
              "      <td>0.618174</td>\n",
              "      <td>1.000000</td>\n",
              "    </tr>\n",
              "  </tbody>\n",
              "</table>\n",
              "</div>\n",
              "    <div class=\"colab-df-buttons\">\n",
              "\n",
              "  <div class=\"colab-df-container\">\n",
              "    <button class=\"colab-df-convert\" onclick=\"convertToInteractive('df-da8d76c0-d540-4e88-a237-16242c8ccfc0')\"\n",
              "            title=\"Convert this dataframe to an interactive table.\"\n",
              "            style=\"display:none;\">\n",
              "\n",
              "  <svg xmlns=\"http://www.w3.org/2000/svg\" height=\"24px\" viewBox=\"0 -960 960 960\">\n",
              "    <path d=\"M120-120v-720h720v720H120Zm60-500h600v-160H180v160Zm220 220h160v-160H400v160Zm0 220h160v-160H400v160ZM180-400h160v-160H180v160Zm440 0h160v-160H620v160ZM180-180h160v-160H180v160Zm440 0h160v-160H620v160Z\"/>\n",
              "  </svg>\n",
              "    </button>\n",
              "\n",
              "  <style>\n",
              "    .colab-df-container {\n",
              "      display:flex;\n",
              "      gap: 12px;\n",
              "    }\n",
              "\n",
              "    .colab-df-convert {\n",
              "      background-color: #E8F0FE;\n",
              "      border: none;\n",
              "      border-radius: 50%;\n",
              "      cursor: pointer;\n",
              "      display: none;\n",
              "      fill: #1967D2;\n",
              "      height: 32px;\n",
              "      padding: 0 0 0 0;\n",
              "      width: 32px;\n",
              "    }\n",
              "\n",
              "    .colab-df-convert:hover {\n",
              "      background-color: #E2EBFA;\n",
              "      box-shadow: 0px 1px 2px rgba(60, 64, 67, 0.3), 0px 1px 3px 1px rgba(60, 64, 67, 0.15);\n",
              "      fill: #174EA6;\n",
              "    }\n",
              "\n",
              "    .colab-df-buttons div {\n",
              "      margin-bottom: 4px;\n",
              "    }\n",
              "\n",
              "    [theme=dark] .colab-df-convert {\n",
              "      background-color: #3B4455;\n",
              "      fill: #D2E3FC;\n",
              "    }\n",
              "\n",
              "    [theme=dark] .colab-df-convert:hover {\n",
              "      background-color: #434B5C;\n",
              "      box-shadow: 0px 1px 3px 1px rgba(0, 0, 0, 0.15);\n",
              "      filter: drop-shadow(0px 1px 2px rgba(0, 0, 0, 0.3));\n",
              "      fill: #FFFFFF;\n",
              "    }\n",
              "  </style>\n",
              "\n",
              "    <script>\n",
              "      const buttonEl =\n",
              "        document.querySelector('#df-da8d76c0-d540-4e88-a237-16242c8ccfc0 button.colab-df-convert');\n",
              "      buttonEl.style.display =\n",
              "        google.colab.kernel.accessAllowed ? 'block' : 'none';\n",
              "\n",
              "      async function convertToInteractive(key) {\n",
              "        const element = document.querySelector('#df-da8d76c0-d540-4e88-a237-16242c8ccfc0');\n",
              "        const dataTable =\n",
              "          await google.colab.kernel.invokeFunction('convertToInteractive',\n",
              "                                                    [key], {});\n",
              "        if (!dataTable) return;\n",
              "\n",
              "        const docLinkHtml = 'Like what you see? Visit the ' +\n",
              "          '<a target=\"_blank\" href=https://colab.research.google.com/notebooks/data_table.ipynb>data table notebook</a>'\n",
              "          + ' to learn more about interactive tables.';\n",
              "        element.innerHTML = '';\n",
              "        dataTable['output_type'] = 'display_data';\n",
              "        await google.colab.output.renderOutput(dataTable, element);\n",
              "        const docLink = document.createElement('div');\n",
              "        docLink.innerHTML = docLinkHtml;\n",
              "        element.appendChild(docLink);\n",
              "      }\n",
              "    </script>\n",
              "  </div>\n",
              "\n",
              "\n",
              "<div id=\"df-adfb087b-3f22-4fe8-87a8-89547f44ade7\">\n",
              "  <button class=\"colab-df-quickchart\" onclick=\"quickchart('df-adfb087b-3f22-4fe8-87a8-89547f44ade7')\"\n",
              "            title=\"Suggest charts\"\n",
              "            style=\"display:none;\">\n",
              "\n",
              "<svg xmlns=\"http://www.w3.org/2000/svg\" height=\"24px\"viewBox=\"0 0 24 24\"\n",
              "     width=\"24px\">\n",
              "    <g>\n",
              "        <path d=\"M19 3H5c-1.1 0-2 .9-2 2v14c0 1.1.9 2 2 2h14c1.1 0 2-.9 2-2V5c0-1.1-.9-2-2-2zM9 17H7v-7h2v7zm4 0h-2V7h2v10zm4 0h-2v-4h2v4z\"/>\n",
              "    </g>\n",
              "</svg>\n",
              "  </button>\n",
              "\n",
              "<style>\n",
              "  .colab-df-quickchart {\n",
              "      --bg-color: #E8F0FE;\n",
              "      --fill-color: #1967D2;\n",
              "      --hover-bg-color: #E2EBFA;\n",
              "      --hover-fill-color: #174EA6;\n",
              "      --disabled-fill-color: #AAA;\n",
              "      --disabled-bg-color: #DDD;\n",
              "  }\n",
              "\n",
              "  [theme=dark] .colab-df-quickchart {\n",
              "      --bg-color: #3B4455;\n",
              "      --fill-color: #D2E3FC;\n",
              "      --hover-bg-color: #434B5C;\n",
              "      --hover-fill-color: #FFFFFF;\n",
              "      --disabled-bg-color: #3B4455;\n",
              "      --disabled-fill-color: #666;\n",
              "  }\n",
              "\n",
              "  .colab-df-quickchart {\n",
              "    background-color: var(--bg-color);\n",
              "    border: none;\n",
              "    border-radius: 50%;\n",
              "    cursor: pointer;\n",
              "    display: none;\n",
              "    fill: var(--fill-color);\n",
              "    height: 32px;\n",
              "    padding: 0;\n",
              "    width: 32px;\n",
              "  }\n",
              "\n",
              "  .colab-df-quickchart:hover {\n",
              "    background-color: var(--hover-bg-color);\n",
              "    box-shadow: 0 1px 2px rgba(60, 64, 67, 0.3), 0 1px 3px 1px rgba(60, 64, 67, 0.15);\n",
              "    fill: var(--button-hover-fill-color);\n",
              "  }\n",
              "\n",
              "  .colab-df-quickchart-complete:disabled,\n",
              "  .colab-df-quickchart-complete:disabled:hover {\n",
              "    background-color: var(--disabled-bg-color);\n",
              "    fill: var(--disabled-fill-color);\n",
              "    box-shadow: none;\n",
              "  }\n",
              "\n",
              "  .colab-df-spinner {\n",
              "    border: 2px solid var(--fill-color);\n",
              "    border-color: transparent;\n",
              "    border-bottom-color: var(--fill-color);\n",
              "    animation:\n",
              "      spin 1s steps(1) infinite;\n",
              "  }\n",
              "\n",
              "  @keyframes spin {\n",
              "    0% {\n",
              "      border-color: transparent;\n",
              "      border-bottom-color: var(--fill-color);\n",
              "      border-left-color: var(--fill-color);\n",
              "    }\n",
              "    20% {\n",
              "      border-color: transparent;\n",
              "      border-left-color: var(--fill-color);\n",
              "      border-top-color: var(--fill-color);\n",
              "    }\n",
              "    30% {\n",
              "      border-color: transparent;\n",
              "      border-left-color: var(--fill-color);\n",
              "      border-top-color: var(--fill-color);\n",
              "      border-right-color: var(--fill-color);\n",
              "    }\n",
              "    40% {\n",
              "      border-color: transparent;\n",
              "      border-right-color: var(--fill-color);\n",
              "      border-top-color: var(--fill-color);\n",
              "    }\n",
              "    60% {\n",
              "      border-color: transparent;\n",
              "      border-right-color: var(--fill-color);\n",
              "    }\n",
              "    80% {\n",
              "      border-color: transparent;\n",
              "      border-right-color: var(--fill-color);\n",
              "      border-bottom-color: var(--fill-color);\n",
              "    }\n",
              "    90% {\n",
              "      border-color: transparent;\n",
              "      border-bottom-color: var(--fill-color);\n",
              "    }\n",
              "  }\n",
              "</style>\n",
              "\n",
              "  <script>\n",
              "    async function quickchart(key) {\n",
              "      const quickchartButtonEl =\n",
              "        document.querySelector('#' + key + ' button');\n",
              "      quickchartButtonEl.disabled = true;  // To prevent multiple clicks.\n",
              "      quickchartButtonEl.classList.add('colab-df-spinner');\n",
              "      try {\n",
              "        const charts = await google.colab.kernel.invokeFunction(\n",
              "            'suggestCharts', [key], {});\n",
              "      } catch (error) {\n",
              "        console.error('Error during call to suggestCharts:', error);\n",
              "      }\n",
              "      quickchartButtonEl.classList.remove('colab-df-spinner');\n",
              "      quickchartButtonEl.classList.add('colab-df-quickchart-complete');\n",
              "    }\n",
              "    (() => {\n",
              "      let quickchartButtonEl =\n",
              "        document.querySelector('#df-adfb087b-3f22-4fe8-87a8-89547f44ade7 button');\n",
              "      quickchartButtonEl.style.display =\n",
              "        google.colab.kernel.accessAllowed ? 'block' : 'none';\n",
              "    })();\n",
              "  </script>\n",
              "</div>\n",
              "    </div>\n",
              "  </div>\n"
            ],
            "application/vnd.google.colaboratory.intrinsic+json": {
              "type": "dataframe",
              "variable_name": "correlation_matrix",
              "summary": "{\n  \"name\": \"correlation_matrix\",\n  \"rows\": 12,\n  \"fields\": [\n    {\n      \"column\": \"Year\",\n      \"properties\": {\n        \"dtype\": \"number\",\n        \"std\": 0.29086963670926197,\n        \"min\": -0.13605712516631183,\n        \"max\": 1.0,\n        \"num_unique_values\": 12,\n        \"samples\": [\n          0.016134690850195765,\n          -0.13605712516631183,\n          1.0\n        ],\n        \"semantic_type\": \"\",\n        \"description\": \"\"\n      }\n    },\n    {\n      \"column\": \"ENTREPRENEURSHIP\",\n      \"properties\": {\n        \"dtype\": \"number\",\n        \"std\": 0.32437064107699737,\n        \"min\": -0.008411566830255512,\n        \"max\": 1.0,\n        \"num_unique_values\": 12,\n        \"samples\": [\n          0.9577605377566523,\n          0.2530846589620499,\n          -0.008411566830255512\n        ],\n        \"semantic_type\": \"\",\n        \"description\": \"\"\n      }\n    },\n    {\n      \"column\": \"QUALITY OF LIFE\",\n      \"properties\": {\n        \"dtype\": \"number\",\n        \"std\": 0.3471371089467609,\n        \"min\": 0.012192070355636185,\n        \"max\": 1.0,\n        \"num_unique_values\": 12,\n        \"samples\": [\n          0.9253976567249047,\n          0.06175746061750768,\n          0.012192070355636185\n        ],\n        \"semantic_type\": \"\",\n        \"description\": \"\"\n      }\n    },\n    {\n      \"column\": \"SOCIAL PURPOSE\",\n      \"properties\": {\n        \"dtype\": \"number\",\n        \"std\": 0.3692035661843411,\n        \"min\": -0.10486752811195096,\n        \"max\": 1.0,\n        \"num_unique_values\": 12,\n        \"samples\": [\n          0.8590781013855165,\n          -0.10486752811195096,\n          -0.015888300837914218\n        ],\n        \"semantic_type\": \"\",\n        \"description\": \"\"\n      }\n    },\n    {\n      \"column\": \"CULTURAL INFLUENCE\",\n      \"properties\": {\n        \"dtype\": \"number\",\n        \"std\": 0.26525918568443757,\n        \"min\": 0.02419688716522627,\n        \"max\": 1.0,\n        \"num_unique_values\": 12,\n        \"samples\": [\n          0.8771383821434366,\n          0.3535704304995319,\n          0.02419688716522627\n        ],\n        \"semantic_type\": \"\",\n        \"description\": \"\"\n      }\n    },\n    {\n      \"column\": \"OPEN FOR BUSINESS\",\n      \"properties\": {\n        \"dtype\": \"number\",\n        \"std\": 0.33242351791067365,\n        \"min\": -0.1244354462552976,\n        \"max\": 1.0,\n        \"num_unique_values\": 12,\n        \"samples\": [\n          0.574810889814365,\n          -0.04553788425748266,\n          0.07384844695004583\n        ],\n        \"semantic_type\": \"\",\n        \"description\": \"\"\n      }\n    },\n    {\n      \"column\": \"ADVENTURE\",\n      \"properties\": {\n        \"dtype\": \"number\",\n        \"std\": 0.2981780396574037,\n        \"min\": -0.0731721659847643,\n        \"max\": 1.0,\n        \"num_unique_values\": 12,\n        \"samples\": [\n          0.46431824911727954,\n          0.17710557286850062,\n          0.062199790684976615\n        ],\n        \"semantic_type\": \"\",\n        \"description\": \"\"\n      }\n    },\n    {\n      \"column\": \"POWER\",\n      \"properties\": {\n        \"dtype\": \"number\",\n        \"std\": 0.32757801277117216,\n        \"min\": -0.1244354462552976,\n        \"max\": 1.0,\n        \"num_unique_values\": 12,\n        \"samples\": [\n          0.5855227145653024,\n          0.40984685470884874,\n          0.006899808115717807\n        ],\n        \"semantic_type\": \"\",\n        \"description\": \"\"\n      }\n    },\n    {\n      \"column\": \"HERITAGE\",\n      \"properties\": {\n        \"dtype\": \"number\",\n        \"std\": 0.29647905184327117,\n        \"min\": 0.006992530774138826,\n        \"max\": 1.0,\n        \"num_unique_values\": 12,\n        \"samples\": [\n          0.5076752688752775,\n          0.36543839370788517,\n          0.006992530774138826\n        ],\n        \"semantic_type\": \"\",\n        \"description\": \"\"\n      }\n    },\n    {\n      \"column\": \"MOVERS\",\n      \"properties\": {\n        \"dtype\": \"number\",\n        \"std\": 0.3096617075133116,\n        \"min\": -0.13605712516631183,\n        \"max\": 1.0,\n        \"num_unique_values\": 12,\n        \"samples\": [\n          0.32068021491706633,\n          1.0,\n          -0.13605712516631183\n        ],\n        \"semantic_type\": \"\",\n        \"description\": \"\"\n      }\n    },\n    {\n      \"column\": \"OVERALL\",\n      \"properties\": {\n        \"dtype\": \"number\",\n        \"std\": 0.29594759830612083,\n        \"min\": 0.016134690850195765,\n        \"max\": 1.0,\n        \"num_unique_values\": 12,\n        \"samples\": [\n          1.0,\n          0.32068021491706633,\n          0.016134690850195765\n        ],\n        \"semantic_type\": \"\",\n        \"description\": \"\"\n      }\n    },\n    {\n      \"column\": \"gdp\",\n      \"properties\": {\n        \"dtype\": \"number\",\n        \"std\": 0.30787058753201474,\n        \"min\": 0.02910279686821985,\n        \"max\": 1.0,\n        \"num_unique_values\": 12,\n        \"samples\": [\n          0.6181736308789089,\n          0.04473237539425008,\n          0.10685588780649469\n        ],\n        \"semantic_type\": \"\",\n        \"description\": \"\"\n      }\n    }\n  ]\n}"
            }
          },
          "metadata": {},
          "execution_count": 18
        }
      ]
    },
    {
      "cell_type": "code",
      "source": [
        "from sklearn.cluster import KMeans\n",
        "from sklearn.preprocessing import StandardScaler\n",
        "import statsmodels.api as sm"
      ],
      "metadata": {
        "id": "5chFOdxTK0FS"
      },
      "execution_count": null,
      "outputs": []
    },
    {
      "cell_type": "code",
      "source": [
        "#Checked parameters for each country\n",
        "cluster_results = {}\n",
        "for country in df_iv['Brand'].unique():\n",
        "    df_country = df_iv[df_iv['Brand'] == country]\n",
        "\n",
        "    X = df_country[main_cols]\n",
        "    X = sm.add_constant(X)\n",
        "    y = df_country['gdp']\n",
        "\n",
        "    model = sm.OLS(y, X).fit()\n",
        "    cluster_results[country] = model.params\n",
        "    display(\"For Country\", country)\n",
        "    display(model.params)\n",
        "\n"
      ],
      "metadata": {
        "colab": {
          "base_uri": "https://localhost:8080/",
          "height": 1000
        },
        "id": "B9AE0us-aFPU",
        "outputId": "213690e7-efd3-4385-dc3b-5c374da02831"
      },
      "execution_count": null,
      "outputs": [
        {
          "output_type": "display_data",
          "data": {
            "text/plain": [
              "'For Country'"
            ],
            "application/vnd.google.colaboratory.intrinsic+json": {
              "type": "string"
            }
          },
          "metadata": {}
        },
        {
          "output_type": "display_data",
          "data": {
            "text/plain": [
              "'Algeria'"
            ],
            "application/vnd.google.colaboratory.intrinsic+json": {
              "type": "string"
            }
          },
          "metadata": {}
        },
        {
          "output_type": "display_data",
          "data": {
            "text/plain": [
              "const                 194.088092\n",
              "ENTREPRENEURSHIP     -381.309592\n",
              "QUALITY OF LIFE       889.490544\n",
              "SOCIAL PURPOSE        248.049478\n",
              "CULTURAL INFLUENCE    376.382204\n",
              "OPEN FOR BUSINESS      41.231562\n",
              "ADVENTURE             908.759183\n",
              "POWER                 555.255074\n",
              "HERITAGE             -406.210940\n",
              "MOVERS                321.026101\n",
              "dtype: float64"
            ]
          },
          "metadata": {}
        },
        {
          "output_type": "display_data",
          "data": {
            "text/plain": [
              "'For Country'"
            ],
            "application/vnd.google.colaboratory.intrinsic+json": {
              "type": "string"
            }
          },
          "metadata": {}
        },
        {
          "output_type": "display_data",
          "data": {
            "text/plain": [
              "'Argentina'"
            ],
            "application/vnd.google.colaboratory.intrinsic+json": {
              "type": "string"
            }
          },
          "metadata": {}
        },
        {
          "output_type": "display_data",
          "data": {
            "text/plain": [
              "const                 -12.499328\n",
              "ENTREPRENEURSHIP       95.931236\n",
              "QUALITY OF LIFE        69.227089\n",
              "SOCIAL PURPOSE        186.158661\n",
              "CULTURAL INFLUENCE   -281.440699\n",
              "OPEN FOR BUSINESS      33.620972\n",
              "ADVENTURE             232.211065\n",
              "POWER                 699.184827\n",
              "HERITAGE              176.426372\n",
              "MOVERS               -141.616785\n",
              "dtype: float64"
            ]
          },
          "metadata": {}
        },
        {
          "output_type": "display_data",
          "data": {
            "text/plain": [
              "'For Country'"
            ],
            "application/vnd.google.colaboratory.intrinsic+json": {
              "type": "string"
            }
          },
          "metadata": {}
        },
        {
          "output_type": "display_data",
          "data": {
            "text/plain": [
              "'Australia'"
            ],
            "application/vnd.google.colaboratory.intrinsic+json": {
              "type": "string"
            }
          },
          "metadata": {}
        },
        {
          "output_type": "display_data",
          "data": {
            "text/plain": [
              "const                   0.299929\n",
              "ENTREPRENEURSHIP      841.809316\n",
              "QUALITY OF LIFE      -539.709519\n",
              "SOCIAL PURPOSE       -450.128803\n",
              "CULTURAL INFLUENCE     68.780202\n",
              "OPEN FOR BUSINESS     306.879257\n",
              "ADVENTURE             319.663125\n",
              "POWER                 527.416876\n",
              "HERITAGE              374.974993\n",
              "MOVERS                104.885925\n",
              "dtype: float64"
            ]
          },
          "metadata": {}
        },
        {
          "output_type": "display_data",
          "data": {
            "text/plain": [
              "'For Country'"
            ],
            "application/vnd.google.colaboratory.intrinsic+json": {
              "type": "string"
            }
          },
          "metadata": {}
        },
        {
          "output_type": "display_data",
          "data": {
            "text/plain": [
              "'Austria'"
            ],
            "application/vnd.google.colaboratory.intrinsic+json": {
              "type": "string"
            }
          },
          "metadata": {}
        },
        {
          "output_type": "display_data",
          "data": {
            "text/plain": [
              "const                   1.631618\n",
              "ENTREPRENEURSHIP       47.538636\n",
              "QUALITY OF LIFE       300.018864\n",
              "SOCIAL PURPOSE        -37.130420\n",
              "CULTURAL INFLUENCE     90.284723\n",
              "OPEN FOR BUSINESS     116.644301\n",
              "ADVENTURE             564.624117\n",
              "POWER                 161.855853\n",
              "HERITAGE               24.178675\n",
              "MOVERS               -291.516271\n",
              "dtype: float64"
            ]
          },
          "metadata": {}
        },
        {
          "output_type": "display_data",
          "data": {
            "text/plain": [
              "'For Country'"
            ],
            "application/vnd.google.colaboratory.intrinsic+json": {
              "type": "string"
            }
          },
          "metadata": {}
        },
        {
          "output_type": "display_data",
          "data": {
            "text/plain": [
              "'Azerbaijan'"
            ],
            "application/vnd.google.colaboratory.intrinsic+json": {
              "type": "string"
            }
          },
          "metadata": {}
        },
        {
          "output_type": "display_data",
          "data": {
            "text/plain": [
              "const                  170.444385\n",
              "ENTREPRENEURSHIP      1050.426296\n",
              "QUALITY OF LIFE       -785.800227\n",
              "SOCIAL PURPOSE        4126.967371\n",
              "CULTURAL INFLUENCE    -843.256928\n",
              "OPEN FOR BUSINESS      241.103379\n",
              "ADVENTURE             -883.464414\n",
              "POWER                -1096.905851\n",
              "HERITAGE              -209.603382\n",
              "MOVERS                 299.651337\n",
              "dtype: float64"
            ]
          },
          "metadata": {}
        },
        {
          "output_type": "display_data",
          "data": {
            "text/plain": [
              "'For Country'"
            ],
            "application/vnd.google.colaboratory.intrinsic+json": {
              "type": "string"
            }
          },
          "metadata": {}
        },
        {
          "output_type": "display_data",
          "data": {
            "text/plain": [
              "'Bolivia'"
            ],
            "application/vnd.google.colaboratory.intrinsic+json": {
              "type": "string"
            }
          },
          "metadata": {}
        },
        {
          "output_type": "display_data",
          "data": {
            "text/plain": [
              "const                  208.883025\n",
              "ENTREPRENEURSHIP      1430.730038\n",
              "QUALITY OF LIFE       1706.386011\n",
              "SOCIAL PURPOSE        -222.816115\n",
              "CULTURAL INFLUENCE     250.528987\n",
              "OPEN FOR BUSINESS      518.526405\n",
              "ADVENTURE            -1048.611290\n",
              "POWER                  470.100221\n",
              "HERITAGE               454.844444\n",
              "MOVERS                 573.052324\n",
              "dtype: float64"
            ]
          },
          "metadata": {}
        },
        {
          "output_type": "display_data",
          "data": {
            "text/plain": [
              "'For Country'"
            ],
            "application/vnd.google.colaboratory.intrinsic+json": {
              "type": "string"
            }
          },
          "metadata": {}
        },
        {
          "output_type": "display_data",
          "data": {
            "text/plain": [
              "'Brazil'"
            ],
            "application/vnd.google.colaboratory.intrinsic+json": {
              "type": "string"
            }
          },
          "metadata": {}
        },
        {
          "output_type": "display_data",
          "data": {
            "text/plain": [
              "ENTREPRENEURSHIP     -114.395572\n",
              "QUALITY OF LIFE       207.414625\n",
              "SOCIAL PURPOSE       -221.260136\n",
              "CULTURAL INFLUENCE    191.513113\n",
              "OPEN FOR BUSINESS      43.026438\n",
              "ADVENTURE             187.296318\n",
              "POWER                 332.401862\n",
              "HERITAGE             -102.574730\n",
              "MOVERS               -178.864027\n",
              "dtype: float64"
            ]
          },
          "metadata": {}
        },
        {
          "output_type": "display_data",
          "data": {
            "text/plain": [
              "'For Country'"
            ],
            "application/vnd.google.colaboratory.intrinsic+json": {
              "type": "string"
            }
          },
          "metadata": {}
        },
        {
          "output_type": "display_data",
          "data": {
            "text/plain": [
              "'Bulgaria'"
            ],
            "application/vnd.google.colaboratory.intrinsic+json": {
              "type": "string"
            }
          },
          "metadata": {}
        },
        {
          "output_type": "display_data",
          "data": {
            "text/plain": [
              "const                   82.480379\n",
              "ENTREPRENEURSHIP       664.045480\n",
              "QUALITY OF LIFE       -470.193460\n",
              "SOCIAL PURPOSE         611.414707\n",
              "CULTURAL INFLUENCE     254.181425\n",
              "OPEN FOR BUSINESS      240.981731\n",
              "ADVENTURE             1410.341171\n",
              "POWER                 -112.767441\n",
              "HERITAGE              -909.800948\n",
              "MOVERS                 -59.283194\n",
              "dtype: float64"
            ]
          },
          "metadata": {}
        },
        {
          "output_type": "display_data",
          "data": {
            "text/plain": [
              "'For Country'"
            ],
            "application/vnd.google.colaboratory.intrinsic+json": {
              "type": "string"
            }
          },
          "metadata": {}
        },
        {
          "output_type": "display_data",
          "data": {
            "text/plain": [
              "'Canada'"
            ],
            "application/vnd.google.colaboratory.intrinsic+json": {
              "type": "string"
            }
          },
          "metadata": {}
        },
        {
          "output_type": "display_data",
          "data": {
            "text/plain": [
              "const                  -16.396818\n",
              "ENTREPRENEURSHIP      2017.387867\n",
              "QUALITY OF LIFE       -765.506073\n",
              "SOCIAL PURPOSE        -142.495924\n",
              "CULTURAL INFLUENCE   -1074.780287\n",
              "OPEN FOR BUSINESS        9.928737\n",
              "ADVENTURE             -936.005851\n",
              "POWER                  431.548599\n",
              "HERITAGE              1977.061637\n",
              "MOVERS                -224.755104\n",
              "dtype: float64"
            ]
          },
          "metadata": {}
        },
        {
          "output_type": "display_data",
          "data": {
            "text/plain": [
              "'For Country'"
            ],
            "application/vnd.google.colaboratory.intrinsic+json": {
              "type": "string"
            }
          },
          "metadata": {}
        },
        {
          "output_type": "display_data",
          "data": {
            "text/plain": [
              "'Chile'"
            ],
            "application/vnd.google.colaboratory.intrinsic+json": {
              "type": "string"
            }
          },
          "metadata": {}
        },
        {
          "output_type": "display_data",
          "data": {
            "text/plain": [
              "const                  20.125159\n",
              "ENTREPRENEURSHIP     -317.132674\n",
              "QUALITY OF LIFE      -360.217697\n",
              "SOCIAL PURPOSE       -253.341710\n",
              "CULTURAL INFLUENCE   -180.170555\n",
              "OPEN FOR BUSINESS     -64.106649\n",
              "ADVENTURE             565.125768\n",
              "POWER                 815.333903\n",
              "HERITAGE              514.335202\n",
              "MOVERS                 76.027506\n",
              "dtype: float64"
            ]
          },
          "metadata": {}
        },
        {
          "output_type": "display_data",
          "data": {
            "text/plain": [
              "'For Country'"
            ],
            "application/vnd.google.colaboratory.intrinsic+json": {
              "type": "string"
            }
          },
          "metadata": {}
        },
        {
          "output_type": "display_data",
          "data": {
            "text/plain": [
              "'China'"
            ],
            "application/vnd.google.colaboratory.intrinsic+json": {
              "type": "string"
            }
          },
          "metadata": {}
        },
        {
          "output_type": "display_data",
          "data": {
            "text/plain": [
              "const                  -2.624364\n",
              "ENTREPRENEURSHIP     -112.530960\n",
              "QUALITY OF LIFE       134.162408\n",
              "SOCIAL PURPOSE       -150.615203\n",
              "CULTURAL INFLUENCE    338.702406\n",
              "OPEN FOR BUSINESS     133.907792\n",
              "ADVENTURE             -52.285537\n",
              "POWER                  91.653120\n",
              "HERITAGE             -198.997943\n",
              "MOVERS                 55.829144\n",
              "dtype: float64"
            ]
          },
          "metadata": {}
        },
        {
          "output_type": "display_data",
          "data": {
            "text/plain": [
              "'For Country'"
            ],
            "application/vnd.google.colaboratory.intrinsic+json": {
              "type": "string"
            }
          },
          "metadata": {}
        },
        {
          "output_type": "display_data",
          "data": {
            "text/plain": [
              "'Colombia'"
            ],
            "application/vnd.google.colaboratory.intrinsic+json": {
              "type": "string"
            }
          },
          "metadata": {}
        },
        {
          "output_type": "display_data",
          "data": {
            "text/plain": [
              "const                  53.705947\n",
              "ENTREPRENEURSHIP       22.962308\n",
              "QUALITY OF LIFE      -191.067055\n",
              "SOCIAL PURPOSE        336.673001\n",
              "CULTURAL INFLUENCE    604.265400\n",
              "OPEN FOR BUSINESS    -161.918536\n",
              "ADVENTURE             187.043756\n",
              "POWER                 901.551066\n",
              "HERITAGE             -169.500750\n",
              "MOVERS                244.728848\n",
              "dtype: float64"
            ]
          },
          "metadata": {}
        },
        {
          "output_type": "display_data",
          "data": {
            "text/plain": [
              "'For Country'"
            ],
            "application/vnd.google.colaboratory.intrinsic+json": {
              "type": "string"
            }
          },
          "metadata": {}
        },
        {
          "output_type": "display_data",
          "data": {
            "text/plain": [
              "'Costa Rica'"
            ],
            "application/vnd.google.colaboratory.intrinsic+json": {
              "type": "string"
            }
          },
          "metadata": {}
        },
        {
          "output_type": "display_data",
          "data": {
            "text/plain": [
              "const                 -17.472638\n",
              "ENTREPRENEURSHIP     -321.934303\n",
              "QUALITY OF LIFE       225.524852\n",
              "SOCIAL PURPOSE        903.061825\n",
              "CULTURAL INFLUENCE    136.684001\n",
              "OPEN FOR BUSINESS     100.771773\n",
              "ADVENTURE             -73.933049\n",
              "POWER                 633.441935\n",
              "HERITAGE              240.239663\n",
              "MOVERS                 52.148517\n",
              "dtype: float64"
            ]
          },
          "metadata": {}
        },
        {
          "output_type": "display_data",
          "data": {
            "text/plain": [
              "'For Country'"
            ],
            "application/vnd.google.colaboratory.intrinsic+json": {
              "type": "string"
            }
          },
          "metadata": {}
        },
        {
          "output_type": "display_data",
          "data": {
            "text/plain": [
              "'Czechia'"
            ],
            "application/vnd.google.colaboratory.intrinsic+json": {
              "type": "string"
            }
          },
          "metadata": {}
        },
        {
          "output_type": "display_data",
          "data": {
            "text/plain": [
              "const                   70.425883\n",
              "ENTREPRENEURSHIP        45.225501\n",
              "QUALITY OF LIFE        773.331943\n",
              "SOCIAL PURPOSE         204.446098\n",
              "CULTURAL INFLUENCE   -1145.356078\n",
              "OPEN FOR BUSINESS      755.858058\n",
              "ADVENTURE              646.390254\n",
              "POWER                 -787.527377\n",
              "HERITAGE              -774.986128\n",
              "MOVERS                -351.254612\n",
              "dtype: float64"
            ]
          },
          "metadata": {}
        },
        {
          "output_type": "display_data",
          "data": {
            "text/plain": [
              "'For Country'"
            ],
            "application/vnd.google.colaboratory.intrinsic+json": {
              "type": "string"
            }
          },
          "metadata": {}
        },
        {
          "output_type": "display_data",
          "data": {
            "text/plain": [
              "'Denmark'"
            ],
            "application/vnd.google.colaboratory.intrinsic+json": {
              "type": "string"
            }
          },
          "metadata": {}
        },
        {
          "output_type": "display_data",
          "data": {
            "text/plain": [
              "const                  -2.849333\n",
              "ENTREPRENEURSHIP     -502.830940\n",
              "QUALITY OF LIFE       736.609127\n",
              "SOCIAL PURPOSE       -156.906200\n",
              "CULTURAL INFLUENCE    136.395886\n",
              "OPEN FOR BUSINESS     147.390315\n",
              "ADVENTURE             944.542107\n",
              "POWER                 601.100921\n",
              "HERITAGE             -328.801131\n",
              "MOVERS               -605.530318\n",
              "dtype: float64"
            ]
          },
          "metadata": {}
        },
        {
          "output_type": "display_data",
          "data": {
            "text/plain": [
              "'For Country'"
            ],
            "application/vnd.google.colaboratory.intrinsic+json": {
              "type": "string"
            }
          },
          "metadata": {}
        },
        {
          "output_type": "display_data",
          "data": {
            "text/plain": [
              "'Dominican Republic'"
            ],
            "application/vnd.google.colaboratory.intrinsic+json": {
              "type": "string"
            }
          },
          "metadata": {}
        },
        {
          "output_type": "display_data",
          "data": {
            "text/plain": [
              "const                  11.862100\n",
              "ENTREPRENEURSHIP      -68.262859\n",
              "QUALITY OF LIFE      -186.370348\n",
              "SOCIAL PURPOSE       -129.875775\n",
              "CULTURAL INFLUENCE   -211.763144\n",
              "OPEN FOR BUSINESS    -302.846162\n",
              "ADVENTURE             792.385392\n",
              "POWER                 251.664650\n",
              "HERITAGE             -128.697436\n",
              "MOVERS                 75.887325\n",
              "dtype: float64"
            ]
          },
          "metadata": {}
        },
        {
          "output_type": "display_data",
          "data": {
            "text/plain": [
              "'For Country'"
            ],
            "application/vnd.google.colaboratory.intrinsic+json": {
              "type": "string"
            }
          },
          "metadata": {}
        },
        {
          "output_type": "display_data",
          "data": {
            "text/plain": [
              "'Egypt'"
            ],
            "application/vnd.google.colaboratory.intrinsic+json": {
              "type": "string"
            }
          },
          "metadata": {}
        },
        {
          "output_type": "display_data",
          "data": {
            "text/plain": [
              "const                  -4.134599\n",
              "ENTREPRENEURSHIP       24.719891\n",
              "QUALITY OF LIFE       -29.033825\n",
              "SOCIAL PURPOSE        346.244445\n",
              "CULTURAL INFLUENCE    477.314576\n",
              "OPEN FOR BUSINESS      32.700875\n",
              "ADVENTURE             -91.810400\n",
              "POWER                 147.249482\n",
              "HERITAGE              -52.312439\n",
              "MOVERS                 40.342771\n",
              "dtype: float64"
            ]
          },
          "metadata": {}
        },
        {
          "output_type": "display_data",
          "data": {
            "text/plain": [
              "'For Country'"
            ],
            "application/vnd.google.colaboratory.intrinsic+json": {
              "type": "string"
            }
          },
          "metadata": {}
        },
        {
          "output_type": "display_data",
          "data": {
            "text/plain": [
              "'France'"
            ],
            "application/vnd.google.colaboratory.intrinsic+json": {
              "type": "string"
            }
          },
          "metadata": {}
        },
        {
          "output_type": "display_data",
          "data": {
            "text/plain": [
              "const                   -0.753807\n",
              "ENTREPRENEURSHIP       644.954508\n",
              "QUALITY OF LIFE        145.389953\n",
              "SOCIAL PURPOSE         339.514522\n",
              "CULTURAL INFLUENCE     336.972199\n",
              "OPEN FOR BUSINESS     -166.158361\n",
              "ADVENTURE              810.912346\n",
              "POWER                  590.447560\n",
              "HERITAGE             -1405.614424\n",
              "MOVERS                -368.113593\n",
              "dtype: float64"
            ]
          },
          "metadata": {}
        },
        {
          "output_type": "display_data",
          "data": {
            "text/plain": [
              "'For Country'"
            ],
            "application/vnd.google.colaboratory.intrinsic+json": {
              "type": "string"
            }
          },
          "metadata": {}
        },
        {
          "output_type": "display_data",
          "data": {
            "text/plain": [
              "'Germany'"
            ],
            "application/vnd.google.colaboratory.intrinsic+json": {
              "type": "string"
            }
          },
          "metadata": {}
        },
        {
          "output_type": "display_data",
          "data": {
            "text/plain": [
              "const                    1.328014\n",
              "ENTREPRENEURSHIP      -268.473061\n",
              "QUALITY OF LIFE       1461.383351\n",
              "SOCIAL PURPOSE         723.856864\n",
              "CULTURAL INFLUENCE     403.800740\n",
              "OPEN FOR BUSINESS    -1157.425036\n",
              "ADVENTURE              370.707741\n",
              "POWER                  309.845022\n",
              "HERITAGE             -1392.312976\n",
              "MOVERS                -579.238349\n",
              "dtype: float64"
            ]
          },
          "metadata": {}
        },
        {
          "output_type": "display_data",
          "data": {
            "text/plain": [
              "'For Country'"
            ],
            "application/vnd.google.colaboratory.intrinsic+json": {
              "type": "string"
            }
          },
          "metadata": {}
        },
        {
          "output_type": "display_data",
          "data": {
            "text/plain": [
              "'Greece'"
            ],
            "application/vnd.google.colaboratory.intrinsic+json": {
              "type": "string"
            }
          },
          "metadata": {}
        },
        {
          "output_type": "display_data",
          "data": {
            "text/plain": [
              "const                   12.424386\n",
              "ENTREPRENEURSHIP      1094.832707\n",
              "QUALITY OF LIFE        142.199125\n",
              "SOCIAL PURPOSE        -541.835577\n",
              "CULTURAL INFLUENCE     234.553953\n",
              "OPEN FOR BUSINESS     -197.368331\n",
              "ADVENTURE             -251.437969\n",
              "POWER                  917.430323\n",
              "HERITAGE               219.821289\n",
              "MOVERS                 342.356829\n",
              "dtype: float64"
            ]
          },
          "metadata": {}
        },
        {
          "output_type": "display_data",
          "data": {
            "text/plain": [
              "'For Country'"
            ],
            "application/vnd.google.colaboratory.intrinsic+json": {
              "type": "string"
            }
          },
          "metadata": {}
        },
        {
          "output_type": "display_data",
          "data": {
            "text/plain": [
              "'Guatemala'"
            ],
            "application/vnd.google.colaboratory.intrinsic+json": {
              "type": "string"
            }
          },
          "metadata": {}
        },
        {
          "output_type": "display_data",
          "data": {
            "text/plain": [
              "const                   5.364727\n",
              "ENTREPRENEURSHIP      386.853208\n",
              "QUALITY OF LIFE      -185.464065\n",
              "SOCIAL PURPOSE        499.692043\n",
              "CULTURAL INFLUENCE   -329.470136\n",
              "OPEN FOR BUSINESS     218.636872\n",
              "ADVENTURE              19.296212\n",
              "POWER                  90.058445\n",
              "HERITAGE             -107.215658\n",
              "MOVERS                -90.079405\n",
              "dtype: float64"
            ]
          },
          "metadata": {}
        },
        {
          "output_type": "display_data",
          "data": {
            "text/plain": [
              "'For Country'"
            ],
            "application/vnd.google.colaboratory.intrinsic+json": {
              "type": "string"
            }
          },
          "metadata": {}
        },
        {
          "output_type": "display_data",
          "data": {
            "text/plain": [
              "'Hungary'"
            ],
            "application/vnd.google.colaboratory.intrinsic+json": {
              "type": "string"
            }
          },
          "metadata": {}
        },
        {
          "output_type": "display_data",
          "data": {
            "text/plain": [
              "const                   80.177940\n",
              "ENTREPRENEURSHIP      3282.653206\n",
              "QUALITY OF LIFE       -541.092839\n",
              "SOCIAL PURPOSE        1541.454169\n",
              "CULTURAL INFLUENCE    -280.919108\n",
              "OPEN FOR BUSINESS    -1152.294995\n",
              "ADVENTURE             1360.721169\n",
              "POWER                  432.414207\n",
              "HERITAGE              -464.735386\n",
              "MOVERS                 380.136197\n",
              "dtype: float64"
            ]
          },
          "metadata": {}
        },
        {
          "output_type": "display_data",
          "data": {
            "text/plain": [
              "'For Country'"
            ],
            "application/vnd.google.colaboratory.intrinsic+json": {
              "type": "string"
            }
          },
          "metadata": {}
        },
        {
          "output_type": "display_data",
          "data": {
            "text/plain": [
              "'India'"
            ],
            "application/vnd.google.colaboratory.intrinsic+json": {
              "type": "string"
            }
          },
          "metadata": {}
        },
        {
          "output_type": "display_data",
          "data": {
            "text/plain": [
              "const                  -2.393656\n",
              "ENTREPRENEURSHIP      -68.405916\n",
              "QUALITY OF LIFE      -343.054539\n",
              "SOCIAL PURPOSE       -134.440934\n",
              "CULTURAL INFLUENCE    -24.840538\n",
              "OPEN FOR BUSINESS      95.289606\n",
              "ADVENTURE            -118.247165\n",
              "POWER                  45.036242\n",
              "HERITAGE              153.623083\n",
              "MOVERS                 15.296972\n",
              "dtype: float64"
            ]
          },
          "metadata": {}
        },
        {
          "output_type": "display_data",
          "data": {
            "text/plain": [
              "'For Country'"
            ],
            "application/vnd.google.colaboratory.intrinsic+json": {
              "type": "string"
            }
          },
          "metadata": {}
        },
        {
          "output_type": "display_data",
          "data": {
            "text/plain": [
              "'Indonesia'"
            ],
            "application/vnd.google.colaboratory.intrinsic+json": {
              "type": "string"
            }
          },
          "metadata": {}
        },
        {
          "output_type": "display_data",
          "data": {
            "text/plain": [
              "const                   43.865965\n",
              "ENTREPRENEURSHIP      -295.812219\n",
              "QUALITY OF LIFE        401.837346\n",
              "SOCIAL PURPOSE       -1177.464171\n",
              "CULTURAL INFLUENCE     128.336864\n",
              "OPEN FOR BUSINESS      160.784668\n",
              "ADVENTURE              -14.407196\n",
              "POWER                  716.323918\n",
              "HERITAGE               -13.586212\n",
              "MOVERS                 -72.419991\n",
              "dtype: float64"
            ]
          },
          "metadata": {}
        },
        {
          "output_type": "display_data",
          "data": {
            "text/plain": [
              "'For Country'"
            ],
            "application/vnd.google.colaboratory.intrinsic+json": {
              "type": "string"
            }
          },
          "metadata": {}
        },
        {
          "output_type": "display_data",
          "data": {
            "text/plain": [
              "'Iran'"
            ],
            "application/vnd.google.colaboratory.intrinsic+json": {
              "type": "string"
            }
          },
          "metadata": {}
        },
        {
          "output_type": "display_data",
          "data": {
            "text/plain": [
              "const                 8.444406e+01\n",
              "ENTREPRENEURSHIP      6.891866e+01\n",
              "QUALITY OF LIFE       6.162677e+02\n",
              "SOCIAL PURPOSE       -1.423177e-12\n",
              "CULTURAL INFLUENCE   -7.229600e+02\n",
              "OPEN FOR BUSINESS     1.679697e+02\n",
              "ADVENTURE             3.596231e+02\n",
              "POWER                 1.251869e+03\n",
              "HERITAGE             -5.210879e+02\n",
              "MOVERS                1.268391e+02\n",
              "dtype: float64"
            ]
          },
          "metadata": {}
        },
        {
          "output_type": "display_data",
          "data": {
            "text/plain": [
              "'For Country'"
            ],
            "application/vnd.google.colaboratory.intrinsic+json": {
              "type": "string"
            }
          },
          "metadata": {}
        },
        {
          "output_type": "display_data",
          "data": {
            "text/plain": [
              "'Ireland'"
            ],
            "application/vnd.google.colaboratory.intrinsic+json": {
              "type": "string"
            }
          },
          "metadata": {}
        },
        {
          "output_type": "display_data",
          "data": {
            "text/plain": [
              "const                  -69.887277\n",
              "ENTREPRENEURSHIP     -3145.583430\n",
              "QUALITY OF LIFE        488.220412\n",
              "SOCIAL PURPOSE       -1250.260671\n",
              "CULTURAL INFLUENCE      48.755983\n",
              "OPEN FOR BUSINESS     1658.341800\n",
              "ADVENTURE             2275.107834\n",
              "POWER                 1041.502524\n",
              "HERITAGE               872.994884\n",
              "MOVERS                -115.526025\n",
              "dtype: float64"
            ]
          },
          "metadata": {}
        },
        {
          "output_type": "display_data",
          "data": {
            "text/plain": [
              "'For Country'"
            ],
            "application/vnd.google.colaboratory.intrinsic+json": {
              "type": "string"
            }
          },
          "metadata": {}
        },
        {
          "output_type": "display_data",
          "data": {
            "text/plain": [
              "'Israel'"
            ],
            "application/vnd.google.colaboratory.intrinsic+json": {
              "type": "string"
            }
          },
          "metadata": {}
        },
        {
          "output_type": "display_data",
          "data": {
            "text/plain": [
              "const                   87.251161\n",
              "ENTREPRENEURSHIP      -582.953609\n",
              "QUALITY OF LIFE        288.208462\n",
              "SOCIAL PURPOSE        -196.128619\n",
              "CULTURAL INFLUENCE    2016.104215\n",
              "OPEN FOR BUSINESS      203.616359\n",
              "ADVENTURE              876.961951\n",
              "POWER                  477.258456\n",
              "HERITAGE               -65.760301\n",
              "MOVERS                 -33.643380\n",
              "dtype: float64"
            ]
          },
          "metadata": {}
        },
        {
          "output_type": "display_data",
          "data": {
            "text/plain": [
              "'For Country'"
            ],
            "application/vnd.google.colaboratory.intrinsic+json": {
              "type": "string"
            }
          },
          "metadata": {}
        },
        {
          "output_type": "display_data",
          "data": {
            "text/plain": [
              "'Italy'"
            ],
            "application/vnd.google.colaboratory.intrinsic+json": {
              "type": "string"
            }
          },
          "metadata": {}
        },
        {
          "output_type": "display_data",
          "data": {
            "text/plain": [
              "const                    3.923461\n",
              "ENTREPRENEURSHIP       991.166225\n",
              "QUALITY OF LIFE       1246.494985\n",
              "SOCIAL PURPOSE        -394.150091\n",
              "CULTURAL INFLUENCE     548.312831\n",
              "OPEN FOR BUSINESS    -1163.159031\n",
              "ADVENTURE            -1147.086404\n",
              "POWER                  506.818546\n",
              "HERITAGE               226.528859\n",
              "MOVERS                 861.801826\n",
              "dtype: float64"
            ]
          },
          "metadata": {}
        },
        {
          "output_type": "display_data",
          "data": {
            "text/plain": [
              "'For Country'"
            ],
            "application/vnd.google.colaboratory.intrinsic+json": {
              "type": "string"
            }
          },
          "metadata": {}
        },
        {
          "output_type": "display_data",
          "data": {
            "text/plain": [
              "'Japan'"
            ],
            "application/vnd.google.colaboratory.intrinsic+json": {
              "type": "string"
            }
          },
          "metadata": {}
        },
        {
          "output_type": "display_data",
          "data": {
            "text/plain": [
              "const                   3.653629\n",
              "ENTREPRENEURSHIP        4.540130\n",
              "QUALITY OF LIFE       161.609577\n",
              "SOCIAL PURPOSE         35.730913\n",
              "CULTURAL INFLUENCE    368.108141\n",
              "OPEN FOR BUSINESS     102.282523\n",
              "ADVENTURE             133.273395\n",
              "POWER                -372.354353\n",
              "HERITAGE               85.370173\n",
              "MOVERS                128.440886\n",
              "dtype: float64"
            ]
          },
          "metadata": {}
        },
        {
          "output_type": "display_data",
          "data": {
            "text/plain": [
              "'For Country'"
            ],
            "application/vnd.google.colaboratory.intrinsic+json": {
              "type": "string"
            }
          },
          "metadata": {}
        },
        {
          "output_type": "display_data",
          "data": {
            "text/plain": [
              "'Jordan'"
            ],
            "application/vnd.google.colaboratory.intrinsic+json": {
              "type": "string"
            }
          },
          "metadata": {}
        },
        {
          "output_type": "display_data",
          "data": {
            "text/plain": [
              "const                 1164.779382\n",
              "ENTREPRENEURSHIP      -724.979407\n",
              "QUALITY OF LIFE      -1203.589868\n",
              "SOCIAL PURPOSE        2093.514473\n",
              "CULTURAL INFLUENCE   -1802.252544\n",
              "OPEN FOR BUSINESS      184.631675\n",
              "ADVENTURE              354.188534\n",
              "POWER                   24.564419\n",
              "HERITAGE              -155.516499\n",
              "MOVERS                 501.372939\n",
              "dtype: float64"
            ]
          },
          "metadata": {}
        },
        {
          "output_type": "display_data",
          "data": {
            "text/plain": [
              "'For Country'"
            ],
            "application/vnd.google.colaboratory.intrinsic+json": {
              "type": "string"
            }
          },
          "metadata": {}
        },
        {
          "output_type": "display_data",
          "data": {
            "text/plain": [
              "'Kazakhstan'"
            ],
            "application/vnd.google.colaboratory.intrinsic+json": {
              "type": "string"
            }
          },
          "metadata": {}
        },
        {
          "output_type": "display_data",
          "data": {
            "text/plain": [
              "const                  532.222195\n",
              "ENTREPRENEURSHIP      1847.007790\n",
              "QUALITY OF LIFE        704.912939\n",
              "SOCIAL PURPOSE        1238.070467\n",
              "CULTURAL INFLUENCE    1037.517110\n",
              "OPEN FOR BUSINESS      273.806952\n",
              "ADVENTURE             3944.883456\n",
              "POWER                  440.273715\n",
              "HERITAGE              -706.185470\n",
              "MOVERS                -392.417457\n",
              "dtype: float64"
            ]
          },
          "metadata": {}
        },
        {
          "output_type": "display_data",
          "data": {
            "text/plain": [
              "'For Country'"
            ],
            "application/vnd.google.colaboratory.intrinsic+json": {
              "type": "string"
            }
          },
          "metadata": {}
        },
        {
          "output_type": "display_data",
          "data": {
            "text/plain": [
              "'Luxembourg'"
            ],
            "application/vnd.google.colaboratory.intrinsic+json": {
              "type": "string"
            }
          },
          "metadata": {}
        },
        {
          "output_type": "display_data",
          "data": {
            "text/plain": [
              "const                   71.903114\n",
              "ENTREPRENEURSHIP      -890.376459\n",
              "QUALITY OF LIFE       1262.744349\n",
              "SOCIAL PURPOSE         423.913987\n",
              "CULTURAL INFLUENCE    -589.713363\n",
              "OPEN FOR BUSINESS      -12.838821\n",
              "ADVENTURE             3165.140870\n",
              "POWER                 -656.842875\n",
              "HERITAGE              -492.907153\n",
              "MOVERS                1856.941716\n",
              "dtype: float64"
            ]
          },
          "metadata": {}
        },
        {
          "output_type": "display_data",
          "data": {
            "text/plain": [
              "'For Country'"
            ],
            "application/vnd.google.colaboratory.intrinsic+json": {
              "type": "string"
            }
          },
          "metadata": {}
        },
        {
          "output_type": "display_data",
          "data": {
            "text/plain": [
              "'Malaysia'"
            ],
            "application/vnd.google.colaboratory.intrinsic+json": {
              "type": "string"
            }
          },
          "metadata": {}
        },
        {
          "output_type": "display_data",
          "data": {
            "text/plain": [
              "const                   33.341383\n",
              "ENTREPRENEURSHIP       392.626150\n",
              "QUALITY OF LIFE        116.620691\n",
              "SOCIAL PURPOSE         222.465700\n",
              "CULTURAL INFLUENCE      27.136065\n",
              "OPEN FOR BUSINESS     -611.220862\n",
              "ADVENTURE              -51.907313\n",
              "POWER                  144.249185\n",
              "HERITAGE              1178.414164\n",
              "MOVERS                 543.425761\n",
              "dtype: float64"
            ]
          },
          "metadata": {}
        },
        {
          "output_type": "display_data",
          "data": {
            "text/plain": [
              "'For Country'"
            ],
            "application/vnd.google.colaboratory.intrinsic+json": {
              "type": "string"
            }
          },
          "metadata": {}
        },
        {
          "output_type": "display_data",
          "data": {
            "text/plain": [
              "'Mexico'"
            ],
            "application/vnd.google.colaboratory.intrinsic+json": {
              "type": "string"
            }
          },
          "metadata": {}
        },
        {
          "output_type": "display_data",
          "data": {
            "text/plain": [
              "const                  22.340732\n",
              "ENTREPRENEURSHIP       97.934407\n",
              "QUALITY OF LIFE       220.661767\n",
              "SOCIAL PURPOSE       -279.286934\n",
              "CULTURAL INFLUENCE   -546.597559\n",
              "OPEN FOR BUSINESS     309.531170\n",
              "ADVENTURE               2.615774\n",
              "POWER                 150.607868\n",
              "HERITAGE              304.432258\n",
              "MOVERS                -45.777987\n",
              "dtype: float64"
            ]
          },
          "metadata": {}
        },
        {
          "output_type": "display_data",
          "data": {
            "text/plain": [
              "'For Country'"
            ],
            "application/vnd.google.colaboratory.intrinsic+json": {
              "type": "string"
            }
          },
          "metadata": {}
        },
        {
          "output_type": "display_data",
          "data": {
            "text/plain": [
              "'Morocco'"
            ],
            "application/vnd.google.colaboratory.intrinsic+json": {
              "type": "string"
            }
          },
          "metadata": {}
        },
        {
          "output_type": "display_data",
          "data": {
            "text/plain": [
              "const                 -10.003987\n",
              "ENTREPRENEURSHIP      427.743033\n",
              "QUALITY OF LIFE        51.378698\n",
              "SOCIAL PURPOSE        462.290581\n",
              "CULTURAL INFLUENCE    -81.998236\n",
              "OPEN FOR BUSINESS    -113.591239\n",
              "ADVENTURE             -26.485122\n",
              "POWER                 993.623293\n",
              "HERITAGE               35.475816\n",
              "MOVERS                143.076196\n",
              "dtype: float64"
            ]
          },
          "metadata": {}
        },
        {
          "output_type": "display_data",
          "data": {
            "text/plain": [
              "'For Country'"
            ],
            "application/vnd.google.colaboratory.intrinsic+json": {
              "type": "string"
            }
          },
          "metadata": {}
        },
        {
          "output_type": "display_data",
          "data": {
            "text/plain": [
              "'Netherlands'"
            ],
            "application/vnd.google.colaboratory.intrinsic+json": {
              "type": "string"
            }
          },
          "metadata": {}
        },
        {
          "output_type": "display_data",
          "data": {
            "text/plain": [
              "const                   12.733378\n",
              "ENTREPRENEURSHIP     -1157.857183\n",
              "QUALITY OF LIFE       2364.488167\n",
              "SOCIAL PURPOSE        -206.267343\n",
              "CULTURAL INFLUENCE     422.005256\n",
              "OPEN FOR BUSINESS     -860.629916\n",
              "ADVENTURE               91.362299\n",
              "POWER                  379.002117\n",
              "HERITAGE              -236.253393\n",
              "MOVERS                  -6.051925\n",
              "dtype: float64"
            ]
          },
          "metadata": {}
        },
        {
          "output_type": "display_data",
          "data": {
            "text/plain": [
              "'For Country'"
            ],
            "application/vnd.google.colaboratory.intrinsic+json": {
              "type": "string"
            }
          },
          "metadata": {}
        },
        {
          "output_type": "display_data",
          "data": {
            "text/plain": [
              "'New Zealand'"
            ],
            "application/vnd.google.colaboratory.intrinsic+json": {
              "type": "string"
            }
          },
          "metadata": {}
        },
        {
          "output_type": "display_data",
          "data": {
            "text/plain": [
              "const                   2.807625\n",
              "ENTREPRENEURSHIP      100.359057\n",
              "QUALITY OF LIFE       194.687840\n",
              "SOCIAL PURPOSE        470.551191\n",
              "CULTURAL INFLUENCE    390.787267\n",
              "OPEN FOR BUSINESS    -243.105980\n",
              "ADVENTURE              92.042140\n",
              "POWER                 249.765394\n",
              "HERITAGE              -40.459096\n",
              "MOVERS               -426.078115\n",
              "dtype: float64"
            ]
          },
          "metadata": {}
        },
        {
          "output_type": "display_data",
          "data": {
            "text/plain": [
              "'For Country'"
            ],
            "application/vnd.google.colaboratory.intrinsic+json": {
              "type": "string"
            }
          },
          "metadata": {}
        },
        {
          "output_type": "display_data",
          "data": {
            "text/plain": [
              "'Nigeria'"
            ],
            "application/vnd.google.colaboratory.intrinsic+json": {
              "type": "string"
            }
          },
          "metadata": {}
        },
        {
          "output_type": "display_data",
          "data": {
            "text/plain": [
              "const                  66.485160\n",
              "ENTREPRENEURSHIP      115.678030\n",
              "QUALITY OF LIFE        65.384962\n",
              "SOCIAL PURPOSE        -22.982032\n",
              "CULTURAL INFLUENCE   -320.275531\n",
              "OPEN FOR BUSINESS     830.464551\n",
              "ADVENTURE            -934.395170\n",
              "POWER                -219.923000\n",
              "HERITAGE              505.518381\n",
              "MOVERS                558.921404\n",
              "dtype: float64"
            ]
          },
          "metadata": {}
        },
        {
          "output_type": "display_data",
          "data": {
            "text/plain": [
              "'For Country'"
            ],
            "application/vnd.google.colaboratory.intrinsic+json": {
              "type": "string"
            }
          },
          "metadata": {}
        },
        {
          "output_type": "display_data",
          "data": {
            "text/plain": [
              "'Pakistan'"
            ],
            "application/vnd.google.colaboratory.intrinsic+json": {
              "type": "string"
            }
          },
          "metadata": {}
        },
        {
          "output_type": "display_data",
          "data": {
            "text/plain": [
              "const                   54.897652\n",
              "ENTREPRENEURSHIP       -99.878596\n",
              "QUALITY OF LIFE        621.672395\n",
              "SOCIAL PURPOSE         128.060449\n",
              "CULTURAL INFLUENCE    -219.714311\n",
              "OPEN FOR BUSINESS       55.357290\n",
              "ADVENTURE               76.829644\n",
              "POWER                 1040.050803\n",
              "HERITAGE               387.091247\n",
              "MOVERS                 444.972816\n",
              "dtype: float64"
            ]
          },
          "metadata": {}
        },
        {
          "output_type": "display_data",
          "data": {
            "text/plain": [
              "'For Country'"
            ],
            "application/vnd.google.colaboratory.intrinsic+json": {
              "type": "string"
            }
          },
          "metadata": {}
        },
        {
          "output_type": "display_data",
          "data": {
            "text/plain": [
              "'Panama'"
            ],
            "application/vnd.google.colaboratory.intrinsic+json": {
              "type": "string"
            }
          },
          "metadata": {}
        },
        {
          "output_type": "display_data",
          "data": {
            "text/plain": [
              "const                  530.260166\n",
              "ENTREPRENEURSHIP      1559.011094\n",
              "QUALITY OF LIFE      -2848.587475\n",
              "SOCIAL PURPOSE        1257.780076\n",
              "CULTURAL INFLUENCE   -4423.977230\n",
              "OPEN FOR BUSINESS     -332.844286\n",
              "ADVENTURE             2532.004310\n",
              "POWER                -1724.350946\n",
              "HERITAGE              2147.839990\n",
              "MOVERS                -383.562678\n",
              "dtype: float64"
            ]
          },
          "metadata": {}
        },
        {
          "output_type": "display_data",
          "data": {
            "text/plain": [
              "'For Country'"
            ],
            "application/vnd.google.colaboratory.intrinsic+json": {
              "type": "string"
            }
          },
          "metadata": {}
        },
        {
          "output_type": "display_data",
          "data": {
            "text/plain": [
              "'Peru'"
            ],
            "application/vnd.google.colaboratory.intrinsic+json": {
              "type": "string"
            }
          },
          "metadata": {}
        },
        {
          "output_type": "display_data",
          "data": {
            "text/plain": [
              "const                  -45.413319\n",
              "ENTREPRENEURSHIP       361.953228\n",
              "QUALITY OF LIFE       -503.998584\n",
              "SOCIAL PURPOSE        1061.419175\n",
              "CULTURAL INFLUENCE    -308.237876\n",
              "OPEN FOR BUSINESS     -176.837216\n",
              "ADVENTURE              662.019423\n",
              "POWER                  578.823428\n",
              "HERITAGE              -142.420703\n",
              "MOVERS                  84.069327\n",
              "dtype: float64"
            ]
          },
          "metadata": {}
        },
        {
          "output_type": "display_data",
          "data": {
            "text/plain": [
              "'For Country'"
            ],
            "application/vnd.google.colaboratory.intrinsic+json": {
              "type": "string"
            }
          },
          "metadata": {}
        },
        {
          "output_type": "display_data",
          "data": {
            "text/plain": [
              "'Philippines'"
            ],
            "application/vnd.google.colaboratory.intrinsic+json": {
              "type": "string"
            }
          },
          "metadata": {}
        },
        {
          "output_type": "display_data",
          "data": {
            "text/plain": [
              "const                  39.297971\n",
              "ENTREPRENEURSHIP     -283.859929\n",
              "QUALITY OF LIFE       712.382465\n",
              "SOCIAL PURPOSE       -221.135212\n",
              "CULTURAL INFLUENCE     69.169194\n",
              "OPEN FOR BUSINESS     -64.635080\n",
              "ADVENTURE            -301.937223\n",
              "POWER                 198.840101\n",
              "HERITAGE              416.740720\n",
              "MOVERS                177.901011\n",
              "dtype: float64"
            ]
          },
          "metadata": {}
        },
        {
          "output_type": "display_data",
          "data": {
            "text/plain": [
              "'For Country'"
            ],
            "application/vnd.google.colaboratory.intrinsic+json": {
              "type": "string"
            }
          },
          "metadata": {}
        },
        {
          "output_type": "display_data",
          "data": {
            "text/plain": [
              "'Portugal'"
            ],
            "application/vnd.google.colaboratory.intrinsic+json": {
              "type": "string"
            }
          },
          "metadata": {}
        },
        {
          "output_type": "display_data",
          "data": {
            "text/plain": [
              "const                  288.653343\n",
              "ENTREPRENEURSHIP      -677.567928\n",
              "QUALITY OF LIFE       -225.439357\n",
              "SOCIAL PURPOSE       -3413.380146\n",
              "CULTURAL INFLUENCE    2148.329872\n",
              "OPEN FOR BUSINESS     1979.050752\n",
              "ADVENTURE              -77.843660\n",
              "POWER                 1185.621991\n",
              "HERITAGE              1103.685620\n",
              "MOVERS               -4533.523717\n",
              "dtype: float64"
            ]
          },
          "metadata": {}
        },
        {
          "output_type": "display_data",
          "data": {
            "text/plain": [
              "'For Country'"
            ],
            "application/vnd.google.colaboratory.intrinsic+json": {
              "type": "string"
            }
          },
          "metadata": {}
        },
        {
          "output_type": "display_data",
          "data": {
            "text/plain": [
              "'Romania'"
            ],
            "application/vnd.google.colaboratory.intrinsic+json": {
              "type": "string"
            }
          },
          "metadata": {}
        },
        {
          "output_type": "display_data",
          "data": {
            "text/plain": [
              "const                  672.787092\n",
              "ENTREPRENEURSHIP      2309.111986\n",
              "QUALITY OF LIFE       1439.851208\n",
              "SOCIAL PURPOSE        -978.917881\n",
              "CULTURAL INFLUENCE    2133.611382\n",
              "OPEN FOR BUSINESS       81.547429\n",
              "ADVENTURE              567.868381\n",
              "POWER                 2843.958770\n",
              "HERITAGE             -1486.162569\n",
              "MOVERS                 -17.892296\n",
              "dtype: float64"
            ]
          },
          "metadata": {}
        },
        {
          "output_type": "display_data",
          "data": {
            "text/plain": [
              "'For Country'"
            ],
            "application/vnd.google.colaboratory.intrinsic+json": {
              "type": "string"
            }
          },
          "metadata": {}
        },
        {
          "output_type": "display_data",
          "data": {
            "text/plain": [
              "'Russian Federation'"
            ],
            "application/vnd.google.colaboratory.intrinsic+json": {
              "type": "string"
            }
          },
          "metadata": {}
        },
        {
          "output_type": "display_data",
          "data": {
            "text/plain": [
              "const                   39.515427\n",
              "ENTREPRENEURSHIP       780.089561\n",
              "QUALITY OF LIFE        263.471980\n",
              "SOCIAL PURPOSE       -1511.034508\n",
              "CULTURAL INFLUENCE       4.476231\n",
              "OPEN FOR BUSINESS       11.251796\n",
              "ADVENTURE             -323.819437\n",
              "POWER                  318.269499\n",
              "HERITAGE                32.791721\n",
              "MOVERS                -365.991416\n",
              "dtype: float64"
            ]
          },
          "metadata": {}
        },
        {
          "output_type": "display_data",
          "data": {
            "text/plain": [
              "'For Country'"
            ],
            "application/vnd.google.colaboratory.intrinsic+json": {
              "type": "string"
            }
          },
          "metadata": {}
        },
        {
          "output_type": "display_data",
          "data": {
            "text/plain": [
              "'Saudi Arabia'"
            ],
            "application/vnd.google.colaboratory.intrinsic+json": {
              "type": "string"
            }
          },
          "metadata": {}
        },
        {
          "output_type": "display_data",
          "data": {
            "text/plain": [
              "const                  30.281348\n",
              "ENTREPRENEURSHIP       -0.965168\n",
              "QUALITY OF LIFE       377.865313\n",
              "SOCIAL PURPOSE         41.937961\n",
              "CULTURAL INFLUENCE     66.135394\n",
              "OPEN FOR BUSINESS    -448.531011\n",
              "ADVENTURE            -133.882246\n",
              "POWER                 430.176835\n",
              "HERITAGE              818.638033\n",
              "MOVERS                201.871131\n",
              "dtype: float64"
            ]
          },
          "metadata": {}
        },
        {
          "output_type": "display_data",
          "data": {
            "text/plain": [
              "'For Country'"
            ],
            "application/vnd.google.colaboratory.intrinsic+json": {
              "type": "string"
            }
          },
          "metadata": {}
        },
        {
          "output_type": "display_data",
          "data": {
            "text/plain": [
              "'Singapore'"
            ],
            "application/vnd.google.colaboratory.intrinsic+json": {
              "type": "string"
            }
          },
          "metadata": {}
        },
        {
          "output_type": "display_data",
          "data": {
            "text/plain": [
              "const                  110.458415\n",
              "ENTREPRENEURSHIP        64.526247\n",
              "QUALITY OF LIFE       -176.720659\n",
              "SOCIAL PURPOSE       -3673.300692\n",
              "CULTURAL INFLUENCE    1947.892259\n",
              "OPEN FOR BUSINESS     1034.688925\n",
              "ADVENTURE               99.031958\n",
              "POWER                 -201.598538\n",
              "HERITAGE               297.628628\n",
              "MOVERS                 288.666849\n",
              "dtype: float64"
            ]
          },
          "metadata": {}
        },
        {
          "output_type": "display_data",
          "data": {
            "text/plain": [
              "'For Country'"
            ],
            "application/vnd.google.colaboratory.intrinsic+json": {
              "type": "string"
            }
          },
          "metadata": {}
        },
        {
          "output_type": "display_data",
          "data": {
            "text/plain": [
              "'South Africa'"
            ],
            "application/vnd.google.colaboratory.intrinsic+json": {
              "type": "string"
            }
          },
          "metadata": {}
        },
        {
          "output_type": "display_data",
          "data": {
            "text/plain": [
              "const                  -4.331813\n",
              "ENTREPRENEURSHIP     -119.527685\n",
              "QUALITY OF LIFE       -78.983810\n",
              "SOCIAL PURPOSE        299.387630\n",
              "CULTURAL INFLUENCE    150.239477\n",
              "OPEN FOR BUSINESS     159.534163\n",
              "ADVENTURE             -65.240718\n",
              "POWER                 287.583194\n",
              "HERITAGE               36.217763\n",
              "MOVERS                 70.455288\n",
              "dtype: float64"
            ]
          },
          "metadata": {}
        },
        {
          "output_type": "display_data",
          "data": {
            "text/plain": [
              "'For Country'"
            ],
            "application/vnd.google.colaboratory.intrinsic+json": {
              "type": "string"
            }
          },
          "metadata": {}
        },
        {
          "output_type": "display_data",
          "data": {
            "text/plain": [
              "'Korea, Republic of'"
            ],
            "application/vnd.google.colaboratory.intrinsic+json": {
              "type": "string"
            }
          },
          "metadata": {}
        },
        {
          "output_type": "display_data",
          "data": {
            "text/plain": [
              "const                  32.276649\n",
              "ENTREPRENEURSHIP      846.581882\n",
              "QUALITY OF LIFE       -50.367791\n",
              "SOCIAL PURPOSE       -215.406111\n",
              "CULTURAL INFLUENCE   -316.279703\n",
              "OPEN FOR BUSINESS     -67.929550\n",
              "ADVENTURE             650.543335\n",
              "POWER                -395.287649\n",
              "HERITAGE              504.528939\n",
              "MOVERS                 15.442527\n",
              "dtype: float64"
            ]
          },
          "metadata": {}
        },
        {
          "output_type": "display_data",
          "data": {
            "text/plain": [
              "'For Country'"
            ],
            "application/vnd.google.colaboratory.intrinsic+json": {
              "type": "string"
            }
          },
          "metadata": {}
        },
        {
          "output_type": "display_data",
          "data": {
            "text/plain": [
              "'Spain'"
            ],
            "application/vnd.google.colaboratory.intrinsic+json": {
              "type": "string"
            }
          },
          "metadata": {}
        },
        {
          "output_type": "display_data",
          "data": {
            "text/plain": [
              "const                   4.829606\n",
              "ENTREPRENEURSHIP      428.818232\n",
              "QUALITY OF LIFE       354.585758\n",
              "SOCIAL PURPOSE       -504.026701\n",
              "CULTURAL INFLUENCE    178.610450\n",
              "OPEN FOR BUSINESS    -605.843391\n",
              "ADVENTURE             -51.264388\n",
              "POWER                 572.318242\n",
              "HERITAGE              526.687020\n",
              "MOVERS               -387.045465\n",
              "dtype: float64"
            ]
          },
          "metadata": {}
        },
        {
          "output_type": "display_data",
          "data": {
            "text/plain": [
              "'For Country'"
            ],
            "application/vnd.google.colaboratory.intrinsic+json": {
              "type": "string"
            }
          },
          "metadata": {}
        },
        {
          "output_type": "display_data",
          "data": {
            "text/plain": [
              "'Sri Lanka'"
            ],
            "application/vnd.google.colaboratory.intrinsic+json": {
              "type": "string"
            }
          },
          "metadata": {}
        },
        {
          "output_type": "display_data",
          "data": {
            "text/plain": [
              "const                 179.685172\n",
              "ENTREPRENEURSHIP      553.322955\n",
              "QUALITY OF LIFE      -412.945976\n",
              "SOCIAL PURPOSE       -811.528845\n",
              "CULTURAL INFLUENCE    660.341973\n",
              "OPEN FOR BUSINESS     121.647042\n",
              "ADVENTURE             -98.664591\n",
              "POWER                -107.577019\n",
              "HERITAGE              155.944887\n",
              "MOVERS                112.359325\n",
              "dtype: float64"
            ]
          },
          "metadata": {}
        },
        {
          "output_type": "display_data",
          "data": {
            "text/plain": [
              "'For Country'"
            ],
            "application/vnd.google.colaboratory.intrinsic+json": {
              "type": "string"
            }
          },
          "metadata": {}
        },
        {
          "output_type": "display_data",
          "data": {
            "text/plain": [
              "'Sweden'"
            ],
            "application/vnd.google.colaboratory.intrinsic+json": {
              "type": "string"
            }
          },
          "metadata": {}
        },
        {
          "output_type": "display_data",
          "data": {
            "text/plain": [
              "const                   3.870520\n",
              "ENTREPRENEURSHIP     -364.080713\n",
              "QUALITY OF LIFE       673.711214\n",
              "SOCIAL PURPOSE        129.453480\n",
              "CULTURAL INFLUENCE   -422.948989\n",
              "OPEN FOR BUSINESS      76.446275\n",
              "ADVENTURE             361.374276\n",
              "POWER                -545.864232\n",
              "HERITAGE              606.385843\n",
              "MOVERS                 85.997227\n",
              "dtype: float64"
            ]
          },
          "metadata": {}
        },
        {
          "output_type": "display_data",
          "data": {
            "text/plain": [
              "'For Country'"
            ],
            "application/vnd.google.colaboratory.intrinsic+json": {
              "type": "string"
            }
          },
          "metadata": {}
        },
        {
          "output_type": "display_data",
          "data": {
            "text/plain": [
              "'Thailand'"
            ],
            "application/vnd.google.colaboratory.intrinsic+json": {
              "type": "string"
            }
          },
          "metadata": {}
        },
        {
          "output_type": "display_data",
          "data": {
            "text/plain": [
              "const                   6.996477\n",
              "ENTREPRENEURSHIP      239.815121\n",
              "QUALITY OF LIFE       198.839328\n",
              "SOCIAL PURPOSE        370.818586\n",
              "CULTURAL INFLUENCE    233.480632\n",
              "OPEN FOR BUSINESS      99.742904\n",
              "ADVENTURE            -222.795677\n",
              "POWER                 647.121158\n",
              "HERITAGE              -84.726069\n",
              "MOVERS                151.037115\n",
              "dtype: float64"
            ]
          },
          "metadata": {}
        },
        {
          "output_type": "display_data",
          "data": {
            "text/plain": [
              "'For Country'"
            ],
            "application/vnd.google.colaboratory.intrinsic+json": {
              "type": "string"
            }
          },
          "metadata": {}
        },
        {
          "output_type": "display_data",
          "data": {
            "text/plain": [
              "'Tunisia'"
            ],
            "application/vnd.google.colaboratory.intrinsic+json": {
              "type": "string"
            }
          },
          "metadata": {}
        },
        {
          "output_type": "display_data",
          "data": {
            "text/plain": [
              "const                  143.347917\n",
              "ENTREPRENEURSHIP        -0.223819\n",
              "QUALITY OF LIFE        179.879186\n",
              "SOCIAL PURPOSE        -380.266803\n",
              "CULTURAL INFLUENCE    -492.929493\n",
              "OPEN FOR BUSINESS      256.102335\n",
              "ADVENTURE             -204.110910\n",
              "POWER                 1360.856977\n",
              "HERITAGE                41.642800\n",
              "MOVERS                   0.749171\n",
              "dtype: float64"
            ]
          },
          "metadata": {}
        },
        {
          "output_type": "display_data",
          "data": {
            "text/plain": [
              "'For Country'"
            ],
            "application/vnd.google.colaboratory.intrinsic+json": {
              "type": "string"
            }
          },
          "metadata": {}
        },
        {
          "output_type": "display_data",
          "data": {
            "text/plain": [
              "'Turkey'"
            ],
            "application/vnd.google.colaboratory.intrinsic+json": {
              "type": "string"
            }
          },
          "metadata": {}
        },
        {
          "output_type": "display_data",
          "data": {
            "text/plain": [
              "const                  103.812963\n",
              "ENTREPRENEURSHIP       420.894484\n",
              "QUALITY OF LIFE       -391.782704\n",
              "SOCIAL PURPOSE       -1085.290793\n",
              "CULTURAL INFLUENCE      95.045909\n",
              "OPEN FOR BUSINESS      234.788942\n",
              "ADVENTURE             -118.591876\n",
              "POWER                 -127.290259\n",
              "HERITAGE               342.620438\n",
              "MOVERS                 163.342682\n",
              "dtype: float64"
            ]
          },
          "metadata": {}
        },
        {
          "output_type": "display_data",
          "data": {
            "text/plain": [
              "'For Country'"
            ],
            "application/vnd.google.colaboratory.intrinsic+json": {
              "type": "string"
            }
          },
          "metadata": {}
        },
        {
          "output_type": "display_data",
          "data": {
            "text/plain": [
              "'Ukraine'"
            ],
            "application/vnd.google.colaboratory.intrinsic+json": {
              "type": "string"
            }
          },
          "metadata": {}
        },
        {
          "output_type": "display_data",
          "data": {
            "text/plain": [
              "const                  165.190875\n",
              "ENTREPRENEURSHIP      -151.672215\n",
              "QUALITY OF LIFE         90.535426\n",
              "SOCIAL PURPOSE         232.036549\n",
              "CULTURAL INFLUENCE   -1046.629606\n",
              "OPEN FOR BUSINESS      700.647193\n",
              "ADVENTURE              608.698702\n",
              "POWER                 -406.220351\n",
              "HERITAGE              -484.791489\n",
              "MOVERS                 139.855787\n",
              "dtype: float64"
            ]
          },
          "metadata": {}
        },
        {
          "output_type": "display_data",
          "data": {
            "text/plain": [
              "'For Country'"
            ],
            "application/vnd.google.colaboratory.intrinsic+json": {
              "type": "string"
            }
          },
          "metadata": {}
        },
        {
          "output_type": "display_data",
          "data": {
            "text/plain": [
              "'United Kingdom'"
            ],
            "application/vnd.google.colaboratory.intrinsic+json": {
              "type": "string"
            }
          },
          "metadata": {}
        },
        {
          "output_type": "display_data",
          "data": {
            "text/plain": [
              "const                   -8.117237\n",
              "ENTREPRENEURSHIP       446.848988\n",
              "QUALITY OF LIFE       -647.361414\n",
              "SOCIAL PURPOSE        -414.381364\n",
              "CULTURAL INFLUENCE     964.639683\n",
              "OPEN FOR BUSINESS     -129.998990\n",
              "ADVENTURE             -263.858882\n",
              "POWER                  829.612257\n",
              "HERITAGE              -198.798678\n",
              "MOVERS               -1270.435429\n",
              "dtype: float64"
            ]
          },
          "metadata": {}
        },
        {
          "output_type": "display_data",
          "data": {
            "text/plain": [
              "'For Country'"
            ],
            "application/vnd.google.colaboratory.intrinsic+json": {
              "type": "string"
            }
          },
          "metadata": {}
        },
        {
          "output_type": "display_data",
          "data": {
            "text/plain": [
              "'United States'"
            ],
            "application/vnd.google.colaboratory.intrinsic+json": {
              "type": "string"
            }
          },
          "metadata": {}
        },
        {
          "output_type": "display_data",
          "data": {
            "text/plain": [
              "ENTREPRENEURSHIP      312.739904\n",
              "QUALITY OF LIFE        24.547368\n",
              "SOCIAL PURPOSE        -16.209006\n",
              "CULTURAL INFLUENCE    670.937177\n",
              "OPEN FOR BUSINESS    -454.216642\n",
              "ADVENTURE             245.266222\n",
              "POWER                -162.623958\n",
              "HERITAGE              476.013908\n",
              "MOVERS               -320.746933\n",
              "dtype: float64"
            ]
          },
          "metadata": {}
        },
        {
          "output_type": "display_data",
          "data": {
            "text/plain": [
              "'For Country'"
            ],
            "application/vnd.google.colaboratory.intrinsic+json": {
              "type": "string"
            }
          },
          "metadata": {}
        },
        {
          "output_type": "display_data",
          "data": {
            "text/plain": [
              "'Uruguay'"
            ],
            "application/vnd.google.colaboratory.intrinsic+json": {
              "type": "string"
            }
          },
          "metadata": {}
        },
        {
          "output_type": "display_data",
          "data": {
            "text/plain": [
              "const                  394.830980\n",
              "ENTREPRENEURSHIP       401.041143\n",
              "QUALITY OF LIFE       1089.141151\n",
              "SOCIAL PURPOSE         461.468730\n",
              "CULTURAL INFLUENCE     999.283707\n",
              "OPEN FOR BUSINESS      782.167794\n",
              "ADVENTURE            -2143.181462\n",
              "POWER                 -317.834215\n",
              "HERITAGE               961.491081\n",
              "MOVERS                 -16.418797\n",
              "dtype: float64"
            ]
          },
          "metadata": {}
        },
        {
          "output_type": "display_data",
          "data": {
            "text/plain": [
              "'For Country'"
            ],
            "application/vnd.google.colaboratory.intrinsic+json": {
              "type": "string"
            }
          },
          "metadata": {}
        },
        {
          "output_type": "display_data",
          "data": {
            "text/plain": [
              "'Viet Nam'"
            ],
            "application/vnd.google.colaboratory.intrinsic+json": {
              "type": "string"
            }
          },
          "metadata": {}
        },
        {
          "output_type": "display_data",
          "data": {
            "text/plain": [
              "const                  24.385216\n",
              "ENTREPRENEURSHIP      525.890450\n",
              "QUALITY OF LIFE      -541.221456\n",
              "SOCIAL PURPOSE       -183.538485\n",
              "CULTURAL INFLUENCE    224.543601\n",
              "OPEN FOR BUSINESS      30.738362\n",
              "ADVENTURE             451.220239\n",
              "POWER                 -38.437002\n",
              "HERITAGE               -5.977512\n",
              "MOVERS                 48.653113\n",
              "dtype: float64"
            ]
          },
          "metadata": {}
        },
        {
          "output_type": "display_data",
          "data": {
            "text/plain": [
              "'For Country'"
            ],
            "application/vnd.google.colaboratory.intrinsic+json": {
              "type": "string"
            }
          },
          "metadata": {}
        },
        {
          "output_type": "display_data",
          "data": {
            "text/plain": [
              "'Angola'"
            ],
            "application/vnd.google.colaboratory.intrinsic+json": {
              "type": "string"
            }
          },
          "metadata": {}
        },
        {
          "output_type": "display_data",
          "data": {
            "text/plain": [
              "const                  126.065426\n",
              "ENTREPRENEURSHIP       -31.148604\n",
              "QUALITY OF LIFE        518.686782\n",
              "SOCIAL PURPOSE         444.528400\n",
              "CULTURAL INFLUENCE     725.646954\n",
              "OPEN FOR BUSINESS      588.605252\n",
              "ADVENTURE             1682.052912\n",
              "POWER                  369.205087\n",
              "HERITAGE              -203.499214\n",
              "MOVERS                 -75.161602\n",
              "dtype: float64"
            ]
          },
          "metadata": {}
        },
        {
          "output_type": "display_data",
          "data": {
            "text/plain": [
              "'For Country'"
            ],
            "application/vnd.google.colaboratory.intrinsic+json": {
              "type": "string"
            }
          },
          "metadata": {}
        },
        {
          "output_type": "display_data",
          "data": {
            "text/plain": [
              "'Bahrain'"
            ],
            "application/vnd.google.colaboratory.intrinsic+json": {
              "type": "string"
            }
          },
          "metadata": {}
        },
        {
          "output_type": "display_data",
          "data": {
            "text/plain": [
              "const                    9.215917\n",
              "ENTREPRENEURSHIP      -238.351131\n",
              "QUALITY OF LIFE         43.715188\n",
              "SOCIAL PURPOSE        -912.172143\n",
              "CULTURAL INFLUENCE    1141.835499\n",
              "OPEN FOR BUSINESS     1044.450390\n",
              "ADVENTURE              809.544511\n",
              "POWER                 -255.267753\n",
              "HERITAGE              -602.052525\n",
              "MOVERS                -107.748594\n",
              "dtype: float64"
            ]
          },
          "metadata": {}
        },
        {
          "output_type": "display_data",
          "data": {
            "text/plain": [
              "'For Country'"
            ],
            "application/vnd.google.colaboratory.intrinsic+json": {
              "type": "string"
            }
          },
          "metadata": {}
        },
        {
          "output_type": "display_data",
          "data": {
            "text/plain": [
              "'Belarus'"
            ],
            "application/vnd.google.colaboratory.intrinsic+json": {
              "type": "string"
            }
          },
          "metadata": {}
        },
        {
          "output_type": "display_data",
          "data": {
            "text/plain": [
              "const                  68.899193\n",
              "ENTREPRENEURSHIP      456.687706\n",
              "QUALITY OF LIFE      -262.861709\n",
              "SOCIAL PURPOSE         19.806321\n",
              "CULTURAL INFLUENCE     37.136905\n",
              "OPEN FOR BUSINESS     324.120748\n",
              "ADVENTURE             587.671718\n",
              "POWER                 924.202054\n",
              "HERITAGE              -28.334638\n",
              "MOVERS               -365.505157\n",
              "dtype: float64"
            ]
          },
          "metadata": {}
        },
        {
          "output_type": "display_data",
          "data": {
            "text/plain": [
              "'For Country'"
            ],
            "application/vnd.google.colaboratory.intrinsic+json": {
              "type": "string"
            }
          },
          "metadata": {}
        },
        {
          "output_type": "display_data",
          "data": {
            "text/plain": [
              "'Croatia'"
            ],
            "application/vnd.google.colaboratory.intrinsic+json": {
              "type": "string"
            }
          },
          "metadata": {}
        },
        {
          "output_type": "display_data",
          "data": {
            "text/plain": [
              "const                  -15.829652\n",
              "ENTREPRENEURSHIP      -621.821740\n",
              "QUALITY OF LIFE       1295.636371\n",
              "SOCIAL PURPOSE         568.081285\n",
              "CULTURAL INFLUENCE    -257.994563\n",
              "OPEN FOR BUSINESS      847.103146\n",
              "ADVENTURE             -533.696807\n",
              "POWER                  219.843442\n",
              "HERITAGE              -274.700713\n",
              "MOVERS                -547.995419\n",
              "dtype: float64"
            ]
          },
          "metadata": {}
        },
        {
          "output_type": "display_data",
          "data": {
            "text/plain": [
              "'For Country'"
            ],
            "application/vnd.google.colaboratory.intrinsic+json": {
              "type": "string"
            }
          },
          "metadata": {}
        },
        {
          "output_type": "display_data",
          "data": {
            "text/plain": [
              "'Ecuador'"
            ],
            "application/vnd.google.colaboratory.intrinsic+json": {
              "type": "string"
            }
          },
          "metadata": {}
        },
        {
          "output_type": "display_data",
          "data": {
            "text/plain": [
              "const                  22.222981\n",
              "ENTREPRENEURSHIP     -225.841372\n",
              "QUALITY OF LIFE       -78.186191\n",
              "SOCIAL PURPOSE         37.527775\n",
              "CULTURAL INFLUENCE    141.872631\n",
              "OPEN FOR BUSINESS     161.708710\n",
              "ADVENTURE             188.566065\n",
              "POWER                 130.706494\n",
              "HERITAGE               12.377123\n",
              "MOVERS                -82.844664\n",
              "dtype: float64"
            ]
          },
          "metadata": {}
        },
        {
          "output_type": "display_data",
          "data": {
            "text/plain": [
              "'For Country'"
            ],
            "application/vnd.google.colaboratory.intrinsic+json": {
              "type": "string"
            }
          },
          "metadata": {}
        },
        {
          "output_type": "display_data",
          "data": {
            "text/plain": [
              "'Finland'"
            ],
            "application/vnd.google.colaboratory.intrinsic+json": {
              "type": "string"
            }
          },
          "metadata": {}
        },
        {
          "output_type": "display_data",
          "data": {
            "text/plain": [
              "const                   4.175367\n",
              "ENTREPRENEURSHIP     -147.785391\n",
              "QUALITY OF LIFE       -23.646931\n",
              "SOCIAL PURPOSE        341.114389\n",
              "CULTURAL INFLUENCE     34.167634\n",
              "OPEN FOR BUSINESS       3.690766\n",
              "ADVENTURE             544.846790\n",
              "POWER                 -35.931754\n",
              "HERITAGE              345.177939\n",
              "MOVERS                 65.215140\n",
              "dtype: float64"
            ]
          },
          "metadata": {}
        },
        {
          "output_type": "display_data",
          "data": {
            "text/plain": [
              "'For Country'"
            ],
            "application/vnd.google.colaboratory.intrinsic+json": {
              "type": "string"
            }
          },
          "metadata": {}
        },
        {
          "output_type": "display_data",
          "data": {
            "text/plain": [
              "'Ghana'"
            ],
            "application/vnd.google.colaboratory.intrinsic+json": {
              "type": "string"
            }
          },
          "metadata": {}
        },
        {
          "output_type": "display_data",
          "data": {
            "text/plain": [
              "const                  27.866951\n",
              "ENTREPRENEURSHIP     -114.016253\n",
              "QUALITY OF LIFE       220.243535\n",
              "SOCIAL PURPOSE         78.305579\n",
              "CULTURAL INFLUENCE    216.275103\n",
              "OPEN FOR BUSINESS      75.432992\n",
              "ADVENTURE             -30.289497\n",
              "POWER                 -54.433848\n",
              "HERITAGE              226.104660\n",
              "MOVERS                 -2.386302\n",
              "dtype: float64"
            ]
          },
          "metadata": {}
        },
        {
          "output_type": "display_data",
          "data": {
            "text/plain": [
              "'For Country'"
            ],
            "application/vnd.google.colaboratory.intrinsic+json": {
              "type": "string"
            }
          },
          "metadata": {}
        },
        {
          "output_type": "display_data",
          "data": {
            "text/plain": [
              "'Kenya'"
            ],
            "application/vnd.google.colaboratory.intrinsic+json": {
              "type": "string"
            }
          },
          "metadata": {}
        },
        {
          "output_type": "display_data",
          "data": {
            "text/plain": [
              "const                  26.486954\n",
              "ENTREPRENEURSHIP     -149.153508\n",
              "QUALITY OF LIFE      -118.160151\n",
              "SOCIAL PURPOSE        175.972907\n",
              "CULTURAL INFLUENCE    283.831412\n",
              "OPEN FOR BUSINESS      34.612972\n",
              "ADVENTURE             307.869014\n",
              "POWER                 123.997785\n",
              "HERITAGE             -175.700268\n",
              "MOVERS                -80.072135\n",
              "dtype: float64"
            ]
          },
          "metadata": {}
        },
        {
          "output_type": "display_data",
          "data": {
            "text/plain": [
              "'For Country'"
            ],
            "application/vnd.google.colaboratory.intrinsic+json": {
              "type": "string"
            }
          },
          "metadata": {}
        },
        {
          "output_type": "display_data",
          "data": {
            "text/plain": [
              "'Latvia'"
            ],
            "application/vnd.google.colaboratory.intrinsic+json": {
              "type": "string"
            }
          },
          "metadata": {}
        },
        {
          "output_type": "display_data",
          "data": {
            "text/plain": [
              "const                  362.204146\n",
              "ENTREPRENEURSHIP       873.441677\n",
              "QUALITY OF LIFE        820.035842\n",
              "SOCIAL PURPOSE        -618.325825\n",
              "CULTURAL INFLUENCE    -910.090119\n",
              "OPEN FOR BUSINESS      160.006729\n",
              "ADVENTURE             1599.046987\n",
              "POWER                 1113.528899\n",
              "HERITAGE              2036.383969\n",
              "MOVERS               -2113.444158\n",
              "dtype: float64"
            ]
          },
          "metadata": {}
        },
        {
          "output_type": "display_data",
          "data": {
            "text/plain": [
              "'For Country'"
            ],
            "application/vnd.google.colaboratory.intrinsic+json": {
              "type": "string"
            }
          },
          "metadata": {}
        },
        {
          "output_type": "display_data",
          "data": {
            "text/plain": [
              "'Lebanon'"
            ],
            "application/vnd.google.colaboratory.intrinsic+json": {
              "type": "string"
            }
          },
          "metadata": {}
        },
        {
          "output_type": "display_data",
          "data": {
            "text/plain": [
              "const                  630.786140\n",
              "ENTREPRENEURSHIP     -4577.482929\n",
              "QUALITY OF LIFE      -3004.011814\n",
              "SOCIAL PURPOSE       -1383.861454\n",
              "CULTURAL INFLUENCE    3580.728811\n",
              "OPEN FOR BUSINESS     -754.837935\n",
              "ADVENTURE             6588.643799\n",
              "POWER                 -616.732915\n",
              "HERITAGE              -305.836749\n",
              "MOVERS                 -96.580292\n",
              "dtype: float64"
            ]
          },
          "metadata": {}
        },
        {
          "output_type": "display_data",
          "data": {
            "text/plain": [
              "'For Country'"
            ],
            "application/vnd.google.colaboratory.intrinsic+json": {
              "type": "string"
            }
          },
          "metadata": {}
        },
        {
          "output_type": "display_data",
          "data": {
            "text/plain": [
              "'Myanmar'"
            ],
            "application/vnd.google.colaboratory.intrinsic+json": {
              "type": "string"
            }
          },
          "metadata": {}
        },
        {
          "output_type": "display_data",
          "data": {
            "text/plain": [
              "const                  374.508209\n",
              "ENTREPRENEURSHIP      -447.192262\n",
              "QUALITY OF LIFE        828.036964\n",
              "SOCIAL PURPOSE        -359.237039\n",
              "CULTURAL INFLUENCE    -160.377572\n",
              "OPEN FOR BUSINESS      -58.284799\n",
              "ADVENTURE             -624.699265\n",
              "POWER                 1358.067518\n",
              "HERITAGE              -207.850884\n",
              "MOVERS                  70.225722\n",
              "dtype: float64"
            ]
          },
          "metadata": {}
        },
        {
          "output_type": "display_data",
          "data": {
            "text/plain": [
              "'For Country'"
            ],
            "application/vnd.google.colaboratory.intrinsic+json": {
              "type": "string"
            }
          },
          "metadata": {}
        },
        {
          "output_type": "display_data",
          "data": {
            "text/plain": [
              "'Norway'"
            ],
            "application/vnd.google.colaboratory.intrinsic+json": {
              "type": "string"
            }
          },
          "metadata": {}
        },
        {
          "output_type": "display_data",
          "data": {
            "text/plain": [
              "const                   -6.968567\n",
              "ENTREPRENEURSHIP      -599.144268\n",
              "QUALITY OF LIFE        364.476116\n",
              "SOCIAL PURPOSE         686.334648\n",
              "CULTURAL INFLUENCE    1087.757273\n",
              "OPEN FOR BUSINESS     -527.966348\n",
              "ADVENTURE             1450.517337\n",
              "POWER                  757.493594\n",
              "HERITAGE              -369.862368\n",
              "MOVERS               -1448.605599\n",
              "dtype: float64"
            ]
          },
          "metadata": {}
        },
        {
          "output_type": "display_data",
          "data": {
            "text/plain": [
              "'For Country'"
            ],
            "application/vnd.google.colaboratory.intrinsic+json": {
              "type": "string"
            }
          },
          "metadata": {}
        },
        {
          "output_type": "display_data",
          "data": {
            "text/plain": [
              "'Oman'"
            ],
            "application/vnd.google.colaboratory.intrinsic+json": {
              "type": "string"
            }
          },
          "metadata": {}
        },
        {
          "output_type": "display_data",
          "data": {
            "text/plain": [
              "const                  390.377195\n",
              "ENTREPRENEURSHIP      -497.641543\n",
              "QUALITY OF LIFE        200.816676\n",
              "SOCIAL PURPOSE        1194.522476\n",
              "CULTURAL INFLUENCE    -701.593643\n",
              "OPEN FOR BUSINESS      879.066933\n",
              "ADVENTURE             -439.839336\n",
              "POWER                 2187.394766\n",
              "HERITAGE              1961.083391\n",
              "MOVERS                -427.101191\n",
              "dtype: float64"
            ]
          },
          "metadata": {}
        },
        {
          "output_type": "display_data",
          "data": {
            "text/plain": [
              "'For Country'"
            ],
            "application/vnd.google.colaboratory.intrinsic+json": {
              "type": "string"
            }
          },
          "metadata": {}
        },
        {
          "output_type": "display_data",
          "data": {
            "text/plain": [
              "'Poland'"
            ],
            "application/vnd.google.colaboratory.intrinsic+json": {
              "type": "string"
            }
          },
          "metadata": {}
        },
        {
          "output_type": "display_data",
          "data": {
            "text/plain": [
              "const                  43.527655\n",
              "ENTREPRENEURSHIP      696.447279\n",
              "QUALITY OF LIFE      -321.918966\n",
              "SOCIAL PURPOSE       -395.563308\n",
              "CULTURAL INFLUENCE    770.250982\n",
              "OPEN FOR BUSINESS     501.003727\n",
              "ADVENTURE             949.229246\n",
              "POWER                -232.616554\n",
              "HERITAGE             -349.645311\n",
              "MOVERS                437.321664\n",
              "dtype: float64"
            ]
          },
          "metadata": {}
        },
        {
          "output_type": "display_data",
          "data": {
            "text/plain": [
              "'For Country'"
            ],
            "application/vnd.google.colaboratory.intrinsic+json": {
              "type": "string"
            }
          },
          "metadata": {}
        },
        {
          "output_type": "display_data",
          "data": {
            "text/plain": [
              "'Qatar'"
            ],
            "application/vnd.google.colaboratory.intrinsic+json": {
              "type": "string"
            }
          },
          "metadata": {}
        },
        {
          "output_type": "display_data",
          "data": {
            "text/plain": [
              "const                  527.318876\n",
              "ENTREPRENEURSHIP      -415.805934\n",
              "QUALITY OF LIFE       1392.774920\n",
              "SOCIAL PURPOSE         151.454073\n",
              "CULTURAL INFLUENCE    1981.815912\n",
              "OPEN FOR BUSINESS      120.829742\n",
              "ADVENTURE            -3340.191495\n",
              "POWER                 3238.777282\n",
              "HERITAGE              1093.496432\n",
              "MOVERS                -199.702364\n",
              "dtype: float64"
            ]
          },
          "metadata": {}
        },
        {
          "output_type": "display_data",
          "data": {
            "text/plain": [
              "'For Country'"
            ],
            "application/vnd.google.colaboratory.intrinsic+json": {
              "type": "string"
            }
          },
          "metadata": {}
        },
        {
          "output_type": "display_data",
          "data": {
            "text/plain": [
              "'Serbia'"
            ],
            "application/vnd.google.colaboratory.intrinsic+json": {
              "type": "string"
            }
          },
          "metadata": {}
        },
        {
          "output_type": "display_data",
          "data": {
            "text/plain": [
              "const                  91.383543\n",
              "ENTREPRENEURSHIP      283.891948\n",
              "QUALITY OF LIFE       963.406398\n",
              "SOCIAL PURPOSE        850.852956\n",
              "CULTURAL INFLUENCE    -78.723862\n",
              "OPEN FOR BUSINESS     515.261803\n",
              "ADVENTURE            -108.387720\n",
              "POWER                  77.328556\n",
              "HERITAGE             -736.364976\n",
              "MOVERS                -66.292482\n",
              "dtype: float64"
            ]
          },
          "metadata": {}
        },
        {
          "output_type": "display_data",
          "data": {
            "text/plain": [
              "'For Country'"
            ],
            "application/vnd.google.colaboratory.intrinsic+json": {
              "type": "string"
            }
          },
          "metadata": {}
        },
        {
          "output_type": "display_data",
          "data": {
            "text/plain": [
              "'Slovenia'"
            ],
            "application/vnd.google.colaboratory.intrinsic+json": {
              "type": "string"
            }
          },
          "metadata": {}
        },
        {
          "output_type": "display_data",
          "data": {
            "text/plain": [
              "const                 -63.988499\n",
              "ENTREPRENEURSHIP     -411.342762\n",
              "QUALITY OF LIFE       922.716515\n",
              "SOCIAL PURPOSE        -27.721191\n",
              "CULTURAL INFLUENCE    817.422632\n",
              "OPEN FOR BUSINESS     641.547411\n",
              "ADVENTURE             524.905961\n",
              "POWER                 301.208005\n",
              "HERITAGE             -901.811927\n",
              "MOVERS               -608.731031\n",
              "dtype: float64"
            ]
          },
          "metadata": {}
        },
        {
          "output_type": "display_data",
          "data": {
            "text/plain": [
              "'For Country'"
            ],
            "application/vnd.google.colaboratory.intrinsic+json": {
              "type": "string"
            }
          },
          "metadata": {}
        },
        {
          "output_type": "display_data",
          "data": {
            "text/plain": [
              "'Switzerland'"
            ],
            "application/vnd.google.colaboratory.intrinsic+json": {
              "type": "string"
            }
          },
          "metadata": {}
        },
        {
          "output_type": "display_data",
          "data": {
            "text/plain": [
              "const                   1.330316\n",
              "ENTREPRENEURSHIP       86.550010\n",
              "QUALITY OF LIFE       592.058477\n",
              "SOCIAL PURPOSE         65.083706\n",
              "CULTURAL INFLUENCE   -114.093722\n",
              "OPEN FOR BUSINESS    -320.426900\n",
              "ADVENTURE             629.902734\n",
              "POWER                 159.804401\n",
              "HERITAGE              323.394611\n",
              "MOVERS               -135.003354\n",
              "dtype: float64"
            ]
          },
          "metadata": {}
        },
        {
          "output_type": "display_data",
          "data": {
            "text/plain": [
              "'For Country'"
            ],
            "application/vnd.google.colaboratory.intrinsic+json": {
              "type": "string"
            }
          },
          "metadata": {}
        },
        {
          "output_type": "display_data",
          "data": {
            "text/plain": [
              "'Tanzania'"
            ],
            "application/vnd.google.colaboratory.intrinsic+json": {
              "type": "string"
            }
          },
          "metadata": {}
        },
        {
          "output_type": "display_data",
          "data": {
            "text/plain": [
              "const                   90.649733\n",
              "ENTREPRENEURSHIP      -984.703075\n",
              "QUALITY OF LIFE       -347.400543\n",
              "SOCIAL PURPOSE         570.342283\n",
              "CULTURAL INFLUENCE     428.566327\n",
              "OPEN FOR BUSINESS       63.002894\n",
              "ADVENTURE             1133.285847\n",
              "POWER                  228.479271\n",
              "HERITAGE               402.417515\n",
              "MOVERS                 178.333252\n",
              "dtype: float64"
            ]
          },
          "metadata": {}
        },
        {
          "output_type": "display_data",
          "data": {
            "text/plain": [
              "'For Country'"
            ],
            "application/vnd.google.colaboratory.intrinsic+json": {
              "type": "string"
            }
          },
          "metadata": {}
        },
        {
          "output_type": "display_data",
          "data": {
            "text/plain": [
              "'United Arab Emirates'"
            ],
            "application/vnd.google.colaboratory.intrinsic+json": {
              "type": "string"
            }
          },
          "metadata": {}
        },
        {
          "output_type": "display_data",
          "data": {
            "text/plain": [
              "const                   -6.080502\n",
              "ENTREPRENEURSHIP      1004.291800\n",
              "QUALITY OF LIFE        245.020923\n",
              "SOCIAL PURPOSE         509.568743\n",
              "CULTURAL INFLUENCE    1433.600409\n",
              "OPEN FOR BUSINESS     -231.717605\n",
              "ADVENTURE             -318.280600\n",
              "POWER                  686.896953\n",
              "HERITAGE             -1230.881361\n",
              "MOVERS                -608.050180\n",
              "dtype: float64"
            ]
          },
          "metadata": {}
        },
        {
          "output_type": "display_data",
          "data": {
            "text/plain": [
              "'For Country'"
            ],
            "application/vnd.google.colaboratory.intrinsic+json": {
              "type": "string"
            }
          },
          "metadata": {}
        },
        {
          "output_type": "display_data",
          "data": {
            "text/plain": [
              "'Belgium'"
            ],
            "application/vnd.google.colaboratory.intrinsic+json": {
              "type": "string"
            }
          },
          "metadata": {}
        },
        {
          "output_type": "display_data",
          "data": {
            "text/plain": [
              "const                   2.970801\n",
              "ENTREPRENEURSHIP     -151.136433\n",
              "QUALITY OF LIFE       354.119152\n",
              "SOCIAL PURPOSE         14.850477\n",
              "CULTURAL INFLUENCE    102.789667\n",
              "OPEN FOR BUSINESS     376.631194\n",
              "ADVENTURE             355.945122\n",
              "POWER                  54.019379\n",
              "HERITAGE              -36.146381\n",
              "MOVERS                -49.041528\n",
              "dtype: float64"
            ]
          },
          "metadata": {}
        },
        {
          "output_type": "display_data",
          "data": {
            "text/plain": [
              "'For Country'"
            ],
            "application/vnd.google.colaboratory.intrinsic+json": {
              "type": "string"
            }
          },
          "metadata": {}
        },
        {
          "output_type": "display_data",
          "data": {
            "text/plain": [
              "'Estonia'"
            ],
            "application/vnd.google.colaboratory.intrinsic+json": {
              "type": "string"
            }
          },
          "metadata": {}
        },
        {
          "output_type": "display_data",
          "data": {
            "text/plain": [
              "const                   94.569020\n",
              "ENTREPRENEURSHIP      -265.815954\n",
              "QUALITY OF LIFE       -127.530108\n",
              "SOCIAL PURPOSE        -893.954159\n",
              "CULTURAL INFLUENCE    -685.269785\n",
              "OPEN FOR BUSINESS     1154.485405\n",
              "ADVENTURE              388.192153\n",
              "POWER                  -22.241919\n",
              "HERITAGE             -1149.949912\n",
              "MOVERS                 348.162939\n",
              "dtype: float64"
            ]
          },
          "metadata": {}
        },
        {
          "output_type": "display_data",
          "data": {
            "text/plain": [
              "'For Country'"
            ],
            "application/vnd.google.colaboratory.intrinsic+json": {
              "type": "string"
            }
          },
          "metadata": {}
        },
        {
          "output_type": "display_data",
          "data": {
            "text/plain": [
              "'Iraq'"
            ],
            "application/vnd.google.colaboratory.intrinsic+json": {
              "type": "string"
            }
          },
          "metadata": {}
        },
        {
          "output_type": "display_data",
          "data": {
            "text/plain": [
              "const                  41.974145\n",
              "ENTREPRENEURSHIP       59.511340\n",
              "QUALITY OF LIFE         0.000000\n",
              "SOCIAL PURPOSE         29.859390\n",
              "CULTURAL INFLUENCE     51.775109\n",
              "OPEN FOR BUSINESS     505.591868\n",
              "ADVENTURE               0.000000\n",
              "POWER                 895.352790\n",
              "HERITAGE              330.825402\n",
              "MOVERS                528.343647\n",
              "dtype: float64"
            ]
          },
          "metadata": {}
        },
        {
          "output_type": "display_data",
          "data": {
            "text/plain": [
              "'For Country'"
            ],
            "application/vnd.google.colaboratory.intrinsic+json": {
              "type": "string"
            }
          },
          "metadata": {}
        },
        {
          "output_type": "display_data",
          "data": {
            "text/plain": [
              "'Lithuania'"
            ],
            "application/vnd.google.colaboratory.intrinsic+json": {
              "type": "string"
            }
          },
          "metadata": {}
        },
        {
          "output_type": "display_data",
          "data": {
            "text/plain": [
              "const                   45.991951\n",
              "ENTREPRENEURSHIP      1290.937952\n",
              "QUALITY OF LIFE       -270.851941\n",
              "SOCIAL PURPOSE         -99.899469\n",
              "CULTURAL INFLUENCE     247.778243\n",
              "OPEN FOR BUSINESS      878.443638\n",
              "ADVENTURE             -451.877239\n",
              "POWER                  146.693985\n",
              "HERITAGE             -1063.261472\n",
              "MOVERS                 212.648563\n",
              "dtype: float64"
            ]
          },
          "metadata": {}
        },
        {
          "output_type": "display_data",
          "data": {
            "text/plain": [
              "'For Country'"
            ],
            "application/vnd.google.colaboratory.intrinsic+json": {
              "type": "string"
            }
          },
          "metadata": {}
        },
        {
          "output_type": "display_data",
          "data": {
            "text/plain": [
              "'Slovakia'"
            ],
            "application/vnd.google.colaboratory.intrinsic+json": {
              "type": "string"
            }
          },
          "metadata": {}
        },
        {
          "output_type": "display_data",
          "data": {
            "text/plain": [
              "const                   6.107347\n",
              "ENTREPRENEURSHIP      108.177255\n",
              "QUALITY OF LIFE         6.102844\n",
              "SOCIAL PURPOSE        604.342406\n",
              "CULTURAL INFLUENCE   -247.682541\n",
              "OPEN FOR BUSINESS     631.138737\n",
              "ADVENTURE            -136.646850\n",
              "POWER                  99.843867\n",
              "HERITAGE             -580.016532\n",
              "MOVERS                154.959162\n",
              "dtype: float64"
            ]
          },
          "metadata": {}
        },
        {
          "output_type": "display_data",
          "data": {
            "text/plain": [
              "'For Country'"
            ],
            "application/vnd.google.colaboratory.intrinsic+json": {
              "type": "string"
            }
          },
          "metadata": {}
        },
        {
          "output_type": "display_data",
          "data": {
            "text/plain": [
              "'Cambodia'"
            ],
            "application/vnd.google.colaboratory.intrinsic+json": {
              "type": "string"
            }
          },
          "metadata": {}
        },
        {
          "output_type": "display_data",
          "data": {
            "text/plain": [
              "const                   1.208549\n",
              "ENTREPRENEURSHIP       18.953914\n",
              "QUALITY OF LIFE       -10.236286\n",
              "SOCIAL PURPOSE          7.260324\n",
              "CULTURAL INFLUENCE     -3.903927\n",
              "OPEN FOR BUSINESS     102.362459\n",
              "ADVENTURE             -12.787928\n",
              "POWER                  -0.099707\n",
              "HERITAGE              -22.275208\n",
              "MOVERS                  6.555382\n",
              "dtype: float64"
            ]
          },
          "metadata": {}
        },
        {
          "output_type": "display_data",
          "data": {
            "text/plain": [
              "'For Country'"
            ],
            "application/vnd.google.colaboratory.intrinsic+json": {
              "type": "string"
            }
          },
          "metadata": {}
        },
        {
          "output_type": "display_data",
          "data": {
            "text/plain": [
              "'El Salvador'"
            ],
            "application/vnd.google.colaboratory.intrinsic+json": {
              "type": "string"
            }
          },
          "metadata": {}
        },
        {
          "output_type": "display_data",
          "data": {
            "text/plain": [
              "ENTREPRENEURSHIP        0.000000\n",
              "QUALITY OF LIFE        13.511805\n",
              "SOCIAL PURPOSE         13.145127\n",
              "CULTURAL INFLUENCE      8.405660\n",
              "OPEN FOR BUSINESS     211.820993\n",
              "ADVENTURE              63.372026\n",
              "POWER                  18.632025\n",
              "HERITAGE               11.941592\n",
              "MOVERS                 19.794652\n",
              "dtype: float64"
            ]
          },
          "metadata": {}
        },
        {
          "output_type": "display_data",
          "data": {
            "text/plain": [
              "'For Country'"
            ],
            "application/vnd.google.colaboratory.intrinsic+json": {
              "type": "string"
            }
          },
          "metadata": {}
        },
        {
          "output_type": "display_data",
          "data": {
            "text/plain": [
              "'Uzbekistan'"
            ],
            "application/vnd.google.colaboratory.intrinsic+json": {
              "type": "string"
            }
          },
          "metadata": {}
        },
        {
          "output_type": "display_data",
          "data": {
            "text/plain": [
              "const                   4.658400\n",
              "ENTREPRENEURSHIP        9.253412\n",
              "QUALITY OF LIFE        -2.701592\n",
              "SOCIAL PURPOSE          7.777866\n",
              "CULTURAL INFLUENCE      0.515927\n",
              "OPEN FOR BUSINESS     208.662477\n",
              "ADVENTURE              20.263614\n",
              "POWER                  22.376208\n",
              "HERITAGE                5.466502\n",
              "MOVERS                 46.760110\n",
              "dtype: float64"
            ]
          },
          "metadata": {}
        },
        {
          "output_type": "display_data",
          "data": {
            "text/plain": [
              "'For Country'"
            ],
            "application/vnd.google.colaboratory.intrinsic+json": {
              "type": "string"
            }
          },
          "metadata": {}
        },
        {
          "output_type": "display_data",
          "data": {
            "text/plain": [
              "'Bangladesh'"
            ],
            "application/vnd.google.colaboratory.intrinsic+json": {
              "type": "string"
            }
          },
          "metadata": {}
        },
        {
          "output_type": "display_data",
          "data": {
            "text/plain": [
              "ENTREPRENEURSHIP        8.593065\n",
              "QUALITY OF LIFE        21.617784\n",
              "SOCIAL PURPOSE          2.983638\n",
              "CULTURAL INFLUENCE      6.722527\n",
              "OPEN FOR BUSINESS     115.122206\n",
              "ADVENTURE               8.851440\n",
              "POWER                  16.067835\n",
              "HERITAGE                5.657910\n",
              "MOVERS                 29.994911\n",
              "dtype: float64"
            ]
          },
          "metadata": {}
        },
        {
          "output_type": "display_data",
          "data": {
            "text/plain": [
              "'For Country'"
            ],
            "application/vnd.google.colaboratory.intrinsic+json": {
              "type": "string"
            }
          },
          "metadata": {}
        },
        {
          "output_type": "display_data",
          "data": {
            "text/plain": [
              "'Cameroon'"
            ],
            "application/vnd.google.colaboratory.intrinsic+json": {
              "type": "string"
            }
          },
          "metadata": {}
        },
        {
          "output_type": "display_data",
          "data": {
            "text/plain": [
              "ENTREPRENEURSHIP       3.201003\n",
              "QUALITY OF LIFE        4.868940\n",
              "SOCIAL PURPOSE         4.174576\n",
              "CULTURAL INFLUENCE     4.924330\n",
              "OPEN FOR BUSINESS     72.403862\n",
              "ADVENTURE             11.452311\n",
              "POWER                  4.339062\n",
              "HERITAGE               1.920887\n",
              "MOVERS                23.229300\n",
              "dtype: float64"
            ]
          },
          "metadata": {}
        },
        {
          "output_type": "display_data",
          "data": {
            "text/plain": [
              "'For Country'"
            ],
            "application/vnd.google.colaboratory.intrinsic+json": {
              "type": "string"
            }
          },
          "metadata": {}
        },
        {
          "output_type": "display_data",
          "data": {
            "text/plain": [
              "'Paraguay'"
            ],
            "application/vnd.google.colaboratory.intrinsic+json": {
              "type": "string"
            }
          },
          "metadata": {}
        },
        {
          "output_type": "display_data",
          "data": {
            "text/plain": [
              "ENTREPRENEURSHIP       13.494725\n",
              "QUALITY OF LIFE        46.224630\n",
              "SOCIAL PURPOSE         51.782828\n",
              "CULTURAL INFLUENCE     37.059583\n",
              "OPEN FOR BUSINESS     492.695402\n",
              "ADVENTURE             159.189625\n",
              "POWER                  20.284964\n",
              "HERITAGE               59.221168\n",
              "MOVERS                 65.013757\n",
              "dtype: float64"
            ]
          },
          "metadata": {}
        },
        {
          "output_type": "display_data",
          "data": {
            "text/plain": [
              "'For Country'"
            ],
            "application/vnd.google.colaboratory.intrinsic+json": {
              "type": "string"
            }
          },
          "metadata": {}
        },
        {
          "output_type": "display_data",
          "data": {
            "text/plain": [
              "'Turkiye'"
            ],
            "application/vnd.google.colaboratory.intrinsic+json": {
              "type": "string"
            }
          },
          "metadata": {}
        },
        {
          "output_type": "display_data",
          "data": {
            "text/plain": [
              "ENTREPRENEURSHIP       36.986139\n",
              "QUALITY OF LIFE        47.992391\n",
              "SOCIAL PURPOSE         10.495852\n",
              "CULTURAL INFLUENCE     70.895145\n",
              "OPEN FOR BUSINESS      91.106078\n",
              "ADVENTURE             115.389278\n",
              "POWER                  59.898410\n",
              "HERITAGE              154.830596\n",
              "MOVERS                 87.635138\n",
              "dtype: float64"
            ]
          },
          "metadata": {}
        },
        {
          "output_type": "display_data",
          "data": {
            "text/plain": [
              "'For Country'"
            ],
            "application/vnd.google.colaboratory.intrinsic+json": {
              "type": "string"
            }
          },
          "metadata": {}
        },
        {
          "output_type": "display_data",
          "data": {
            "text/plain": [
              "'Zambia'"
            ],
            "application/vnd.google.colaboratory.intrinsic+json": {
              "type": "string"
            }
          },
          "metadata": {}
        },
        {
          "output_type": "display_data",
          "data": {
            "text/plain": [
              "ENTREPRENEURSHIP        0.000000\n",
              "QUALITY OF LIFE        34.326125\n",
              "SOCIAL PURPOSE         39.147921\n",
              "CULTURAL INFLUENCE     32.542305\n",
              "OPEN FOR BUSINESS     588.651271\n",
              "ADVENTURE              81.766248\n",
              "POWER                  33.991432\n",
              "HERITAGE               21.473359\n",
              "MOVERS                239.674231\n",
              "dtype: float64"
            ]
          },
          "metadata": {}
        }
      ]
    },
    {
      "cell_type": "code",
      "source": [
        "# Convert the dictionary to a DataFrame\n",
        "df_coefficients = pd.DataFrame(cluster_results).T\n",
        "df_coefficients\n",
        "# df_coefficients =df_coefficients['const'].fillna(0)"
      ],
      "metadata": {
        "colab": {
          "base_uri": "https://localhost:8080/",
          "height": 441
        },
        "id": "_hTPRR5fPSA6",
        "outputId": "34b7037f-3b69-483c-df8a-59a829e7b4ab"
      },
      "execution_count": null,
      "outputs": [
        {
          "output_type": "execute_result",
          "data": {
            "text/plain": [
              "             ADVENTURE  CULTURAL INFLUENCE  ENTREPRENEURSHIP    HERITAGE  \\\n",
              "Algeria     908.759183          376.382204       -381.309592 -406.210940   \n",
              "Argentina   232.211065         -281.440699         95.931236  176.426372   \n",
              "Australia   319.663125           68.780202        841.809316  374.974993   \n",
              "Austria     564.624117           90.284723         47.538636   24.178675   \n",
              "Azerbaijan -883.464414         -843.256928       1050.426296 -209.603382   \n",
              "...                ...                 ...               ...         ...   \n",
              "Bangladesh    8.851440            6.722527          8.593065    5.657910   \n",
              "Cameroon     11.452311            4.924330          3.201003    1.920887   \n",
              "Paraguay    159.189625           37.059583         13.494725   59.221168   \n",
              "Turkiye     115.389278           70.895145         36.986139  154.830596   \n",
              "Zambia       81.766248           32.542305          0.000000   21.473359   \n",
              "\n",
              "                MOVERS  OPEN FOR BUSINESS        POWER  QUALITY OF LIFE  \\\n",
              "Algeria     321.026101          41.231562   555.255074       889.490544   \n",
              "Argentina  -141.616785          33.620972   699.184827        69.227089   \n",
              "Australia   104.885925         306.879257   527.416876      -539.709519   \n",
              "Austria    -291.516271         116.644301   161.855853       300.018864   \n",
              "Azerbaijan  299.651337         241.103379 -1096.905851      -785.800227   \n",
              "...                ...                ...          ...              ...   \n",
              "Bangladesh   29.994911         115.122206    16.067835        21.617784   \n",
              "Cameroon     23.229300          72.403862     4.339062         4.868940   \n",
              "Paraguay     65.013757         492.695402    20.284964        46.224630   \n",
              "Turkiye      87.635138          91.106078    59.898410        47.992391   \n",
              "Zambia      239.674231         588.651271    33.991432        34.326125   \n",
              "\n",
              "            SOCIAL PURPOSE       const  \n",
              "Algeria         248.049478  194.088092  \n",
              "Argentina       186.158661  -12.499328  \n",
              "Australia      -450.128803    0.299929  \n",
              "Austria         -37.130420    1.631618  \n",
              "Azerbaijan     4126.967371  170.444385  \n",
              "...                    ...         ...  \n",
              "Bangladesh        2.983638         NaN  \n",
              "Cameroon          4.174576         NaN  \n",
              "Paraguay         51.782828         NaN  \n",
              "Turkiye          10.495852         NaN  \n",
              "Zambia           39.147921         NaN  \n",
              "\n",
              "[93 rows x 10 columns]"
            ],
            "text/html": [
              "\n",
              "  <div id=\"df-c1198af7-ac1d-493c-b62b-bb0ccb3a5f32\" class=\"colab-df-container\">\n",
              "    <div>\n",
              "<style scoped>\n",
              "    .dataframe tbody tr th:only-of-type {\n",
              "        vertical-align: middle;\n",
              "    }\n",
              "\n",
              "    .dataframe tbody tr th {\n",
              "        vertical-align: top;\n",
              "    }\n",
              "\n",
              "    .dataframe thead th {\n",
              "        text-align: right;\n",
              "    }\n",
              "</style>\n",
              "<table border=\"1\" class=\"dataframe\">\n",
              "  <thead>\n",
              "    <tr style=\"text-align: right;\">\n",
              "      <th></th>\n",
              "      <th>ADVENTURE</th>\n",
              "      <th>CULTURAL INFLUENCE</th>\n",
              "      <th>ENTREPRENEURSHIP</th>\n",
              "      <th>HERITAGE</th>\n",
              "      <th>MOVERS</th>\n",
              "      <th>OPEN FOR BUSINESS</th>\n",
              "      <th>POWER</th>\n",
              "      <th>QUALITY OF LIFE</th>\n",
              "      <th>SOCIAL PURPOSE</th>\n",
              "      <th>const</th>\n",
              "    </tr>\n",
              "  </thead>\n",
              "  <tbody>\n",
              "    <tr>\n",
              "      <th>Algeria</th>\n",
              "      <td>908.759183</td>\n",
              "      <td>376.382204</td>\n",
              "      <td>-381.309592</td>\n",
              "      <td>-406.210940</td>\n",
              "      <td>321.026101</td>\n",
              "      <td>41.231562</td>\n",
              "      <td>555.255074</td>\n",
              "      <td>889.490544</td>\n",
              "      <td>248.049478</td>\n",
              "      <td>194.088092</td>\n",
              "    </tr>\n",
              "    <tr>\n",
              "      <th>Argentina</th>\n",
              "      <td>232.211065</td>\n",
              "      <td>-281.440699</td>\n",
              "      <td>95.931236</td>\n",
              "      <td>176.426372</td>\n",
              "      <td>-141.616785</td>\n",
              "      <td>33.620972</td>\n",
              "      <td>699.184827</td>\n",
              "      <td>69.227089</td>\n",
              "      <td>186.158661</td>\n",
              "      <td>-12.499328</td>\n",
              "    </tr>\n",
              "    <tr>\n",
              "      <th>Australia</th>\n",
              "      <td>319.663125</td>\n",
              "      <td>68.780202</td>\n",
              "      <td>841.809316</td>\n",
              "      <td>374.974993</td>\n",
              "      <td>104.885925</td>\n",
              "      <td>306.879257</td>\n",
              "      <td>527.416876</td>\n",
              "      <td>-539.709519</td>\n",
              "      <td>-450.128803</td>\n",
              "      <td>0.299929</td>\n",
              "    </tr>\n",
              "    <tr>\n",
              "      <th>Austria</th>\n",
              "      <td>564.624117</td>\n",
              "      <td>90.284723</td>\n",
              "      <td>47.538636</td>\n",
              "      <td>24.178675</td>\n",
              "      <td>-291.516271</td>\n",
              "      <td>116.644301</td>\n",
              "      <td>161.855853</td>\n",
              "      <td>300.018864</td>\n",
              "      <td>-37.130420</td>\n",
              "      <td>1.631618</td>\n",
              "    </tr>\n",
              "    <tr>\n",
              "      <th>Azerbaijan</th>\n",
              "      <td>-883.464414</td>\n",
              "      <td>-843.256928</td>\n",
              "      <td>1050.426296</td>\n",
              "      <td>-209.603382</td>\n",
              "      <td>299.651337</td>\n",
              "      <td>241.103379</td>\n",
              "      <td>-1096.905851</td>\n",
              "      <td>-785.800227</td>\n",
              "      <td>4126.967371</td>\n",
              "      <td>170.444385</td>\n",
              "    </tr>\n",
              "    <tr>\n",
              "      <th>...</th>\n",
              "      <td>...</td>\n",
              "      <td>...</td>\n",
              "      <td>...</td>\n",
              "      <td>...</td>\n",
              "      <td>...</td>\n",
              "      <td>...</td>\n",
              "      <td>...</td>\n",
              "      <td>...</td>\n",
              "      <td>...</td>\n",
              "      <td>...</td>\n",
              "    </tr>\n",
              "    <tr>\n",
              "      <th>Bangladesh</th>\n",
              "      <td>8.851440</td>\n",
              "      <td>6.722527</td>\n",
              "      <td>8.593065</td>\n",
              "      <td>5.657910</td>\n",
              "      <td>29.994911</td>\n",
              "      <td>115.122206</td>\n",
              "      <td>16.067835</td>\n",
              "      <td>21.617784</td>\n",
              "      <td>2.983638</td>\n",
              "      <td>NaN</td>\n",
              "    </tr>\n",
              "    <tr>\n",
              "      <th>Cameroon</th>\n",
              "      <td>11.452311</td>\n",
              "      <td>4.924330</td>\n",
              "      <td>3.201003</td>\n",
              "      <td>1.920887</td>\n",
              "      <td>23.229300</td>\n",
              "      <td>72.403862</td>\n",
              "      <td>4.339062</td>\n",
              "      <td>4.868940</td>\n",
              "      <td>4.174576</td>\n",
              "      <td>NaN</td>\n",
              "    </tr>\n",
              "    <tr>\n",
              "      <th>Paraguay</th>\n",
              "      <td>159.189625</td>\n",
              "      <td>37.059583</td>\n",
              "      <td>13.494725</td>\n",
              "      <td>59.221168</td>\n",
              "      <td>65.013757</td>\n",
              "      <td>492.695402</td>\n",
              "      <td>20.284964</td>\n",
              "      <td>46.224630</td>\n",
              "      <td>51.782828</td>\n",
              "      <td>NaN</td>\n",
              "    </tr>\n",
              "    <tr>\n",
              "      <th>Turkiye</th>\n",
              "      <td>115.389278</td>\n",
              "      <td>70.895145</td>\n",
              "      <td>36.986139</td>\n",
              "      <td>154.830596</td>\n",
              "      <td>87.635138</td>\n",
              "      <td>91.106078</td>\n",
              "      <td>59.898410</td>\n",
              "      <td>47.992391</td>\n",
              "      <td>10.495852</td>\n",
              "      <td>NaN</td>\n",
              "    </tr>\n",
              "    <tr>\n",
              "      <th>Zambia</th>\n",
              "      <td>81.766248</td>\n",
              "      <td>32.542305</td>\n",
              "      <td>0.000000</td>\n",
              "      <td>21.473359</td>\n",
              "      <td>239.674231</td>\n",
              "      <td>588.651271</td>\n",
              "      <td>33.991432</td>\n",
              "      <td>34.326125</td>\n",
              "      <td>39.147921</td>\n",
              "      <td>NaN</td>\n",
              "    </tr>\n",
              "  </tbody>\n",
              "</table>\n",
              "<p>93 rows × 10 columns</p>\n",
              "</div>\n",
              "    <div class=\"colab-df-buttons\">\n",
              "\n",
              "  <div class=\"colab-df-container\">\n",
              "    <button class=\"colab-df-convert\" onclick=\"convertToInteractive('df-c1198af7-ac1d-493c-b62b-bb0ccb3a5f32')\"\n",
              "            title=\"Convert this dataframe to an interactive table.\"\n",
              "            style=\"display:none;\">\n",
              "\n",
              "  <svg xmlns=\"http://www.w3.org/2000/svg\" height=\"24px\" viewBox=\"0 -960 960 960\">\n",
              "    <path d=\"M120-120v-720h720v720H120Zm60-500h600v-160H180v160Zm220 220h160v-160H400v160Zm0 220h160v-160H400v160ZM180-400h160v-160H180v160Zm440 0h160v-160H620v160ZM180-180h160v-160H180v160Zm440 0h160v-160H620v160Z\"/>\n",
              "  </svg>\n",
              "    </button>\n",
              "\n",
              "  <style>\n",
              "    .colab-df-container {\n",
              "      display:flex;\n",
              "      gap: 12px;\n",
              "    }\n",
              "\n",
              "    .colab-df-convert {\n",
              "      background-color: #E8F0FE;\n",
              "      border: none;\n",
              "      border-radius: 50%;\n",
              "      cursor: pointer;\n",
              "      display: none;\n",
              "      fill: #1967D2;\n",
              "      height: 32px;\n",
              "      padding: 0 0 0 0;\n",
              "      width: 32px;\n",
              "    }\n",
              "\n",
              "    .colab-df-convert:hover {\n",
              "      background-color: #E2EBFA;\n",
              "      box-shadow: 0px 1px 2px rgba(60, 64, 67, 0.3), 0px 1px 3px 1px rgba(60, 64, 67, 0.15);\n",
              "      fill: #174EA6;\n",
              "    }\n",
              "\n",
              "    .colab-df-buttons div {\n",
              "      margin-bottom: 4px;\n",
              "    }\n",
              "\n",
              "    [theme=dark] .colab-df-convert {\n",
              "      background-color: #3B4455;\n",
              "      fill: #D2E3FC;\n",
              "    }\n",
              "\n",
              "    [theme=dark] .colab-df-convert:hover {\n",
              "      background-color: #434B5C;\n",
              "      box-shadow: 0px 1px 3px 1px rgba(0, 0, 0, 0.15);\n",
              "      filter: drop-shadow(0px 1px 2px rgba(0, 0, 0, 0.3));\n",
              "      fill: #FFFFFF;\n",
              "    }\n",
              "  </style>\n",
              "\n",
              "    <script>\n",
              "      const buttonEl =\n",
              "        document.querySelector('#df-c1198af7-ac1d-493c-b62b-bb0ccb3a5f32 button.colab-df-convert');\n",
              "      buttonEl.style.display =\n",
              "        google.colab.kernel.accessAllowed ? 'block' : 'none';\n",
              "\n",
              "      async function convertToInteractive(key) {\n",
              "        const element = document.querySelector('#df-c1198af7-ac1d-493c-b62b-bb0ccb3a5f32');\n",
              "        const dataTable =\n",
              "          await google.colab.kernel.invokeFunction('convertToInteractive',\n",
              "                                                    [key], {});\n",
              "        if (!dataTable) return;\n",
              "\n",
              "        const docLinkHtml = 'Like what you see? Visit the ' +\n",
              "          '<a target=\"_blank\" href=https://colab.research.google.com/notebooks/data_table.ipynb>data table notebook</a>'\n",
              "          + ' to learn more about interactive tables.';\n",
              "        element.innerHTML = '';\n",
              "        dataTable['output_type'] = 'display_data';\n",
              "        await google.colab.output.renderOutput(dataTable, element);\n",
              "        const docLink = document.createElement('div');\n",
              "        docLink.innerHTML = docLinkHtml;\n",
              "        element.appendChild(docLink);\n",
              "      }\n",
              "    </script>\n",
              "  </div>\n",
              "\n",
              "\n",
              "<div id=\"df-95dd2698-561a-402b-9746-7c856cef37bc\">\n",
              "  <button class=\"colab-df-quickchart\" onclick=\"quickchart('df-95dd2698-561a-402b-9746-7c856cef37bc')\"\n",
              "            title=\"Suggest charts\"\n",
              "            style=\"display:none;\">\n",
              "\n",
              "<svg xmlns=\"http://www.w3.org/2000/svg\" height=\"24px\"viewBox=\"0 0 24 24\"\n",
              "     width=\"24px\">\n",
              "    <g>\n",
              "        <path d=\"M19 3H5c-1.1 0-2 .9-2 2v14c0 1.1.9 2 2 2h14c1.1 0 2-.9 2-2V5c0-1.1-.9-2-2-2zM9 17H7v-7h2v7zm4 0h-2V7h2v10zm4 0h-2v-4h2v4z\"/>\n",
              "    </g>\n",
              "</svg>\n",
              "  </button>\n",
              "\n",
              "<style>\n",
              "  .colab-df-quickchart {\n",
              "      --bg-color: #E8F0FE;\n",
              "      --fill-color: #1967D2;\n",
              "      --hover-bg-color: #E2EBFA;\n",
              "      --hover-fill-color: #174EA6;\n",
              "      --disabled-fill-color: #AAA;\n",
              "      --disabled-bg-color: #DDD;\n",
              "  }\n",
              "\n",
              "  [theme=dark] .colab-df-quickchart {\n",
              "      --bg-color: #3B4455;\n",
              "      --fill-color: #D2E3FC;\n",
              "      --hover-bg-color: #434B5C;\n",
              "      --hover-fill-color: #FFFFFF;\n",
              "      --disabled-bg-color: #3B4455;\n",
              "      --disabled-fill-color: #666;\n",
              "  }\n",
              "\n",
              "  .colab-df-quickchart {\n",
              "    background-color: var(--bg-color);\n",
              "    border: none;\n",
              "    border-radius: 50%;\n",
              "    cursor: pointer;\n",
              "    display: none;\n",
              "    fill: var(--fill-color);\n",
              "    height: 32px;\n",
              "    padding: 0;\n",
              "    width: 32px;\n",
              "  }\n",
              "\n",
              "  .colab-df-quickchart:hover {\n",
              "    background-color: var(--hover-bg-color);\n",
              "    box-shadow: 0 1px 2px rgba(60, 64, 67, 0.3), 0 1px 3px 1px rgba(60, 64, 67, 0.15);\n",
              "    fill: var(--button-hover-fill-color);\n",
              "  }\n",
              "\n",
              "  .colab-df-quickchart-complete:disabled,\n",
              "  .colab-df-quickchart-complete:disabled:hover {\n",
              "    background-color: var(--disabled-bg-color);\n",
              "    fill: var(--disabled-fill-color);\n",
              "    box-shadow: none;\n",
              "  }\n",
              "\n",
              "  .colab-df-spinner {\n",
              "    border: 2px solid var(--fill-color);\n",
              "    border-color: transparent;\n",
              "    border-bottom-color: var(--fill-color);\n",
              "    animation:\n",
              "      spin 1s steps(1) infinite;\n",
              "  }\n",
              "\n",
              "  @keyframes spin {\n",
              "    0% {\n",
              "      border-color: transparent;\n",
              "      border-bottom-color: var(--fill-color);\n",
              "      border-left-color: var(--fill-color);\n",
              "    }\n",
              "    20% {\n",
              "      border-color: transparent;\n",
              "      border-left-color: var(--fill-color);\n",
              "      border-top-color: var(--fill-color);\n",
              "    }\n",
              "    30% {\n",
              "      border-color: transparent;\n",
              "      border-left-color: var(--fill-color);\n",
              "      border-top-color: var(--fill-color);\n",
              "      border-right-color: var(--fill-color);\n",
              "    }\n",
              "    40% {\n",
              "      border-color: transparent;\n",
              "      border-right-color: var(--fill-color);\n",
              "      border-top-color: var(--fill-color);\n",
              "    }\n",
              "    60% {\n",
              "      border-color: transparent;\n",
              "      border-right-color: var(--fill-color);\n",
              "    }\n",
              "    80% {\n",
              "      border-color: transparent;\n",
              "      border-right-color: var(--fill-color);\n",
              "      border-bottom-color: var(--fill-color);\n",
              "    }\n",
              "    90% {\n",
              "      border-color: transparent;\n",
              "      border-bottom-color: var(--fill-color);\n",
              "    }\n",
              "  }\n",
              "</style>\n",
              "\n",
              "  <script>\n",
              "    async function quickchart(key) {\n",
              "      const quickchartButtonEl =\n",
              "        document.querySelector('#' + key + ' button');\n",
              "      quickchartButtonEl.disabled = true;  // To prevent multiple clicks.\n",
              "      quickchartButtonEl.classList.add('colab-df-spinner');\n",
              "      try {\n",
              "        const charts = await google.colab.kernel.invokeFunction(\n",
              "            'suggestCharts', [key], {});\n",
              "      } catch (error) {\n",
              "        console.error('Error during call to suggestCharts:', error);\n",
              "      }\n",
              "      quickchartButtonEl.classList.remove('colab-df-spinner');\n",
              "      quickchartButtonEl.classList.add('colab-df-quickchart-complete');\n",
              "    }\n",
              "    (() => {\n",
              "      let quickchartButtonEl =\n",
              "        document.querySelector('#df-95dd2698-561a-402b-9746-7c856cef37bc button');\n",
              "      quickchartButtonEl.style.display =\n",
              "        google.colab.kernel.accessAllowed ? 'block' : 'none';\n",
              "    })();\n",
              "  </script>\n",
              "</div>\n",
              "    </div>\n",
              "  </div>\n"
            ],
            "application/vnd.google.colaboratory.intrinsic+json": {
              "type": "dataframe",
              "variable_name": "df_coefficients",
              "summary": "{\n  \"name\": \"df_coefficients\",\n  \"rows\": 93,\n  \"fields\": [\n    {\n      \"column\": \"ADVENTURE\",\n      \"properties\": {\n        \"dtype\": \"number\",\n        \"std\": 1127.9983500598191,\n        \"min\": -3340.19149489392,\n        \"max\": 6588.643798565962,\n        \"num_unique_values\": 93,\n        \"samples\": [\n          662.019422590267,\n          -118.24716549816992,\n          608.6987018885686\n        ],\n        \"semantic_type\": \"\",\n        \"description\": \"\"\n      }\n    },\n    {\n      \"column\": \"CULTURAL INFLUENCE\",\n      \"properties\": {\n        \"dtype\": \"number\",\n        \"std\": 909.2173191999777,\n        \"min\": -4423.977230008073,\n        \"max\": 3580.728811144108,\n        \"num_unique_values\": 93,\n        \"samples\": [\n          -308.2378764734588,\n          -24.840537816624987,\n          -1046.6296064975088\n        ],\n        \"semantic_type\": \"\",\n        \"description\": \"\"\n      }\n    },\n    {\n      \"column\": \"ENTREPRENEURSHIP\",\n      \"properties\": {\n        \"dtype\": \"number\",\n        \"std\": 919.5764134454902,\n        \"min\": -4577.482928740361,\n        \"max\": 3282.653205790466,\n        \"num_unique_values\": 92,\n        \"samples\": [\n          361.95322787257237,\n          -68.40591557066557,\n          -151.67221487324048\n        ],\n        \"semantic_type\": \"\",\n        \"description\": \"\"\n      }\n    },\n    {\n      \"column\": \"HERITAGE\",\n      \"properties\": {\n        \"dtype\": \"number\",\n        \"std\": 676.7357150531434,\n        \"min\": -1486.1625686932175,\n        \"max\": 2147.839989738495,\n        \"num_unique_values\": 93,\n        \"samples\": [\n          -142.4207027549105,\n          153.62308328321188,\n          -484.7914885631776\n        ],\n        \"semantic_type\": \"\",\n        \"description\": \"\"\n      }\n    },\n    {\n      \"column\": \"MOVERS\",\n      \"properties\": {\n        \"dtype\": \"number\",\n        \"std\": 651.0954798760714,\n        \"min\": -4533.523716956388,\n        \"max\": 1856.9417157794323,\n        \"num_unique_values\": 93,\n        \"samples\": [\n          84.06932749163735,\n          15.296972372244113,\n          139.85578673443763\n        ],\n        \"semantic_type\": \"\",\n        \"description\": \"\"\n      }\n    },\n    {\n      \"column\": \"OPEN FOR BUSINESS\",\n      \"properties\": {\n        \"dtype\": \"number\",\n        \"std\": 513.1615402742847,\n        \"min\": -1163.1590310491615,\n        \"max\": 1979.05075229736,\n        \"num_unique_values\": 93,\n        \"samples\": [\n          -176.8372160494451,\n          95.28960607854856,\n          700.6471932463002\n        ],\n        \"semantic_type\": \"\",\n        \"description\": \"\"\n      }\n    },\n    {\n      \"column\": \"POWER\",\n      \"properties\": {\n        \"dtype\": \"number\",\n        \"std\": 686.8806110216588,\n        \"min\": -1724.3509457485343,\n        \"max\": 3238.777282404291,\n        \"num_unique_values\": 93,\n        \"samples\": [\n          578.823428364846,\n          45.036242452767965,\n          -406.2203507778031\n        ],\n        \"semantic_type\": \"\",\n        \"description\": \"\"\n      }\n    },\n    {\n      \"column\": \"QUALITY OF LIFE\",\n      \"properties\": {\n        \"dtype\": \"number\",\n        \"std\": 744.0743310108865,\n        \"min\": -3004.0118136842093,\n        \"max\": 2364.4881667641002,\n        \"num_unique_values\": 93,\n        \"samples\": [\n          -503.99858384175104,\n          -343.0545390652951,\n          90.53542561275742\n        ],\n        \"semantic_type\": \"\",\n        \"description\": \"\"\n      }\n    },\n    {\n      \"column\": \"SOCIAL PURPOSE\",\n      \"properties\": {\n        \"dtype\": \"number\",\n        \"std\": 903.5525807307376,\n        \"min\": -3673.3006916146314,\n        \"max\": 4126.967370634367,\n        \"num_unique_values\": 93,\n        \"samples\": [\n          1061.4191746793308,\n          -134.44093415157545,\n          232.03654925700545\n        ],\n        \"semantic_type\": \"\",\n        \"description\": \"\"\n      }\n    },\n    {\n      \"column\": \"const\",\n      \"properties\": {\n        \"dtype\": \"number\",\n        \"std\": 194.77106437049386,\n        \"min\": -69.88727698734894,\n        \"max\": 1164.779381986464,\n        \"num_unique_values\": 85,\n        \"samples\": [\n          2.970801400084582,\n          194.08809244726274,\n          374.5082091679439\n        ],\n        \"semantic_type\": \"\",\n        \"description\": \"\"\n      }\n    }\n  ]\n}"
            }
          },
          "metadata": {},
          "execution_count": 41
        }
      ]
    },
    {
      "cell_type": "code",
      "source": [
        "df_coefficients=df_coefficients.dropna()"
      ],
      "metadata": {
        "id": "Z3deln4TTEJd"
      },
      "execution_count": null,
      "outputs": []
    },
    {
      "cell_type": "code",
      "source": [
        "scaler = StandardScaler()\n",
        "df_coefficients_scaled = scaler.fit_transform(df_coefficients)\n"
      ],
      "metadata": {
        "id": "8XzMHLiZSVHH"
      },
      "execution_count": null,
      "outputs": []
    },
    {
      "cell_type": "code",
      "source": [
        "df_coefficients_scaled"
      ],
      "metadata": {
        "colab": {
          "base_uri": "https://localhost:8080/"
        },
        "id": "UzAcES3iVE82",
        "outputId": "a0c125a3-09c2-40ee-f803-63c108a3589e"
      },
      "execution_count": null,
      "outputs": [
        {
          "output_type": "execute_result",
          "data": {
            "text/plain": [
              "array([[ 4.88897418e-01,  2.38918592e-01, -5.11043551e-01,\n",
              "        -6.29464616e-01,  5.87899046e-01, -1.98916172e-01,\n",
              "         2.84117266e-01,  9.45099414e-01,  2.44888452e-01,\n",
              "         4.81493982e-01],\n",
              "       [-8.86640167e-02, -4.58203212e-01, -1.17343558e-02,\n",
              "         2.00346972e-01, -9.72365981e-02, -2.13382322e-01,\n",
              "         4.87530309e-01, -1.15737157e-01,  1.79022476e-01,\n",
              "        -5.85468764e-01],\n",
              "       [-1.40071878e-02, -8.70598163e-02,  7.68634301e-01,\n",
              "         4.83126572e-01,  2.67813417e-01,  3.06024900e-01,\n",
              "         2.44774098e-01, -9.03267333e-01, -4.98132833e-01,\n",
              "        -5.19364395e-01],\n",
              "       [ 1.95113225e-01, -6.42705967e-02, -6.23647058e-02,\n",
              "        -1.64893016e-02, -3.19225272e-01, -5.55722244e-02,\n",
              "        -2.71865986e-01,  1.82742988e-01, -5.86081472e-02,\n",
              "        -5.12486619e-01],\n",
              "       [-1.04110349e+00, -1.05358282e+00,  9.86898059e-01,\n",
              "        -3.49449543e-01,  5.56244798e-01,  1.80998623e-01,\n",
              "        -2.05084873e+00, -1.22153340e+00,  4.37294376e+00,\n",
              "         3.59381246e-01],\n",
              "       [-1.18208750e+00,  1.05546796e-01,  1.38478764e+00,\n",
              "         5.96879320e-01,  9.61128925e-01,  7.08322150e-01,\n",
              "         1.63769615e-01,  2.00158021e+00, -2.56220172e-01,\n",
              "         5.57905421e-01],\n",
              "       [ 9.17092258e-01,  1.09417434e-01,  5.82650386e-01,\n",
              "        -1.34669438e+00,  2.46926029e-02,  1.80767394e-01,\n",
              "        -6.59985597e-01, -8.13363074e-01,  6.31592117e-01,\n",
              "        -9.49267489e-02],\n",
              "       [-1.08595751e+00, -1.29893758e+00,  1.99857346e+00,\n",
              "         2.76487207e+00, -2.20357536e-01, -2.58416338e-01,\n",
              "         1.09285378e-01, -1.19528722e+00, -1.70741128e-01,\n",
              "        -6.05598141e-01],\n",
              "       [ 1.95541479e-01, -3.50883104e-01, -4.43898991e-01,\n",
              "         6.81608051e-01,  2.25076498e-01, -3.99142223e-01,\n",
              "         6.51681475e-01, -6.71132782e-01, -2.88706383e-01,\n",
              "        -4.16972967e-01],\n",
              "       [-3.31535531e-01,  1.98987771e-01, -2.29836172e-01,\n",
              "        -3.34344922e-01,  1.95164404e-01, -2.27579151e-02,\n",
              "        -3.71082106e-01, -3.17571130e-02, -1.79381897e-01,\n",
              "        -5.34467503e-01],\n",
              "       [-1.27222835e-01,  4.80415724e-01, -8.80774821e-02,\n",
              "        -2.92334031e-01,  4.74909159e-01, -5.85062297e-01,\n",
              "         7.73530468e-01, -4.52372350e-01,  3.39204139e-01,\n",
              "        -2.43538156e-01],\n",
              "       [-3.50015766e-01, -1.50993867e-02, -4.48922655e-01,\n",
              "         2.91231999e-01,  1.89713701e-01, -8.57426029e-02,\n",
              "         3.94617193e-01,  8.64008051e-02,  9.41971317e-01,\n",
              "        -6.11154432e-01],\n",
              "       [ 2.64916047e-01, -1.37372963e+00, -6.47848040e-02,\n",
              "        -1.15468660e+00, -4.07692789e-01,  1.15944031e+00,\n",
              "        -1.61361032e+00,  7.94872933e-01,  1.98484489e-01,\n",
              "        -1.57184649e-01],\n",
              "       [ 5.19444893e-01, -1.54047140e-02, -6.38184237e-01,\n",
              "        -5.19214972e-01, -7.84253965e-01,  2.86956060e-03,\n",
              "         3.48910285e-01,  7.47379771e-01, -1.86076957e-01,\n",
              "        -5.35629399e-01],\n",
              "       [ 3.89550436e-01, -3.84363061e-01, -1.83521044e-01,\n",
              "        -2.34220582e-01,  2.24868903e-01, -8.52936431e-01,\n",
              "        -1.44941009e-01, -4.46298158e-01, -1.57310406e-01,\n",
              "        -4.59649213e-01],\n",
              "       [-3.65277457e-01,  3.45880749e-01, -8.62386255e-02,\n",
              "        -1.25430510e-01,  1.72230374e-01, -2.15131235e-01,\n",
              "        -2.92508878e-01, -2.42816780e-01,  3.49390343e-01,\n",
              "        -5.42267417e-01],\n",
              "       [ 4.05366686e-01,  1.97154199e-01,  5.62676617e-01,\n",
              "        -2.05284856e+00, -4.32659538e-01, -5.93121323e-01,\n",
              "         3.33854103e-01, -1.72366679e-02,  3.42228167e-01,\n",
              "        -5.24806630e-01],\n",
              "       [ 2.95690206e-02,  2.67975135e-01, -3.92989281e-01,\n",
              "        -2.03390419e+00, -7.45317746e-01, -2.47731330e+00,\n",
              "        -6.27158525e-02,  1.68472130e+00,  7.51256275e-01,\n",
              "        -5.14054645e-01],\n",
              "       [-5.01549698e-01,  8.86173995e-02,  1.03335789e+00,\n",
              "         2.62151467e-01,  6.19488080e-01, -6.52444991e-01,\n",
              "         7.95972304e-01, -2.13633261e-02, -5.95729804e-01,\n",
              "        -4.56745173e-01],\n",
              "       [-2.70427006e-01, -5.09101968e-01,  2.92640306e-01,\n",
              "        -2.03625515e-01, -2.09140245e-02,  1.38294461e-01,\n",
              "        -3.73335827e-01, -4.45126073e-01,  5.12693664e-01,\n",
              "        -4.93206218e-01],\n",
              "       [ 8.74732226e-01, -4.57650460e-01,  3.32234666e+00,\n",
              "        -7.12817094e-01,  6.75436183e-01, -2.46756216e+00,\n",
              "         1.10508726e-01, -9.05056363e-01,  1.62136670e+00,\n",
              "        -1.06818163e-01],\n",
              "       [-3.87846223e-01, -1.86273539e-01, -1.83670716e-01,\n",
              "         1.67869763e-01,  1.35139628e-01, -9.61630623e-02,\n",
              "        -4.36964806e-01, -6.48935882e-01, -1.62168778e-01,\n",
              "        -5.33275964e-01],\n",
              "       [-2.99199222e-01, -2.39451885e-02, -4.21592645e-01,\n",
              "        -7.02753199e-02,  5.23809909e-03,  2.83294422e-02,\n",
              "         5.11752643e-01,  3.14423571e-01, -1.27218392e+00,\n",
              "        -2.94358742e-01],\n",
              "       [ 2.01062014e-02, -9.26099205e-01, -3.99960402e-02,\n",
              "        -7.93076300e-01,  3.00324250e-01,  4.19867663e-02,\n",
              "         1.26862847e+00,  5.91743653e-01, -1.90928929e-02,\n",
              "        -8.47849396e-02],\n",
              "       [ 1.65533372e+00, -1.08280299e-01, -3.40314176e+00,\n",
              "         1.19242319e+00, -5.85983527e-02,  2.87487438e+00,\n",
              "         9.71321065e-01,  4.26141720e-01, -1.34965604e+00,\n",
              "        -8.81860495e-01],\n",
              "       [ 4.61752482e-01,  1.97659899e+00, -7.22011905e-01,\n",
              "        -1.44583406e-01,  6.26630361e-02,  1.09743587e-01,\n",
              "         1.73886206e-01,  1.67468741e-01, -2.27818576e-01,\n",
              "        -7.02870768e-02],\n",
              "       [-1.26615458e+00,  4.21120501e-01,  9.24897710e-01,\n",
              "         2.71704613e-01,  1.38874293e+00, -2.48821244e+00,\n",
              "         2.15662890e-01,  1.40680884e+00, -4.38558687e-01,\n",
              "        -5.00649928e-01],\n",
              "       [-1.73125981e-01,  2.30150229e-01, -1.07351530e-01,\n",
              "         7.06616812e-02,  3.02696357e-01, -8.28709798e-02,\n",
              "        -1.02685459e+00,  3.73997075e-03,  1.89329660e-02,\n",
              "        -5.02043532e-01],\n",
              "       [ 1.54667610e-02, -2.06986965e+00, -8.70605200e-01,\n",
              "        -2.72417192e-01,  8.54977716e-01,  7.36576469e-02,\n",
              "        -4.65897225e-01, -1.76185557e+00,  2.20888506e+00,\n",
              "         5.49482654e+00],\n",
              "       [ 3.08080218e+00,  9.39550260e-01,  1.82031474e+00,\n",
              "        -1.05669840e+00, -4.68651538e-01,  2.43161319e-01,\n",
              "         1.21616411e-01,  7.06387483e-01,  1.29849709e+00,\n",
              "         2.22785631e+00],\n",
              "       [ 2.41514481e+00, -7.84892348e-01, -1.04365047e+00,\n",
              "        -7.52940268e-01,  2.86246236e+00, -3.01692736e-01,\n",
              "        -1.42891653e+00,  1.42782394e+00,  4.32048491e-01,\n",
              "        -1.49555187e-01],\n",
              "       [-3.31212646e-01, -1.31191809e-01,  2.98680198e-01,\n",
              "         1.62741157e+00,  9.17254449e-01, -1.43909266e+00,\n",
              "        -2.96749138e-01, -5.44435985e-02,  2.17661465e-01,\n",
              "        -3.48715087e-01],\n",
              "       [-2.84666906e-01, -7.39200769e-01, -9.63855458e-03,\n",
              "         3.82657244e-01,  4.46926924e-02,  3.11065635e-01,\n",
              "        -2.87762539e-01,  8.01114372e-02, -3.16318032e-01,\n",
              "        -4.05530186e-01],\n",
              "       [-3.09510010e-01, -2.46845886e-01,  3.35420941e-01,\n",
              "        -3.99535401e-04,  3.24370033e-01, -4.93202147e-01,\n",
              "         9.03654304e-01, -1.38820260e-01,  4.72889959e-01,\n",
              "        -5.72581068e-01],\n",
              "       [-2.08905006e-01,  2.87267203e-01, -1.32349993e+00,\n",
              "        -3.87405381e-01,  1.03523686e-01, -1.91316745e+00,\n",
              "         3.50224863e-02,  2.85269558e+00, -2.38608496e-01,\n",
              "        -4.55149323e-01],\n",
              "       [-2.08324634e-01,  2.54184225e-01, -7.10178526e-03,\n",
              "        -1.08548582e-01, -5.18500175e-01, -7.39382759e-01,\n",
              "        -1.47625190e-01,  4.65196794e-02,  4.81681136e-01,\n",
              "        -5.06412893e-01],\n",
              "       [-1.08458249e+00, -4.99358070e-01,  8.92556150e-03,\n",
              "         6.69050840e-01,  9.40202208e-01,  1.30125175e+00,\n",
              "        -8.11426406e-01, -1.20706132e-01, -4.35510289e-02,\n",
              "        -1.77537314e-01],\n",
              "       [-2.21311369e-01, -3.92789237e-01, -2.16598743e-01,\n",
              "         5.00382947e-01,  7.71453824e-01, -1.72066097e-01,\n",
              "         9.69269377e-01,  5.98733517e-01,  1.17192698e-01,\n",
              "        -2.37383351e-01],\n",
              "       [ 1.87464332e+00, -4.84821840e+00,  1.51900062e+00,\n",
              "         3.00810032e+00, -4.55538347e-01, -9.09956631e-01,\n",
              "        -2.93760434e+00, -3.88931061e+00,  1.31947262e+00,\n",
              "         2.21772302e+00],\n",
              "       [ 2.78258490e-01, -4.86601276e-01,  2.66588912e-01,\n",
              "        -2.53765719e-01,  2.36985768e-01, -6.13419608e-01,\n",
              "         3.17425950e-01, -8.57082822e-01,  1.11049974e+00,\n",
              "        -7.55459760e-01],\n",
              "       [-5.44660336e-01, -8.66475854e-02, -4.09087662e-01,\n",
              "         5.42610720e-01,  3.75942688e-01, -4.00146660e-01,\n",
              "        -2.19596888e-01,  7.16047728e-01, -2.54431307e-01,\n",
              "        -3.17951077e-01],\n",
              "       [-3.53354210e-01,  2.11672392e+00, -8.21001340e-01,\n",
              "         1.52098067e+00, -6.60128557e+00,  3.48447546e+00,\n",
              "         1.17500223e+00, -4.96825623e-01, -3.65170962e+00,\n",
              "         9.69895446e-01],\n",
              "       [ 1.97882816e-01,  2.10112614e+00,  2.30378736e+00,\n",
              "        -2.16756792e+00,  8.59890823e-02, -1.22284085e-01,\n",
              "         3.51869644e+00,  1.65687405e+00, -1.06088529e+00,\n",
              "         2.95383231e+00],\n",
              "       [-5.63340934e-01, -1.55205362e-01,  7.04060528e-01,\n",
              "        -4.22231240e-03, -4.29516769e-01, -2.55901478e-01,\n",
              "        -5.08097082e-02,  1.35477356e-01, -1.62717901e+00,\n",
              "        -3.16827981e-01],\n",
              "       [-4.01193714e-01, -8.98626274e-02, -1.13111402e-01,\n",
              "         1.11500634e+00,  4.11440443e-01, -1.12985306e+00,\n",
              "         1.07346692e-01,  2.83420837e-01,  2.55386840e-02,\n",
              "        -3.64519264e-01],\n",
              "       [-2.02357506e-01,  1.90431200e+00, -4.45915604e-02,\n",
              "         3.72967286e-01,  5.39977685e-01,  1.68943985e+00,\n",
              "        -7.85528810e-01, -4.33818335e-01, -3.92832450e+00,\n",
              "         4.95715065e-02],\n",
              "       [-3.42595221e-01, -7.34094449e-04, -2.37156436e-01,\n",
              "         6.57171205e-04,  2.16824508e-01,  2.59524915e-02,\n",
              "        -9.41780490e-02, -3.07416478e-01,  2.99523982e-01,\n",
              "        -5.43285971e-01],\n",
              "       [ 2.68461485e-01, -4.95123528e-01,  7.73627558e-01,\n",
              "         6.67641644e-01,  1.35355183e-01, -4.06408763e-01,\n",
              "        -1.05926576e+00, -2.70407735e-01, -2.48334234e-01,\n",
              "        -3.54214124e-01],\n",
              "       [-3.30663787e-01,  2.93317848e-02,  3.36545859e-01,\n",
              "         6.99199926e-01, -4.60696066e-01, -1.42887121e+00,\n",
              "         3.08232301e-01,  2.53313678e-01, -5.55492516e-01,\n",
              "        -4.95969959e-01],\n",
              "       [-3.71128802e-01,  5.39842359e-01,  4.66807876e-01,\n",
              "         1.71176554e-01,  2.78880902e-01, -4.60630525e-02,\n",
              "        -6.52650077e-01, -7.39325612e-01, -8.82745089e-01,\n",
              "         4.07107171e-01],\n",
              "       [ 2.16011476e-02, -6.08165328e-01, -4.93017982e-01,\n",
              "         8.12709660e-01,  2.39840827e-01, -1.31980320e-01,\n",
              "        -1.27207263e+00,  6.66034678e-01,  1.18675201e-01,\n",
              "        -5.00923355e-01],\n",
              "       [-4.77098098e-01,  8.74799575e-02,  1.38802946e-01,\n",
              "        -1.71595088e-01,  3.36159493e-01, -8.76982687e-02,\n",
              "         4.13949766e-01,  5.18887477e-02,  3.75542847e-01,\n",
              "        -4.84778712e-01],\n",
              "       [-4.61147126e-01, -6.82326527e-01, -1.12335771e-01,\n",
              "         8.38369019e-03,  1.13595544e-01,  2.09508521e-01,\n",
              "         1.42265833e+00,  2.73678303e-02, -4.23783695e-01,\n",
              "         2.19436026e-01],\n",
              "       [-3.88140498e-01, -5.92249734e-02,  3.28255704e-01,\n",
              "         4.37046130e-01,  3.54383013e-01,  1.68996190e-01,\n",
              "        -6.80510405e-01, -7.11955414e-01, -1.17409038e+00,\n",
              "         1.52497167e-02],\n",
              "       [ 2.32739197e-01, -1.26910516e+00, -2.70787380e-01,\n",
              "        -7.41381667e-01,  3.19600875e-01,  1.05449593e+00,\n",
              "        -1.07471673e+00, -8.81793489e-02,  2.27847036e-01,\n",
              "         3.32248424e-01],\n",
              "       [-5.12153290e-01,  8.62319073e-01,  3.55410385e-01,\n",
              "        -3.34061122e-01, -1.76892315e+00, -5.24389871e-01,\n",
              "         6.71860787e-01, -1.04249220e+00, -4.60089386e-01,\n",
              "        -5.62836560e-01],\n",
              "       [-2.11650961e+00,  8.99032761e-01,  3.07484314e-01,\n",
              "         1.31846244e+00,  8.81712115e-02,  1.20944965e+00,\n",
              "        -9.49802368e-01,  1.20330507e+00,  4.72015322e-01,\n",
              "         1.51827145e+00],\n",
              "       [ 9.83016245e-02,  7.80090214e-02,  4.38106849e-01,\n",
              "        -5.94387547e-02,  1.84537299e-01, -2.18861564e-01,\n",
              "        -5.54935874e-01, -9.05222702e-01, -2.14419796e-01,\n",
              "        -3.94971034e-01],\n",
              "       [ 1.14904948e+00,  6.09048715e-01, -1.44690568e-01,\n",
              "        -3.40755782e-01,  1.17800144e-03,  8.41527477e-01,\n",
              "         2.11765398e-02,  4.65543499e-01,  4.53986938e-01,\n",
              "         1.30177089e-01],\n",
              "       [ 4.04198981e-01,  1.05010072e+00, -3.61474466e-01,\n",
              "        -9.08388766e-01, -4.70806234e-02,  1.70799437e+00,\n",
              "        -8.61378438e-01, -1.48731383e-01, -9.89852564e-01,\n",
              "        -4.73315962e-01],\n",
              "       [ 2.14788700e-01, -1.20593511e-01,  3.65704062e-01,\n",
              "        -9.12805229e-02, -4.28796661e-01,  3.38797392e-01,\n",
              "         8.05542656e-01, -5.45223488e-01,  1.98555982e-03,\n",
              "        -1.65069547e-01],\n",
              "       [-7.42510858e-01, -4.33356384e-01, -7.62677359e-01,\n",
              "        -4.42163344e-01, -6.99049564e-01,  1.33287826e+00,\n",
              "        -1.89913287e-01,  1.47036278e+00,  5.85475450e-01,\n",
              "        -6.02668900e-01],\n",
              "       [-1.25923257e-01, -9.60078304e-03, -3.48386236e-01,\n",
              "        -3.32974675e-02, -1.01999748e-02,  3.00858539e-02,\n",
              "        -3.15888753e-01, -3.06384927e-01,  2.08452381e-02,\n",
              "        -4.06138335e-01],\n",
              "       [ 1.78229546e-01, -1.23740169e-01, -2.66720823e-01,\n",
              "         4.40688609e-01,  2.09064284e-01, -2.70273424e-01,\n",
              "        -5.51395257e-01, -2.35849977e-01,  3.43930791e-01,\n",
              "        -4.99348907e-01],\n",
              "       [-3.12757762e-01,  6.92465561e-02, -2.31390147e-01,\n",
              "         2.71100454e-01,  1.08952170e-01, -1.33906360e-01,\n",
              "        -5.77543896e-01,  7.95705434e-02,  6.42421428e-02,\n",
              "        -3.76988903e-01],\n",
              "       [-2.40756859e-02,  1.40838736e-01, -2.68152204e-01,\n",
              "        -3.01163592e-01, -6.09408957e-03, -2.11496735e-01,\n",
              "        -3.25370038e-01, -3.58082754e-01,  1.68182505e-01,\n",
              "        -3.84116181e-01],\n",
              "       [ 1.07818827e+00, -1.12440868e+00,  8.01729393e-01,\n",
              "         2.84936092e+00, -3.01734897e+00,  2.68507419e-02,\n",
              "         1.07311450e+00,  8.55274508e-01, -6.77132912e-01,\n",
              "         1.34976353e+00],\n",
              "       [ 5.33775033e+00,  3.63469559e+00, -4.90125455e+00,\n",
              "        -4.86508330e-01, -3.05412973e-02, -1.71207888e+00,\n",
              "        -1.37222992e+00, -4.09031898e+00, -1.49183781e+00,\n",
              "         2.73690985e+00],\n",
              "       [-8.20198621e-01, -3.29907671e-01, -5.79972739e-01,\n",
              "        -3.46953576e-01,  2.16484539e-01, -3.88076097e-01,\n",
              "         1.41871604e+00,  8.65622260e-01, -4.01403219e-01,\n",
              "         1.41331036e+00],\n",
              "       [ 9.51390193e-01,  9.92791813e-01, -7.38951245e-01,\n",
              "        -5.77695762e-01, -2.03277835e+00, -1.28084313e+00,\n",
              "         5.69936923e-01,  2.66104754e-01,  7.11324060e-01,\n",
              "        -5.56904023e-01],\n",
              "       [-6.62385803e-01, -9.03456451e-01, -6.32754875e-01,\n",
              "         2.74211531e+00, -5.20015265e-01,  1.39363478e+00,\n",
              "         2.59078766e+00,  5.44460272e-02,  1.25215207e+00,\n",
              "         1.49526897e+00],\n",
              "       [ 5.23446251e-01,  6.56317426e-01,  6.16550495e-01,\n",
              "        -5.48901952e-01,  7.60123104e-01,  6.75015181e-01,\n",
              "        -8.29365952e-01, -6.21601507e-01, -4.40062674e-01,\n",
              "        -2.96106018e-01],\n",
              "       [-3.13838346e+00,  1.94026228e+00, -5.47135058e-01,\n",
              "         1.50646889e+00, -1.83256511e-01, -4.76165712e-02,\n",
              "         4.07668555e+00,  1.59599087e+00,  1.42088861e-01,\n",
              "         2.20253213e+00],\n",
              "       [-3.79429326e-01, -2.43375899e-01,  1.84917956e-01,\n",
              "        -1.09968106e+00,  1.43124307e-02,  7.02116820e-01,\n",
              "        -3.91326726e-01,  1.04069387e+00,  8.86409147e-01,\n",
              "        -4.89445487e-02],\n",
              "       [ 1.61206288e-01,  7.06307150e-01, -5.42465503e-01,\n",
              "        -1.33531615e+00, -7.88993955e-01,  9.42159522e-01,\n",
              "        -7.49223771e-02,  9.88070151e-01, -4.85945768e-02,\n",
              "        -8.51395055e-01],\n",
              "       [ 2.50840839e-01, -2.80858784e-01, -2.15493839e-02,\n",
              "         4.09664062e-01, -8.74426564e-02, -8.86353762e-01,\n",
              "        -2.74765262e-01,  5.60434204e-01,  5.01710478e-02,\n",
              "        -5.14042751e-01],\n",
              "       [ 6.80573278e-01,  2.94220239e-01, -1.14233890e+00,\n",
              "         5.22211131e-01,  3.76582801e-01, -1.57533393e-01,\n",
              "        -1.77708442e-01, -6.54556516e-01,  5.87881669e-01,\n",
              "        -5.27344608e-02],\n",
              "       [-5.58612492e-01,  1.35929591e+00,  9.38630231e-01,\n",
              "        -1.80398787e+00, -7.87985671e-01, -7.17735823e-01,\n",
              "         4.70164102e-01,  1.11614832e-01,  5.23204731e-01,\n",
              "        -5.52317429e-01],\n",
              "       [ 1.69663403e-02, -5.10185964e-02, -2.70226823e-01,\n",
              "        -1.02406269e-01,  3.98596586e-02,  4.38608838e-01,\n",
              "        -4.24269119e-01,  2.52710222e-01, -3.28859033e-03,\n",
              "        -5.05570133e-01],\n",
              "       [ 4.44952643e-02, -8.86157392e-01, -3.90209305e-01,\n",
              "        -1.68872259e+00,  6.28086447e-01,  1.91714807e+00,\n",
              "        -5.32047687e-01, -3.70200803e-01, -9.70464465e-01,\n",
              "        -3.24925053e-02],\n",
              "       [-2.86899963e-01, -1.05080808e-01, -4.98383647e-02,\n",
              "         4.20247245e-01,  8.94919093e-01,  6.83736284e-01,\n",
              "         7.64770567e-01, -2.05267694e-01,  1.26843238e-02,\n",
              "        -3.04129432e-01],\n",
              "       [-6.72662423e-01,  1.02631721e-01,  1.23853135e+00,\n",
              "        -1.56525801e+00,  4.27400924e-01,  1.39245003e+00,\n",
              "        -2.93293952e-01, -5.55557155e-01, -1.25408764e-01,\n",
              "        -2.83378655e-01],\n",
              "       [-4.03553824e-01, -4.22428313e-01,  1.07793858e-03,\n",
              "        -8.77004366e-01,  3.41967717e-01,  9.22374794e-01,\n",
              "        -3.59506286e-01, -1.97374962e-01,  6.24065572e-01,\n",
              "        -4.89370808e-01],\n",
              "       [-2.97816871e-01, -1.64086157e-01, -9.22712307e-02,\n",
              "        -8.26504783e-02,  1.22194060e-01, -8.27190384e-02,\n",
              "        -5.00754541e-01, -2.18506156e-01, -1.13662486e-02,\n",
              "        -5.14671644e-01],\n",
              "       [-2.69601146e-01, -1.59402257e-01, -1.02420299e-01,\n",
              "        -4.31398063e-02,  1.81733919e-01,  1.19335209e-01,\n",
              "        -4.68989780e-01, -2.08761629e-01, -1.08154657e-02,\n",
              "        -4.96854188e-01]])"
            ]
          },
          "metadata": {},
          "execution_count": 44
        }
      ]
    },
    {
      "cell_type": "code",
      "source": [
        "# Perform KMeans clustering\n",
        "kmeans = KMeans(n_clusters=5, random_state=42)\n",
        "kmeans.fit(df_coefficients_scaled)"
      ],
      "metadata": {
        "colab": {
          "base_uri": "https://localhost:8080/",
          "height": 129
        },
        "id": "2ksqPGNwLbL9",
        "outputId": "7f8acc97-d61a-42c8-c803-507c31a44d1a"
      },
      "execution_count": null,
      "outputs": [
        {
          "output_type": "stream",
          "name": "stderr",
          "text": [
            "/usr/local/lib/python3.10/dist-packages/sklearn/cluster/_kmeans.py:870: FutureWarning: The default value of `n_init` will change from 10 to 'auto' in 1.4. Set the value of `n_init` explicitly to suppress the warning\n",
            "  warnings.warn(\n"
          ]
        },
        {
          "output_type": "execute_result",
          "data": {
            "text/plain": [
              "KMeans(n_clusters=5, random_state=42)"
            ],
            "text/html": [
              "<style>#sk-container-id-2 {color: black;background-color: white;}#sk-container-id-2 pre{padding: 0;}#sk-container-id-2 div.sk-toggleable {background-color: white;}#sk-container-id-2 label.sk-toggleable__label {cursor: pointer;display: block;width: 100%;margin-bottom: 0;padding: 0.3em;box-sizing: border-box;text-align: center;}#sk-container-id-2 label.sk-toggleable__label-arrow:before {content: \"▸\";float: left;margin-right: 0.25em;color: #696969;}#sk-container-id-2 label.sk-toggleable__label-arrow:hover:before {color: black;}#sk-container-id-2 div.sk-estimator:hover label.sk-toggleable__label-arrow:before {color: black;}#sk-container-id-2 div.sk-toggleable__content {max-height: 0;max-width: 0;overflow: hidden;text-align: left;background-color: #f0f8ff;}#sk-container-id-2 div.sk-toggleable__content pre {margin: 0.2em;color: black;border-radius: 0.25em;background-color: #f0f8ff;}#sk-container-id-2 input.sk-toggleable__control:checked~div.sk-toggleable__content {max-height: 200px;max-width: 100%;overflow: auto;}#sk-container-id-2 input.sk-toggleable__control:checked~label.sk-toggleable__label-arrow:before {content: \"▾\";}#sk-container-id-2 div.sk-estimator input.sk-toggleable__control:checked~label.sk-toggleable__label {background-color: #d4ebff;}#sk-container-id-2 div.sk-label input.sk-toggleable__control:checked~label.sk-toggleable__label {background-color: #d4ebff;}#sk-container-id-2 input.sk-hidden--visually {border: 0;clip: rect(1px 1px 1px 1px);clip: rect(1px, 1px, 1px, 1px);height: 1px;margin: -1px;overflow: hidden;padding: 0;position: absolute;width: 1px;}#sk-container-id-2 div.sk-estimator {font-family: monospace;background-color: #f0f8ff;border: 1px dotted black;border-radius: 0.25em;box-sizing: border-box;margin-bottom: 0.5em;}#sk-container-id-2 div.sk-estimator:hover {background-color: #d4ebff;}#sk-container-id-2 div.sk-parallel-item::after {content: \"\";width: 100%;border-bottom: 1px solid gray;flex-grow: 1;}#sk-container-id-2 div.sk-label:hover label.sk-toggleable__label {background-color: #d4ebff;}#sk-container-id-2 div.sk-serial::before {content: \"\";position: absolute;border-left: 1px solid gray;box-sizing: border-box;top: 0;bottom: 0;left: 50%;z-index: 0;}#sk-container-id-2 div.sk-serial {display: flex;flex-direction: column;align-items: center;background-color: white;padding-right: 0.2em;padding-left: 0.2em;position: relative;}#sk-container-id-2 div.sk-item {position: relative;z-index: 1;}#sk-container-id-2 div.sk-parallel {display: flex;align-items: stretch;justify-content: center;background-color: white;position: relative;}#sk-container-id-2 div.sk-item::before, #sk-container-id-2 div.sk-parallel-item::before {content: \"\";position: absolute;border-left: 1px solid gray;box-sizing: border-box;top: 0;bottom: 0;left: 50%;z-index: -1;}#sk-container-id-2 div.sk-parallel-item {display: flex;flex-direction: column;z-index: 1;position: relative;background-color: white;}#sk-container-id-2 div.sk-parallel-item:first-child::after {align-self: flex-end;width: 50%;}#sk-container-id-2 div.sk-parallel-item:last-child::after {align-self: flex-start;width: 50%;}#sk-container-id-2 div.sk-parallel-item:only-child::after {width: 0;}#sk-container-id-2 div.sk-dashed-wrapped {border: 1px dashed gray;margin: 0 0.4em 0.5em 0.4em;box-sizing: border-box;padding-bottom: 0.4em;background-color: white;}#sk-container-id-2 div.sk-label label {font-family: monospace;font-weight: bold;display: inline-block;line-height: 1.2em;}#sk-container-id-2 div.sk-label-container {text-align: center;}#sk-container-id-2 div.sk-container {/* jupyter's `normalize.less` sets `[hidden] { display: none; }` but bootstrap.min.css set `[hidden] { display: none !important; }` so we also need the `!important` here to be able to override the default hidden behavior on the sphinx rendered scikit-learn.org. See: https://github.com/scikit-learn/scikit-learn/issues/21755 */display: inline-block !important;position: relative;}#sk-container-id-2 div.sk-text-repr-fallback {display: none;}</style><div id=\"sk-container-id-2\" class=\"sk-top-container\"><div class=\"sk-text-repr-fallback\"><pre>KMeans(n_clusters=5, random_state=42)</pre><b>In a Jupyter environment, please rerun this cell to show the HTML representation or trust the notebook. <br />On GitHub, the HTML representation is unable to render, please try loading this page with nbviewer.org.</b></div><div class=\"sk-container\" hidden><div class=\"sk-item\"><div class=\"sk-estimator sk-toggleable\"><input class=\"sk-toggleable__control sk-hidden--visually\" id=\"sk-estimator-id-2\" type=\"checkbox\" checked><label for=\"sk-estimator-id-2\" class=\"sk-toggleable__label sk-toggleable__label-arrow\">KMeans</label><div class=\"sk-toggleable__content\"><pre>KMeans(n_clusters=5, random_state=42)</pre></div></div></div></div></div>"
            ]
          },
          "metadata": {},
          "execution_count": 45
        }
      ]
    },
    {
      "cell_type": "code",
      "source": [
        "df_coefficients['cluster'] = kmeans.labels_"
      ],
      "metadata": {
        "colab": {
          "base_uri": "https://localhost:8080/"
        },
        "id": "bTrM75ruUpK8",
        "outputId": "3395327a-6106-4148-b555-1fbdeab1996b"
      },
      "execution_count": null,
      "outputs": [
        {
          "output_type": "stream",
          "name": "stderr",
          "text": [
            "<ipython-input-46-fe7f3dfe190d>:1: SettingWithCopyWarning: \n",
            "A value is trying to be set on a copy of a slice from a DataFrame.\n",
            "Try using .loc[row_indexer,col_indexer] = value instead\n",
            "\n",
            "See the caveats in the documentation: https://pandas.pydata.org/pandas-docs/stable/user_guide/indexing.html#returning-a-view-versus-a-copy\n",
            "  df_coefficients['cluster'] = kmeans.labels_\n"
          ]
        }
      ]
    },
    {
      "cell_type": "code",
      "source": [
        "df_coefficients"
      ],
      "metadata": {
        "colab": {
          "base_uri": "https://localhost:8080/",
          "height": 461
        },
        "id": "rHh0pWsFVdIV",
        "outputId": "97ee79e0-e375-45ac-a2cf-46bc3414e780"
      },
      "execution_count": null,
      "outputs": [
        {
          "output_type": "execute_result",
          "data": {
            "text/plain": [
              "             ADVENTURE  CULTURAL INFLUENCE  ENTREPRENEURSHIP     HERITAGE  \\\n",
              "Algeria     908.759183          376.382204       -381.309592  -406.210940   \n",
              "Argentina   232.211065         -281.440699         95.931236   176.426372   \n",
              "Australia   319.663125           68.780202        841.809316   374.974993   \n",
              "Austria     564.624117           90.284723         47.538636    24.178675   \n",
              "Azerbaijan -883.464414         -843.256928       1050.426296  -209.603382   \n",
              "...                ...                 ...               ...          ...   \n",
              "Iraq          0.000000           51.775109         59.511340   330.825402   \n",
              "Lithuania  -451.877239          247.778243       1290.937952 -1063.261472   \n",
              "Slovakia   -136.646850         -247.682541        108.177255  -580.016532   \n",
              "Cambodia    -12.787928           -3.903927         18.953914   -22.275208   \n",
              "Uzbekistan   20.263614            0.515927          9.253412     5.466502   \n",
              "\n",
              "                MOVERS  OPEN FOR BUSINESS        POWER  QUALITY OF LIFE  \\\n",
              "Algeria     321.026101          41.231562   555.255074       889.490544   \n",
              "Argentina  -141.616785          33.620972   699.184827        69.227089   \n",
              "Australia   104.885925         306.879257   527.416876      -539.709519   \n",
              "Austria    -291.516271         116.644301   161.855853       300.018864   \n",
              "Azerbaijan  299.651337         241.103379 -1096.905851      -785.800227   \n",
              "...                ...                ...          ...              ...   \n",
              "Iraq        528.343647         505.591868   895.352790         0.000000   \n",
              "Lithuania   212.648563         878.443638   146.693985      -270.851941   \n",
              "Slovakia    154.959162         631.138737    99.843867         6.102844   \n",
              "Cambodia      6.555382         102.362459    -0.099707       -10.236286   \n",
              "Uzbekistan   46.760110         208.662477    22.376208        -2.701592   \n",
              "\n",
              "            SOCIAL PURPOSE       const  cluster  \n",
              "Algeria         248.049478  194.088092        0  \n",
              "Argentina       186.158661  -12.499328        0  \n",
              "Australia      -450.128803    0.299929        0  \n",
              "Austria         -37.130420    1.631618        0  \n",
              "Azerbaijan     4126.967371  170.444385        0  \n",
              "...                    ...         ...      ...  \n",
              "Iraq             29.859390   41.974145        0  \n",
              "Lithuania       -99.899469   45.991951        0  \n",
              "Slovakia        604.342406    6.107347        0  \n",
              "Cambodia          7.260324    1.208549        0  \n",
              "Uzbekistan        7.777866    4.658400        0  \n",
              "\n",
              "[85 rows x 11 columns]"
            ],
            "text/html": [
              "\n",
              "  <div id=\"df-fdf5720e-f3b3-4666-a84f-d6a83c0b3140\" class=\"colab-df-container\">\n",
              "    <div>\n",
              "<style scoped>\n",
              "    .dataframe tbody tr th:only-of-type {\n",
              "        vertical-align: middle;\n",
              "    }\n",
              "\n",
              "    .dataframe tbody tr th {\n",
              "        vertical-align: top;\n",
              "    }\n",
              "\n",
              "    .dataframe thead th {\n",
              "        text-align: right;\n",
              "    }\n",
              "</style>\n",
              "<table border=\"1\" class=\"dataframe\">\n",
              "  <thead>\n",
              "    <tr style=\"text-align: right;\">\n",
              "      <th></th>\n",
              "      <th>ADVENTURE</th>\n",
              "      <th>CULTURAL INFLUENCE</th>\n",
              "      <th>ENTREPRENEURSHIP</th>\n",
              "      <th>HERITAGE</th>\n",
              "      <th>MOVERS</th>\n",
              "      <th>OPEN FOR BUSINESS</th>\n",
              "      <th>POWER</th>\n",
              "      <th>QUALITY OF LIFE</th>\n",
              "      <th>SOCIAL PURPOSE</th>\n",
              "      <th>const</th>\n",
              "      <th>cluster</th>\n",
              "    </tr>\n",
              "  </thead>\n",
              "  <tbody>\n",
              "    <tr>\n",
              "      <th>Algeria</th>\n",
              "      <td>908.759183</td>\n",
              "      <td>376.382204</td>\n",
              "      <td>-381.309592</td>\n",
              "      <td>-406.210940</td>\n",
              "      <td>321.026101</td>\n",
              "      <td>41.231562</td>\n",
              "      <td>555.255074</td>\n",
              "      <td>889.490544</td>\n",
              "      <td>248.049478</td>\n",
              "      <td>194.088092</td>\n",
              "      <td>0</td>\n",
              "    </tr>\n",
              "    <tr>\n",
              "      <th>Argentina</th>\n",
              "      <td>232.211065</td>\n",
              "      <td>-281.440699</td>\n",
              "      <td>95.931236</td>\n",
              "      <td>176.426372</td>\n",
              "      <td>-141.616785</td>\n",
              "      <td>33.620972</td>\n",
              "      <td>699.184827</td>\n",
              "      <td>69.227089</td>\n",
              "      <td>186.158661</td>\n",
              "      <td>-12.499328</td>\n",
              "      <td>0</td>\n",
              "    </tr>\n",
              "    <tr>\n",
              "      <th>Australia</th>\n",
              "      <td>319.663125</td>\n",
              "      <td>68.780202</td>\n",
              "      <td>841.809316</td>\n",
              "      <td>374.974993</td>\n",
              "      <td>104.885925</td>\n",
              "      <td>306.879257</td>\n",
              "      <td>527.416876</td>\n",
              "      <td>-539.709519</td>\n",
              "      <td>-450.128803</td>\n",
              "      <td>0.299929</td>\n",
              "      <td>0</td>\n",
              "    </tr>\n",
              "    <tr>\n",
              "      <th>Austria</th>\n",
              "      <td>564.624117</td>\n",
              "      <td>90.284723</td>\n",
              "      <td>47.538636</td>\n",
              "      <td>24.178675</td>\n",
              "      <td>-291.516271</td>\n",
              "      <td>116.644301</td>\n",
              "      <td>161.855853</td>\n",
              "      <td>300.018864</td>\n",
              "      <td>-37.130420</td>\n",
              "      <td>1.631618</td>\n",
              "      <td>0</td>\n",
              "    </tr>\n",
              "    <tr>\n",
              "      <th>Azerbaijan</th>\n",
              "      <td>-883.464414</td>\n",
              "      <td>-843.256928</td>\n",
              "      <td>1050.426296</td>\n",
              "      <td>-209.603382</td>\n",
              "      <td>299.651337</td>\n",
              "      <td>241.103379</td>\n",
              "      <td>-1096.905851</td>\n",
              "      <td>-785.800227</td>\n",
              "      <td>4126.967371</td>\n",
              "      <td>170.444385</td>\n",
              "      <td>0</td>\n",
              "    </tr>\n",
              "    <tr>\n",
              "      <th>...</th>\n",
              "      <td>...</td>\n",
              "      <td>...</td>\n",
              "      <td>...</td>\n",
              "      <td>...</td>\n",
              "      <td>...</td>\n",
              "      <td>...</td>\n",
              "      <td>...</td>\n",
              "      <td>...</td>\n",
              "      <td>...</td>\n",
              "      <td>...</td>\n",
              "      <td>...</td>\n",
              "    </tr>\n",
              "    <tr>\n",
              "      <th>Iraq</th>\n",
              "      <td>0.000000</td>\n",
              "      <td>51.775109</td>\n",
              "      <td>59.511340</td>\n",
              "      <td>330.825402</td>\n",
              "      <td>528.343647</td>\n",
              "      <td>505.591868</td>\n",
              "      <td>895.352790</td>\n",
              "      <td>0.000000</td>\n",
              "      <td>29.859390</td>\n",
              "      <td>41.974145</td>\n",
              "      <td>0</td>\n",
              "    </tr>\n",
              "    <tr>\n",
              "      <th>Lithuania</th>\n",
              "      <td>-451.877239</td>\n",
              "      <td>247.778243</td>\n",
              "      <td>1290.937952</td>\n",
              "      <td>-1063.261472</td>\n",
              "      <td>212.648563</td>\n",
              "      <td>878.443638</td>\n",
              "      <td>146.693985</td>\n",
              "      <td>-270.851941</td>\n",
              "      <td>-99.899469</td>\n",
              "      <td>45.991951</td>\n",
              "      <td>0</td>\n",
              "    </tr>\n",
              "    <tr>\n",
              "      <th>Slovakia</th>\n",
              "      <td>-136.646850</td>\n",
              "      <td>-247.682541</td>\n",
              "      <td>108.177255</td>\n",
              "      <td>-580.016532</td>\n",
              "      <td>154.959162</td>\n",
              "      <td>631.138737</td>\n",
              "      <td>99.843867</td>\n",
              "      <td>6.102844</td>\n",
              "      <td>604.342406</td>\n",
              "      <td>6.107347</td>\n",
              "      <td>0</td>\n",
              "    </tr>\n",
              "    <tr>\n",
              "      <th>Cambodia</th>\n",
              "      <td>-12.787928</td>\n",
              "      <td>-3.903927</td>\n",
              "      <td>18.953914</td>\n",
              "      <td>-22.275208</td>\n",
              "      <td>6.555382</td>\n",
              "      <td>102.362459</td>\n",
              "      <td>-0.099707</td>\n",
              "      <td>-10.236286</td>\n",
              "      <td>7.260324</td>\n",
              "      <td>1.208549</td>\n",
              "      <td>0</td>\n",
              "    </tr>\n",
              "    <tr>\n",
              "      <th>Uzbekistan</th>\n",
              "      <td>20.263614</td>\n",
              "      <td>0.515927</td>\n",
              "      <td>9.253412</td>\n",
              "      <td>5.466502</td>\n",
              "      <td>46.760110</td>\n",
              "      <td>208.662477</td>\n",
              "      <td>22.376208</td>\n",
              "      <td>-2.701592</td>\n",
              "      <td>7.777866</td>\n",
              "      <td>4.658400</td>\n",
              "      <td>0</td>\n",
              "    </tr>\n",
              "  </tbody>\n",
              "</table>\n",
              "<p>85 rows × 11 columns</p>\n",
              "</div>\n",
              "    <div class=\"colab-df-buttons\">\n",
              "\n",
              "  <div class=\"colab-df-container\">\n",
              "    <button class=\"colab-df-convert\" onclick=\"convertToInteractive('df-fdf5720e-f3b3-4666-a84f-d6a83c0b3140')\"\n",
              "            title=\"Convert this dataframe to an interactive table.\"\n",
              "            style=\"display:none;\">\n",
              "\n",
              "  <svg xmlns=\"http://www.w3.org/2000/svg\" height=\"24px\" viewBox=\"0 -960 960 960\">\n",
              "    <path d=\"M120-120v-720h720v720H120Zm60-500h600v-160H180v160Zm220 220h160v-160H400v160Zm0 220h160v-160H400v160ZM180-400h160v-160H180v160Zm440 0h160v-160H620v160ZM180-180h160v-160H180v160Zm440 0h160v-160H620v160Z\"/>\n",
              "  </svg>\n",
              "    </button>\n",
              "\n",
              "  <style>\n",
              "    .colab-df-container {\n",
              "      display:flex;\n",
              "      gap: 12px;\n",
              "    }\n",
              "\n",
              "    .colab-df-convert {\n",
              "      background-color: #E8F0FE;\n",
              "      border: none;\n",
              "      border-radius: 50%;\n",
              "      cursor: pointer;\n",
              "      display: none;\n",
              "      fill: #1967D2;\n",
              "      height: 32px;\n",
              "      padding: 0 0 0 0;\n",
              "      width: 32px;\n",
              "    }\n",
              "\n",
              "    .colab-df-convert:hover {\n",
              "      background-color: #E2EBFA;\n",
              "      box-shadow: 0px 1px 2px rgba(60, 64, 67, 0.3), 0px 1px 3px 1px rgba(60, 64, 67, 0.15);\n",
              "      fill: #174EA6;\n",
              "    }\n",
              "\n",
              "    .colab-df-buttons div {\n",
              "      margin-bottom: 4px;\n",
              "    }\n",
              "\n",
              "    [theme=dark] .colab-df-convert {\n",
              "      background-color: #3B4455;\n",
              "      fill: #D2E3FC;\n",
              "    }\n",
              "\n",
              "    [theme=dark] .colab-df-convert:hover {\n",
              "      background-color: #434B5C;\n",
              "      box-shadow: 0px 1px 3px 1px rgba(0, 0, 0, 0.15);\n",
              "      filter: drop-shadow(0px 1px 2px rgba(0, 0, 0, 0.3));\n",
              "      fill: #FFFFFF;\n",
              "    }\n",
              "  </style>\n",
              "\n",
              "    <script>\n",
              "      const buttonEl =\n",
              "        document.querySelector('#df-fdf5720e-f3b3-4666-a84f-d6a83c0b3140 button.colab-df-convert');\n",
              "      buttonEl.style.display =\n",
              "        google.colab.kernel.accessAllowed ? 'block' : 'none';\n",
              "\n",
              "      async function convertToInteractive(key) {\n",
              "        const element = document.querySelector('#df-fdf5720e-f3b3-4666-a84f-d6a83c0b3140');\n",
              "        const dataTable =\n",
              "          await google.colab.kernel.invokeFunction('convertToInteractive',\n",
              "                                                    [key], {});\n",
              "        if (!dataTable) return;\n",
              "\n",
              "        const docLinkHtml = 'Like what you see? Visit the ' +\n",
              "          '<a target=\"_blank\" href=https://colab.research.google.com/notebooks/data_table.ipynb>data table notebook</a>'\n",
              "          + ' to learn more about interactive tables.';\n",
              "        element.innerHTML = '';\n",
              "        dataTable['output_type'] = 'display_data';\n",
              "        await google.colab.output.renderOutput(dataTable, element);\n",
              "        const docLink = document.createElement('div');\n",
              "        docLink.innerHTML = docLinkHtml;\n",
              "        element.appendChild(docLink);\n",
              "      }\n",
              "    </script>\n",
              "  </div>\n",
              "\n",
              "\n",
              "<div id=\"df-06cd4795-5691-4f7d-a3e8-dd6121e762a0\">\n",
              "  <button class=\"colab-df-quickchart\" onclick=\"quickchart('df-06cd4795-5691-4f7d-a3e8-dd6121e762a0')\"\n",
              "            title=\"Suggest charts\"\n",
              "            style=\"display:none;\">\n",
              "\n",
              "<svg xmlns=\"http://www.w3.org/2000/svg\" height=\"24px\"viewBox=\"0 0 24 24\"\n",
              "     width=\"24px\">\n",
              "    <g>\n",
              "        <path d=\"M19 3H5c-1.1 0-2 .9-2 2v14c0 1.1.9 2 2 2h14c1.1 0 2-.9 2-2V5c0-1.1-.9-2-2-2zM9 17H7v-7h2v7zm4 0h-2V7h2v10zm4 0h-2v-4h2v4z\"/>\n",
              "    </g>\n",
              "</svg>\n",
              "  </button>\n",
              "\n",
              "<style>\n",
              "  .colab-df-quickchart {\n",
              "      --bg-color: #E8F0FE;\n",
              "      --fill-color: #1967D2;\n",
              "      --hover-bg-color: #E2EBFA;\n",
              "      --hover-fill-color: #174EA6;\n",
              "      --disabled-fill-color: #AAA;\n",
              "      --disabled-bg-color: #DDD;\n",
              "  }\n",
              "\n",
              "  [theme=dark] .colab-df-quickchart {\n",
              "      --bg-color: #3B4455;\n",
              "      --fill-color: #D2E3FC;\n",
              "      --hover-bg-color: #434B5C;\n",
              "      --hover-fill-color: #FFFFFF;\n",
              "      --disabled-bg-color: #3B4455;\n",
              "      --disabled-fill-color: #666;\n",
              "  }\n",
              "\n",
              "  .colab-df-quickchart {\n",
              "    background-color: var(--bg-color);\n",
              "    border: none;\n",
              "    border-radius: 50%;\n",
              "    cursor: pointer;\n",
              "    display: none;\n",
              "    fill: var(--fill-color);\n",
              "    height: 32px;\n",
              "    padding: 0;\n",
              "    width: 32px;\n",
              "  }\n",
              "\n",
              "  .colab-df-quickchart:hover {\n",
              "    background-color: var(--hover-bg-color);\n",
              "    box-shadow: 0 1px 2px rgba(60, 64, 67, 0.3), 0 1px 3px 1px rgba(60, 64, 67, 0.15);\n",
              "    fill: var(--button-hover-fill-color);\n",
              "  }\n",
              "\n",
              "  .colab-df-quickchart-complete:disabled,\n",
              "  .colab-df-quickchart-complete:disabled:hover {\n",
              "    background-color: var(--disabled-bg-color);\n",
              "    fill: var(--disabled-fill-color);\n",
              "    box-shadow: none;\n",
              "  }\n",
              "\n",
              "  .colab-df-spinner {\n",
              "    border: 2px solid var(--fill-color);\n",
              "    border-color: transparent;\n",
              "    border-bottom-color: var(--fill-color);\n",
              "    animation:\n",
              "      spin 1s steps(1) infinite;\n",
              "  }\n",
              "\n",
              "  @keyframes spin {\n",
              "    0% {\n",
              "      border-color: transparent;\n",
              "      border-bottom-color: var(--fill-color);\n",
              "      border-left-color: var(--fill-color);\n",
              "    }\n",
              "    20% {\n",
              "      border-color: transparent;\n",
              "      border-left-color: var(--fill-color);\n",
              "      border-top-color: var(--fill-color);\n",
              "    }\n",
              "    30% {\n",
              "      border-color: transparent;\n",
              "      border-left-color: var(--fill-color);\n",
              "      border-top-color: var(--fill-color);\n",
              "      border-right-color: var(--fill-color);\n",
              "    }\n",
              "    40% {\n",
              "      border-color: transparent;\n",
              "      border-right-color: var(--fill-color);\n",
              "      border-top-color: var(--fill-color);\n",
              "    }\n",
              "    60% {\n",
              "      border-color: transparent;\n",
              "      border-right-color: var(--fill-color);\n",
              "    }\n",
              "    80% {\n",
              "      border-color: transparent;\n",
              "      border-right-color: var(--fill-color);\n",
              "      border-bottom-color: var(--fill-color);\n",
              "    }\n",
              "    90% {\n",
              "      border-color: transparent;\n",
              "      border-bottom-color: var(--fill-color);\n",
              "    }\n",
              "  }\n",
              "</style>\n",
              "\n",
              "  <script>\n",
              "    async function quickchart(key) {\n",
              "      const quickchartButtonEl =\n",
              "        document.querySelector('#' + key + ' button');\n",
              "      quickchartButtonEl.disabled = true;  // To prevent multiple clicks.\n",
              "      quickchartButtonEl.classList.add('colab-df-spinner');\n",
              "      try {\n",
              "        const charts = await google.colab.kernel.invokeFunction(\n",
              "            'suggestCharts', [key], {});\n",
              "      } catch (error) {\n",
              "        console.error('Error during call to suggestCharts:', error);\n",
              "      }\n",
              "      quickchartButtonEl.classList.remove('colab-df-spinner');\n",
              "      quickchartButtonEl.classList.add('colab-df-quickchart-complete');\n",
              "    }\n",
              "    (() => {\n",
              "      let quickchartButtonEl =\n",
              "        document.querySelector('#df-06cd4795-5691-4f7d-a3e8-dd6121e762a0 button');\n",
              "      quickchartButtonEl.style.display =\n",
              "        google.colab.kernel.accessAllowed ? 'block' : 'none';\n",
              "    })();\n",
              "  </script>\n",
              "</div>\n",
              "    </div>\n",
              "  </div>\n"
            ],
            "application/vnd.google.colaboratory.intrinsic+json": {
              "type": "dataframe",
              "variable_name": "df_coefficients",
              "summary": "{\n  \"name\": \"df_coefficients\",\n  \"rows\": 85,\n  \"fields\": [\n    {\n      \"column\": \"ADVENTURE\",\n      \"properties\": {\n        \"dtype\": \"number\",\n        \"std\": 1178.3391936671492,\n        \"min\": -3340.19149489392,\n        \"max\": 6588.643798565962,\n        \"num_unique_values\": 85,\n        \"samples\": [\n          355.945121882108,\n          908.7591834748159,\n          -624.6992645782827\n        ],\n        \"semantic_type\": \"\",\n        \"description\": \"\"\n      }\n    },\n    {\n      \"column\": \"CULTURAL INFLUENCE\",\n      \"properties\": {\n        \"dtype\": \"number\",\n        \"std\": 949.2271326499415,\n        \"min\": -4423.977230008073,\n        \"max\": 3580.728811144108,\n        \"num_unique_values\": 85,\n        \"samples\": [\n          102.78966740110509,\n          376.38220415942453,\n          -160.37757248742338\n        ],\n        \"semantic_type\": \"\",\n        \"description\": \"\"\n      }\n    },\n    {\n      \"column\": \"ENTREPRENEURSHIP\",\n      \"properties\": {\n        \"dtype\": \"number\",\n        \"std\": 961.4746674106805,\n        \"min\": -4577.482928740361,\n        \"max\": 3282.653205790466,\n        \"num_unique_values\": 85,\n        \"samples\": [\n          -151.13643337689038,\n          -381.30959222433967,\n          -447.1922616607835\n        ],\n        \"semantic_type\": \"\",\n        \"description\": \"\"\n      }\n    },\n    {\n      \"column\": \"HERITAGE\",\n      \"properties\": {\n        \"dtype\": \"number\",\n        \"std\": 706.2990435111734,\n        \"min\": -1486.1625686932175,\n        \"max\": 2147.839989738495,\n        \"num_unique_values\": 85,\n        \"samples\": [\n          -36.14638145153782,\n          -406.2109396958617,\n          -207.8508836413779\n        ],\n        \"semantic_type\": \"\",\n        \"description\": \"\"\n      }\n    },\n    {\n      \"column\": \"MOVERS\",\n      \"properties\": {\n        \"dtype\": \"number\",\n        \"std\": 679.2648568170868,\n        \"min\": -4533.523716956388,\n        \"max\": 1856.9417157794323,\n        \"num_unique_values\": 85,\n        \"samples\": [\n          -49.041528461413144,\n          321.0261011731815,\n          70.22572219358318\n        ],\n        \"semantic_type\": \"\",\n        \"description\": \"\"\n      }\n    },\n    {\n      \"column\": \"OPEN FOR BUSINESS\",\n      \"properties\": {\n        \"dtype\": \"number\",\n        \"std\": 529.2186919572085,\n        \"min\": -1163.1590310491615,\n        \"max\": 1979.05075229736,\n        \"num_unique_values\": 85,\n        \"samples\": [\n          376.6311937400237,\n          41.231561980142146,\n          -58.28479934765846\n        ],\n        \"semantic_type\": \"\",\n        \"description\": \"\"\n      }\n    },\n    {\n      \"column\": \"POWER\",\n      \"properties\": {\n        \"dtype\": \"number\",\n        \"std\": 711.7731567552601,\n        \"min\": -1724.3509457485343,\n        \"max\": 3238.777282404291,\n        \"num_unique_values\": 85,\n        \"samples\": [\n          54.01937926669494,\n          555.2550736567928,\n          1358.0675176214472\n        ],\n        \"semantic_type\": \"\",\n        \"description\": \"\"\n      }\n    },\n    {\n      \"column\": \"QUALITY OF LIFE\",\n      \"properties\": {\n        \"dtype\": \"number\",\n        \"std\": 777.8121086651815,\n        \"min\": -3004.0118136842093,\n        \"max\": 2364.4881667641002,\n        \"num_unique_values\": 85,\n        \"samples\": [\n          354.11915244137316,\n          889.4905438742198,\n          828.0369639053602\n        ],\n        \"semantic_type\": \"\",\n        \"description\": \"\"\n      }\n    },\n    {\n      \"column\": \"SOCIAL PURPOSE\",\n      \"properties\": {\n        \"dtype\": \"number\",\n        \"std\": 945.2243459502598,\n        \"min\": -3673.3006916146314,\n        \"max\": 4126.967370634367,\n        \"num_unique_values\": 85,\n        \"samples\": [\n          14.850477430123831,\n          248.04947754150817,\n          -359.2370390674591\n        ],\n        \"semantic_type\": \"\",\n        \"description\": \"\"\n      }\n    },\n    {\n      \"column\": \"const\",\n      \"properties\": {\n        \"dtype\": \"number\",\n        \"std\": 194.77106437049386,\n        \"min\": -69.88727698734894,\n        \"max\": 1164.779381986464,\n        \"num_unique_values\": 85,\n        \"samples\": [\n          2.970801400084582,\n          194.08809244726274,\n          374.5082091679439\n        ],\n        \"semantic_type\": \"\",\n        \"description\": \"\"\n      }\n    },\n    {\n      \"column\": \"cluster\",\n      \"properties\": {\n        \"dtype\": \"int32\",\n        \"num_unique_values\": 5,\n        \"samples\": [\n          2,\n          3,\n          1\n        ],\n        \"semantic_type\": \"\",\n        \"description\": \"\"\n      }\n    }\n  ]\n}"
            }
          },
          "metadata": {},
          "execution_count": 47
        }
      ]
    },
    {
      "cell_type": "code",
      "source": [
        "from sklearn.decomposition import PCA\n",
        "import matplotlib.pyplot as plt"
      ],
      "metadata": {
        "id": "6Nd9SyooXNz8"
      },
      "execution_count": null,
      "outputs": []
    },
    {
      "cell_type": "code",
      "source": [
        "#Performed Cluster visualization on the data above\n",
        "pca = PCA(n_components=2)\n",
        "X_pca = pca.fit_transform(df_coefficients_scaled)\n",
        "df_pca = pd.DataFrame(X_pca, columns=['PC1', 'PC2'])\n",
        "df_pca['Cluster'] = kmeans.labels_\n",
        "\n",
        "plt.figure(figsize=(10, 6))\n",
        "for cluster in range(5):\n",
        "    plt.scatter(df_pca[df_pca['Cluster'] == cluster]['PC1'], df_pca[df_pca['Cluster'] == cluster]['PC2'], label=f'Cluster {cluster}')\n",
        "plt.title('Clusters Visualized in 2D')\n",
        "plt.xlabel('Principal Component 1')\n",
        "plt.ylabel('Principal Component 2')\n",
        "plt.legend()\n",
        "plt.show()"
      ],
      "metadata": {
        "colab": {
          "base_uri": "https://localhost:8080/",
          "height": 564
        },
        "id": "KPxdpVWLWzUV",
        "outputId": "f947d5c0-dea4-4d01-a8dc-ec2b3054afa1"
      },
      "execution_count": null,
      "outputs": [
        {
          "output_type": "display_data",
          "data": {
            "text/plain": [
              "<Figure size 1000x600 with 1 Axes>"
            ],
            "image/png": "[encoded data removed]"
          },
          "metadata": {}
        }
      ]
    },
    {
      "cell_type": "code",
      "source": [
        "from mpl_toolkits import mplot3d\n",
        "\n",
        "# Perform PCA\n",
        "pca = PCA(n_components=3)\n",
        "X_pca = pca.fit_transform(df_coefficients_scaled)\n",
        "df_pca = pd.DataFrame(X_pca, columns=['PC1', 'PC2', 'PC3'])\n",
        "df_pca['Cluster'] = kmeans.labels_\n",
        "\n",
        "# Plot 3D scatter plot\n",
        "fig = plt.figure(figsize=(10, 8))\n",
        "ax = plt.axes(projection='3d')\n",
        "\n",
        "for cluster in range(5):\n",
        "    cluster_data = df_pca[df_pca['Cluster'] == cluster]\n",
        "    ax.scatter3D(cluster_data['PC1'], cluster_data['PC2'], cluster_data['PC3'], label=f'Cluster {cluster}')\n",
        "\n",
        "ax.set_title('Clusters Visualized in 3D')\n",
        "ax.set_xlabel('Principal Component 1')\n",
        "ax.set_ylabel('Principal Component 2')\n",
        "ax.set_zlabel('Principal Component 3')\n",
        "ax.legend()\n",
        "plt.show()"
      ],
      "metadata": {
        "colab": {
          "base_uri": "https://localhost:8080/",
          "height": 675
        },
        "id": "5fe_FTDgIpN1",
        "outputId": "a3d87e6d-f678-471e-b88a-edcc211ddfa8"
      },
      "execution_count": null,
      "outputs": [
        {
          "output_type": "display_data",
          "data": {
            "text/plain": [
              "<Figure size 1000x800 with 1 Axes>"
            ],
            "image/png": "[encoded data removed]"
          },
          "metadata": {}
        }
      ]
    },
    {
      "cell_type": "code",
      "source": [],
      "metadata": {
        "id": "nYJHBz0NZOev"
      },
      "execution_count": null,
      "outputs": []
    }
  ],
  "metadata": {
    "colab": {
      "provenance": [],
      "toc_visible": true
    },
    "kernelspec": {
      "display_name": "Python 3",
      "name": "python3"
    },
    "language_info": {
      "name": "python"
    }
  },
  "nbformat": 4,
  "nbformat_minor": 0
}